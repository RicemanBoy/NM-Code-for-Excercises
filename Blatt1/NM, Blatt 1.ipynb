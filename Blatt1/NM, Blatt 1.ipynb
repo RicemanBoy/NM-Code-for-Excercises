{
 "cells": [
  {
   "cell_type": "code",
   "execution_count": 1,
   "id": "48bc538a",
   "metadata": {},
   "outputs": [],
   "source": [
    "import numpy as np"
   ]
  },
  {
   "cell_type": "code",
   "execution_count": 3,
   "id": "88dec1b7",
   "metadata": {},
   "outputs": [
    {
     "name": "stdout",
     "output_type": "stream",
     "text": [
      "Potenzansatz:  1860497.9999994645\n",
      "Rekursionsansatz:  1860497.9999994624\n",
      "Potenzansatz:  5.374904998555718e-07\n",
      "Rekursionsansatz:  5.374453024842296e-07\n"
     ]
    }
   ],
   "source": [
    "#Aufgabe 5\n",
    "def recursion(n,y_1):\n",
    "    if n == 0:\n",
    "        return 1\n",
    "    elif n == 1:\n",
    "        return y_1\n",
    "    elif n == 2:\n",
    "        return 1 - y_1\n",
    "    else:\n",
    "        return recursion(n-2,y_1) - recursion(n-1,y_1)\n",
    "    \n",
    "\n",
    "\n",
    "def potential(n,y_1):\n",
    "    return y_1**n\n",
    "    \n",
    "\n",
    "x = (-1+np.sqrt(5))/2    #~ +0,62\n",
    "\n",
    "y = (-1-np.sqrt(5))/2    #~ -1,62\n",
    "\n",
    "print(\"Potenzansatz: \", potential(30,y))\n",
    "\n",
    "print(\"Rekursionsansatz: \", recursion(30,y))   #ab n=4 sieht man bei der letzten NKST eine Abweichung um 1\n",
    "\n",
    "print(\"Potenzansatz: \", potential(30,x))\n",
    "\n",
    "print(\"Rekursionsansatz: \", recursion(30,x))     #hier bereits ab n=2\n",
    "\n",
    "#"
   ]
  },
  {
   "cell_type": "code",
   "execution_count": 4,
   "id": "0e9f3710",
   "metadata": {},
   "outputs": [
    {
     "name": "stdout",
     "output_type": "stream",
     "text": [
      "Das ist die kleinste Zahl, die verschieden von 0 ist:  5e-324\n",
      "Ab i = 1076 wird es als 0 dargestellt:  0.0\n"
     ]
    }
   ],
   "source": [
    "#Aufgabe 6\n",
    "\n",
    "def klein(i):\n",
    "    k = 1\n",
    "    k = k*((1/2)**i)\n",
    "    return k\n",
    "\n",
    "print(\"Das ist die kleinste Zahl, die verschieden von 0 ist: \", klein(1075))\n",
    "\n",
    "print(\"Ab i = 1076 wird es als 0 dargestellt: \", klein(1076))\n",
    "\n",
    "#IEEE-754: binary64, kleinste denormalisierte Zahl: ≈ 4,9 · 10−324"
   ]
  },
  {
   "cell_type": "code",
   "execution_count": null,
   "id": "9f901a11",
   "metadata": {},
   "outputs": [],
   "source": []
  }
 ],
 "metadata": {
  "kernelspec": {
   "display_name": "Python 3 (ipykernel)",
   "language": "python",
   "name": "python3"
  },
  "language_info": {
   "codemirror_mode": {
    "name": "ipython",
    "version": 3
   },
   "file_extension": ".py",
   "mimetype": "text/x-python",
   "name": "python",
   "nbconvert_exporter": "python",
   "pygments_lexer": "ipython3",
   "version": "3.11.5"
  }
 },
 "nbformat": 4,
 "nbformat_minor": 5
}
