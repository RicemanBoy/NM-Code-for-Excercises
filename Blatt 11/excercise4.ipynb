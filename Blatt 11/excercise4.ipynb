{
 "cells": [
  {
   "cell_type": "code",
   "execution_count": 1,
   "metadata": {},
   "outputs": [],
   "source": [
    "import numpy as np\n",
    "\n",
    "import matplotlib.pyplot as plt\n",
    "\n",
    "import sys\n",
    "sys.path.insert(0,\"C:/Users/Dustin/Desktop/Numerische Methoden/VS Code/NM-Code-for-Excercises\")\n",
    "import shortcuts as s"
   ]
  },
  {
   "cell_type": "code",
   "execution_count": 16,
   "metadata": {},
   "outputs": [],
   "source": [
    "f = np.array([0,0,1,0,0,0,-2,0],dtype=complex)\n",
    "\n",
    "N = len(f)\n",
    "\n",
    "pi = np.pi\n",
    "\n",
    "#f = np.array([0,1,2,3,4,5,6,7])\n",
    "\n",
    "f[1], f[4] = f[4], f[1]\n",
    "f[3], f[6] = f[6], f[3]\n",
    "\n",
    "F = f"
   ]
  },
  {
   "cell_type": "code",
   "execution_count": 74,
   "metadata": {},
   "outputs": [],
   "source": [
    "def W(n,k):\n",
    "    return np.exp((2*pi*1j*k)/n)"
   ]
  },
  {
   "cell_type": "code",
   "execution_count": 90,
   "metadata": {},
   "outputs": [
    {
     "ename": "IndexError",
     "evalue": "index 4 is out of bounds for axis 0 with size 4",
     "output_type": "error",
     "traceback": [
      "\u001b[1;31m---------------------------------------------------------------------------\u001b[0m",
      "\u001b[1;31mIndexError\u001b[0m                                Traceback (most recent call last)",
      "Cell \u001b[1;32mIn[90], line 24\u001b[0m\n\u001b[0;32m     21\u001b[0m             \u001b[38;5;66;03m#F[i], F[i+1] = F[i] + W(2**(i+1),0)*F[i+1], F[i+1] + W(2**(i+1),1)*F[i+1]\u001b[39;00m\n\u001b[0;32m     22\u001b[0m     \u001b[38;5;28;01mreturn\u001b[39;00m F\n\u001b[1;32m---> 24\u001b[0m \u001b[38;5;28mprint\u001b[39m(np\u001b[38;5;241m.\u001b[39mround(\u001b[43mfft\u001b[49m\u001b[43m(\u001b[49m\u001b[43mF\u001b[49m\u001b[43m)\u001b[49m,\u001b[38;5;241m2\u001b[39m))\n",
      "Cell \u001b[1;32mIn[90], line 19\u001b[0m, in \u001b[0;36mfft\u001b[1;34m(F)\u001b[0m\n\u001b[0;32m     17\u001b[0m \u001b[38;5;28;01mfor\u001b[39;00m i \u001b[38;5;129;01min\u001b[39;00m \u001b[38;5;28mrange\u001b[39m(\u001b[38;5;241m1\u001b[39m,number,\u001b[38;5;241m1\u001b[39m):\n\u001b[0;32m     18\u001b[0m     \u001b[38;5;28;01mfor\u001b[39;00m k \u001b[38;5;129;01min\u001b[39;00m \u001b[38;5;28mrange\u001b[39m(\u001b[38;5;241m2\u001b[39m\u001b[38;5;241m*\u001b[39m\u001b[38;5;241m*\u001b[39ml):\n\u001b[1;32m---> 19\u001b[0m         Fnew[\u001b[38;5;241m2\u001b[39m\u001b[38;5;241m*\u001b[39ml\u001b[38;5;241m+\u001b[39mk] \u001b[38;5;241m=\u001b[39m \u001b[43mF\u001b[49m\u001b[43m[\u001b[49m\u001b[38;5;241;43m2\u001b[39;49m\u001b[38;5;241;43m*\u001b[39;49m\u001b[43ml\u001b[49m\u001b[43m]\u001b[49m \u001b[38;5;241m+\u001b[39m W(\u001b[38;5;241m2\u001b[39m\u001b[38;5;241m*\u001b[39m\u001b[38;5;241m*\u001b[39m(l),k)\u001b[38;5;241m*\u001b[39mF[\u001b[38;5;241m2\u001b[39m\u001b[38;5;241m*\u001b[39ml\u001b[38;5;241m+\u001b[39m\u001b[38;5;241m1\u001b[39m]\n\u001b[0;32m     20\u001b[0m F \u001b[38;5;241m=\u001b[39m Fnew\n\u001b[0;32m     21\u001b[0m     \u001b[38;5;66;03m#F[i], F[i+1] = F[i] + W(2**(i+1),0)*F[i+1], F[i+1] + W(2**(i+1),1)*F[i+1]\u001b[39;00m\n",
      "\u001b[1;31mIndexError\u001b[0m: index 4 is out of bounds for axis 0 with size 4"
     ]
    }
   ],
   "source": [
    "f = np.array([0,1,0,-2],dtype=complex)\n",
    "\n",
    "N = len(f)\n",
    "\n",
    "f[1], f[2] = f[2], f[1]\n",
    "\n",
    "F = f\n",
    "\n",
    "dim = int(np.log2(N)) + 1\n",
    "\n",
    "def fft(F):\n",
    "    N = len(F)\n",
    "    dim = int(np.log2(N))\n",
    "    Fnew = F\n",
    "    for l in range(1,dim+1,1):\n",
    "        number = int(np.round(N/(2**l)))+1\n",
    "        for i in range(1,number,1):\n",
    "            for k in range(2**l):\n",
    "                Fnew[2*l+k] = F[2*l] + W(2**(l),k)*F[2*l+1]\n",
    "        F = Fnew\n",
    "            #F[i], F[i+1] = F[i] + W(2**(i+1),0)*F[i+1], F[i+1] + W(2**(i+1),1)*F[i+1]\n",
    "    return F\n",
    "\n",
    "print(np.round(fft(F),2))"
   ]
  },
  {
   "cell_type": "code",
   "execution_count": null,
   "metadata": {},
   "outputs": [],
   "source": [
    "f = np.zeros(32)\n",
    "\n",
    "for i in range(32):\n",
    "    if np.mod(i,2) == 0:\n",
    "        f[i] = 1 - 1j\n",
    "    else:\n",
    "        f[i] = (2*i)/32"
   ]
  }
 ],
 "metadata": {
  "kernelspec": {
   "display_name": "Python 3",
   "language": "python",
   "name": "python3"
  },
  "language_info": {
   "codemirror_mode": {
    "name": "ipython",
    "version": 3
   },
   "file_extension": ".py",
   "mimetype": "text/x-python",
   "name": "python",
   "nbconvert_exporter": "python",
   "pygments_lexer": "ipython3",
   "version": "3.12.1"
  }
 },
 "nbformat": 4,
 "nbformat_minor": 2
}
