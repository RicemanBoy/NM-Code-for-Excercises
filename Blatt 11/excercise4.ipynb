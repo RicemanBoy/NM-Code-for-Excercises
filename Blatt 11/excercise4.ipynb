{
 "cells": [
  {
   "cell_type": "code",
   "execution_count": 306,
   "metadata": {},
   "outputs": [],
   "source": [
    "import numpy as np\n",
    "\n",
    "import matplotlib.pyplot as plt\n",
    "\n",
    "import sys\n",
    "sys.path.insert(0,\"C:/Users/Dustin/Desktop/Numerische Methoden/VS Code/NM-Code-for-Excercises\")\n",
    "import shortcuts as s"
   ]
  },
  {
   "cell_type": "code",
   "execution_count": 344,
   "metadata": {},
   "outputs": [],
   "source": [
    "pi = np.pi\n",
    "\n",
    "def W(n,k):\n",
    "    return np.exp((2*pi*1j*k)/n)"
   ]
  },
  {
   "cell_type": "code",
   "execution_count": 308,
   "metadata": {},
   "outputs": [
    {
     "name": "stdout",
     "output_type": "stream",
     "text": [
      "[ 0  8  4 12  2 10  6 14  1  9  5 13  3 11  7 15]\n",
      "[0 2 1 3]\n",
      "[0 1]\n"
     ]
    }
   ],
   "source": [
    "def bit_reverse(f):\n",
    "    j = 0\n",
    "    N = len(f)\n",
    "    for i in range(N):\n",
    "        if j>i:\n",
    "            f[j], f[i] = f[i], f[j]\n",
    "        m = int(N/2)\n",
    "        while m>=2 and j>=m:\n",
    "            j = j-m\n",
    "            m = int(m/2)\n",
    "        j = j + m\n",
    "    return f\n",
    "\n",
    "f = np.array([0,1,2,3,4,5,6,7,8,9,10,11,12,13,14,15])\n",
    "g = np.array([0,1,2,3])\n",
    "h = np.array([0,1])\n",
    "\n",
    "print(bit_reverse(f))\n",
    "print(bit_reverse(g))\n",
    "print(bit_reverse(h))"
   ]
  },
  {
   "cell_type": "code",
   "execution_count": 360,
   "metadata": {},
   "outputs": [
    {
     "name": "stdout",
     "output_type": "stream",
     "text": [
      "[-1.+0.j  0.+1.j  0.-0.j -0.+0.j]\n"
     ]
    }
   ],
   "source": [
    "F = np.array([0,1,0,-2],dtype=complex)\n",
    "\n",
    "def fft(F):\n",
    "    bit_reverse(F)\n",
    "    N = len(F)\n",
    "    steps = int(np.log2(N))                           #steps = 2, =how many steps I gotta do, also number of indices in binary\n",
    "    Fnew = F\n",
    "    for l in range(1,steps+1,1):                          #l = 1,2\n",
    "        blocks = int(np.round(N/(2**l)))                    #blocks = 2,1\n",
    "        elem = 2**l                         # #Elements per Block, elem = 2,4\n",
    "        for i in range(blocks):                          #i = (0,1),0\n",
    "            for k in range(2**l):                               #k = (0,1),(0,1,2,3)\n",
    "                Fnew[i*elem+k] = F[i*elem+np.mod(k,2**(l-1))] + W(elem,k)*F[i*elem+np.mod(k,2**(l-1))+2**(l-1)]\n",
    "        F = Fnew\n",
    "    return F\n",
    "\n",
    "print(np.round(fft(F),2))"
   ]
  },
  {
   "cell_type": "code",
   "execution_count": 359,
   "metadata": {},
   "outputs": [
    {
     "name": "stdout",
     "output_type": "stream",
     "text": [
      "[0.+0.j 0.+0.j 0.+0.j 0.+0.j]\n"
     ]
    }
   ],
   "source": [
    "F = np.array([0,1,0,-2],dtype=complex)                  #aus dem Skript übernommen, für Step L, S.142\n",
    "\n",
    "def fft_new(F):\n",
    "    bit_reverse(F)\n",
    "    N = len(F)\n",
    "    half = int(N/2) - 1\n",
    "    steps = int(np.log2(N))                    \n",
    "    Fnew = F\n",
    "    for l in range(1,steps+1,1):                                                 \n",
    "        for k in range(l):                              \n",
    "            Fnew[k] = F[k] + W(2**(l+1),k)*F[half+k]\n",
    "            Fnew[l+k] = F[k] - W(2**(l+1),k)*F[half+k]\n",
    "        F = Fnew\n",
    "    return F\n",
    "\n",
    "print(np.round(fft_new(F),2))"
   ]
  },
  {
   "cell_type": "code",
   "execution_count": 358,
   "metadata": {},
   "outputs": [
    {
     "name": "stdout",
     "output_type": "stream",
     "text": [
      "[ 0.+0.j  0.+0.j  1.+0.j -2.+0.j] \n",
      "\n",
      "[ 0.+0.j  0.+0.j  1.+0.j -2.+0.j]\n",
      "[ 0.+0.j  0.+0.j -1.+0.j  1.-0.j]\n",
      "\n",
      "\n",
      "[-1.+0.j  0.+1.j  0.-0.j -0.+0.j]\n",
      "\n",
      "\n",
      "[-1.+0.j  0.+1.j  0.-0.j -0.+0.j]\n"
     ]
    }
   ],
   "source": [
    "F = np.array([0,1,0,-2],dtype=complex)\n",
    "\n",
    "F = bit_reverse(F)\n",
    "\n",
    "N = len(F)\n",
    "Fnew = F\n",
    "\n",
    "print(Fnew,\"\\n\")\n",
    "\n",
    "for i in range(2):                  #First Step\n",
    "    for k in range(2):\n",
    "        Fnew[i*2+k] = F[i*2] + W(2,k)*F[i*2+1]\n",
    "    print(np.round(Fnew,2))\n",
    "F = Fnew\n",
    "\n",
    "print(\"\\n\")\n",
    "\n",
    "for i in range(1):                  #Second Step\n",
    "    for k in range(4):\n",
    "        Fnew[k] = F[np.mod(k,2)] + W(4,k)*F[np.mod(k,2)+2]\n",
    "    print(np.round(Fnew,2))\n",
    "F = Fnew\n",
    "\n",
    "print(\"\\n\")\n",
    "\n",
    "print(np.round(F,2))"
   ]
  },
  {
   "cell_type": "code",
   "execution_count": 311,
   "metadata": {},
   "outputs": [
    {
     "name": "stdout",
     "output_type": "stream",
     "text": [
      "[ 1.+0.j      1.+0.0625j  1.+0.125j   1.+0.1875j  1.+0.25j    1.+0.3125j\n",
      "  1.+0.375j   1.+0.4375j  1.+0.5j     1.+0.5625j  1.+0.625j   1.+0.6875j\n",
      "  1.+0.75j    1.+0.8125j  1.+0.875j   1.+0.9375j -1.+1.j     -1.+0.9375j\n",
      " -1.+0.875j  -1.+0.8125j -1.+0.75j   -1.+0.6875j -1.+0.625j  -1.+0.5625j\n",
      " -1.+0.5j    -1.+0.4375j -1.+0.375j  -1.+0.3125j -1.+0.25j   -1.+0.1875j\n",
      " -1.+0.125j  -1.+0.0625j]\n"
     ]
    }
   ],
   "source": [
    "f = np.zeros(32,dtype=complex)\n",
    "\n",
    "for i in range(32):\n",
    "    if i < 16:\n",
    "        f[i] = 1 + (2j/32)*i\n",
    "    else:\n",
    "        f[i] = -1 + 2j - (2j/32)*i\n",
    "\n",
    "print(f)"
   ]
  }
 ],
 "metadata": {
  "kernelspec": {
   "display_name": "Python 3",
   "language": "python",
   "name": "python3"
  },
  "language_info": {
   "codemirror_mode": {
    "name": "ipython",
    "version": 3
   },
   "file_extension": ".py",
   "mimetype": "text/x-python",
   "name": "python",
   "nbconvert_exporter": "python",
   "pygments_lexer": "ipython3",
   "version": "3.12.1"
  }
 },
 "nbformat": 4,
 "nbformat_minor": 2
}
