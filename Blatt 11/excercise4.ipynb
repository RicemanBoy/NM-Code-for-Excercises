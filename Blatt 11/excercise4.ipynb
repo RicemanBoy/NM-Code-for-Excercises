{
 "cells": [
  {
   "cell_type": "code",
   "execution_count": 1,
   "metadata": {},
   "outputs": [],
   "source": [
    "import numpy as np\n",
    "\n",
    "import matplotlib.pyplot as plt\n",
    "\n",
    "import sys\n",
    "sys.path.insert(0,\"C:/Users/Dustin/Desktop/Numerische Methoden/VS Code/NM-Code-for-Excercises\")\n",
    "import shortcuts as s"
   ]
  },
  {
   "cell_type": "code",
   "execution_count": 16,
   "metadata": {},
   "outputs": [],
   "source": [
    "f = np.array([0,0,1,0,0,0,-2,0],dtype=complex)\n",
    "\n",
    "N = len(f)\n",
    "\n",
    "pi = np.pi\n",
    "\n",
    "#f = np.array([0,1,2,3,4,5,6,7])\n",
    "\n",
    "f[1], f[4] = f[4], f[1]\n",
    "f[3], f[6] = f[6], f[3]\n",
    "\n",
    "F = f"
   ]
  },
  {
   "cell_type": "code",
   "execution_count": 8,
   "metadata": {},
   "outputs": [],
   "source": [
    "def W(n,k):\n",
    "    return np.exp((2*pi*1j*k)/n)"
   ]
  },
  {
   "cell_type": "code",
   "execution_count": 44,
   "metadata": {},
   "outputs": [
    {
     "name": "stdout",
     "output_type": "stream",
     "text": [
      "[-10.-6.j  -8.+0.j -18.-6.j  -2.-6.j -18.-6.j  -2.-6.j -18.-6.j  -2.-6.j]\n"
     ]
    }
   ],
   "source": [
    "f = np.array([0,0,1,0,0,0,-2,0],dtype=complex)\n",
    "\n",
    "f[1], f[4] = f[4], f[1]\n",
    "f[3], f[6] = f[6], f[3]\n",
    "\n",
    "F = f\n",
    "\n",
    "Fnew = F\n",
    "\n",
    "dim = int(np.log2(N)) + 1\n",
    "\n",
    "for l in range(1,dim,1):                          #because 2**3 = 8\n",
    "    number = int(np.round(N/(2**l)))\n",
    "    for i in range(1,number+1,1):\n",
    "        for k in range(2**l):\n",
    "            Fnew[k] = F[i-1] + W(2**i,k)*F[i]\n",
    "    F = Fnew\n",
    "        #F[i], F[i+1] = F[i] + W(2**(i+1),0)*F[i+1], F[i+1] + W(2**(i+1),1)*F[i+1]\n",
    "    \n",
    "print(F)\n"
   ]
  }
 ],
 "metadata": {
  "kernelspec": {
   "display_name": "Python 3",
   "language": "python",
   "name": "python3"
  },
  "language_info": {
   "codemirror_mode": {
    "name": "ipython",
    "version": 3
   },
   "file_extension": ".py",
   "mimetype": "text/x-python",
   "name": "python",
   "nbconvert_exporter": "python",
   "pygments_lexer": "ipython3",
   "version": "3.12.1"
  }
 },
 "nbformat": 4,
 "nbformat_minor": 2
}
