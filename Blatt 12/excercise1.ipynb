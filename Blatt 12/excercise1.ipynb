{
 "cells": [
  {
   "cell_type": "code",
   "execution_count": 11,
   "metadata": {},
   "outputs": [],
   "source": [
    "import numpy as np\n",
    "\n",
    "import matplotlib.pyplot as plt\n",
    "\n",
    "import copy\n",
    "\n",
    "import sys\n",
    "sys.path.insert(0,\"C:/Users/Dustin/Desktop/Numerische Methoden/VS Code/NM-Code-for-Excercises\")\n",
    "import shortcuts as s"
   ]
  },
  {
   "cell_type": "code",
   "execution_count": 24,
   "metadata": {},
   "outputs": [],
   "source": [
    "f = np.zeros(32,dtype=complex)\n",
    "\n",
    "for i in range(1,16,1):\n",
    "    f[i] = 1\n",
    "for i in range(17,32,1):\n",
    "    f[i] = -1\n",
    "\n",
    "g = np.zeros(32,dtype=complex)\n",
    "\n",
    "for i in range(16):\n",
    "    g[i] = i/16\n",
    "for i in range(16,32,1):\n",
    "    g[i] = 2 - i/16"
   ]
  },
  {
   "cell_type": "code",
   "execution_count": null,
   "metadata": {},
   "outputs": [],
   "source": [
    "h = np.asfarray([f[i]+1j*g[i] for i in range(32)],dtype=complex)\n",
    "\n",
    "H = s.fft(h)\n",
    "\n"
   ]
  }
 ],
 "metadata": {
  "kernelspec": {
   "display_name": "Python 3",
   "language": "python",
   "name": "python3"
  },
  "language_info": {
   "codemirror_mode": {
    "name": "ipython",
    "version": 3
   },
   "file_extension": ".py",
   "mimetype": "text/x-python",
   "name": "python",
   "nbconvert_exporter": "python",
   "pygments_lexer": "ipython3",
   "version": "3.11.2"
  }
 },
 "nbformat": 4,
 "nbformat_minor": 2
}
