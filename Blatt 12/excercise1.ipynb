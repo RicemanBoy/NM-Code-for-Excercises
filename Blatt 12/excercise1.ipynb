{
 "cells": [
  {
   "cell_type": "code",
   "execution_count": 45,
   "metadata": {},
   "outputs": [],
   "source": [
    "import numpy as np\n",
    "\n",
    "import sys\n",
    "sys.path.insert(0,\"C:/Users/Dustin/Desktop/Numerische Methoden/VS Code/NM-Code-for-Excercises\")\n",
    "import shortcuts as s"
   ]
  },
  {
   "cell_type": "code",
   "execution_count": 46,
   "metadata": {},
   "outputs": [
    {
     "name": "stdout",
     "output_type": "stream",
     "text": [
      "F (FFT with numpy):  [0. +0.j   0.-20.31j 0. +0.j   0. -6.59j 0. +0.j   0. -3.74j 0. +0.j\n",
      " 0. -2.44j 0. +0.j   0. -1.64j 0. +0.j   0. -1.07j 0. +0.j   0. -0.61j\n",
      " 0. +0.j   0. -0.2j  0. +0.j   0. +0.2j  0. +0.j   0. +0.61j 0. +0.j\n",
      " 0. +1.07j 0. +0.j   0. +1.64j 0. +0.j   0. +2.44j 0. +0.j   0. +3.74j\n",
      " 0. +0.j   0. +6.59j 0. +0.j   0.+20.31j] \n",
      "\n",
      "G (FFT with numpy):  [16.  +0.j -6.51+0.j  0.  +0.j -0.74+0.j  0.  +0.j -0.28+0.j  0.  +0.j\n",
      " -0.16+0.j  0.  +0.j -0.1 +0.j  0.  +0.j -0.08+0.j  0.  +0.j -0.07+0.j\n",
      "  0.  +0.j -0.06+0.j  0.  +0.j -0.06+0.j  0.  +0.j -0.07+0.j  0.  +0.j\n",
      " -0.08+0.j  0.  +0.j -0.1 +0.j  0.  +0.j -0.16+0.j  0.  +0.j -0.28+0.j\n",
      "  0.  +0.j -0.74+0.j  0.  +0.j -6.51+0.j] \n",
      "\n"
     ]
    }
   ],
   "source": [
    "f = np.zeros(32,dtype=complex)\n",
    "\n",
    "for i in range(1,16,1):\n",
    "    f[i] = 1\n",
    "for i in range(17,32,1):\n",
    "    f[i] = -1\n",
    "\n",
    "g = np.zeros(32,dtype=complex)\n",
    "\n",
    "for i in range(16):\n",
    "    g[i] = i/16\n",
    "for i in range(16,32,1):\n",
    "    g[i] = 2 - i/16\n",
    "\n",
    "\n",
    "print(\"F (FFT with numpy): \", np.round(np.fft.fft(f),2),\"\\n\")\n",
    "\n",
    "#print(\"F (FFT with my code): \", np.round(s.fft(f),2),\"\\n\")\n",
    "\n",
    "print(\"G (FFT with numpy): \", np.round(np.fft.fft(g),2),\"\\n\")\n",
    "\n",
    "#print(\"G (FFT with my code): \", np.round(s.fft(g),2),\"\\n\")\n"
   ]
  },
  {
   "cell_type": "code",
   "execution_count": 47,
   "metadata": {},
   "outputs": [
    {
     "name": "stdout",
     "output_type": "stream",
     "text": [
      "H: (FFT with numpy) [0.+16.j 0.-27.j 0. +0.j 0. -7.j 0. +0.j 0. -4.j 0. +0.j 0. -3.j 0. +0.j\n",
      " 0. -2.j 0. +0.j 0. -1.j 0. +0.j 0. -1.j 0. +0.j 0. -0.j 0. +0.j 0. +0.j\n",
      " 0. +0.j 0. +1.j 0. +0.j 0. +1.j 0. +0.j 0. +2.j 0. +0.j 0. +2.j 0. +0.j\n",
      " 0. +3.j 0. +0.j 0. +6.j 0. +0.j 0.+14.j] \n",
      "\n",
      "F: (FFT with numpy) [0. +0.j   0.-20.31j 0. +0.j   0. -6.59j 0. +0.j   0. -3.74j 0. +0.j\n",
      " 0. -2.44j 0. +0.j   0. -1.64j 0. +0.j   0. -1.07j 0. +0.j   0. -0.61j\n",
      " 0. +0.j   0. -0.2j  0. +0.j   0. +0.2j  0. +0.j   0. +0.61j 0. +0.j\n",
      " 0. +1.07j 0. +0.j   0. +1.64j 0. +0.j   0. +2.44j 0. +0.j   0. +3.74j\n",
      " 0. +0.j   0. +6.59j 0. +0.j   0.+20.31j] \n",
      "\n",
      "G: (FFT with numpy) [16.  +0.j -6.51+0.j  0.  +0.j -0.74+0.j  0.  +0.j -0.28+0.j  0.  +0.j\n",
      " -0.16+0.j  0.  +0.j -0.1 +0.j  0.  +0.j -0.08+0.j  0.  +0.j -0.07+0.j\n",
      "  0.  +0.j -0.06+0.j  0.  +0.j -0.06+0.j  0.  +0.j -0.07+0.j  0.  +0.j\n",
      " -0.08+0.j  0.  +0.j -0.1 +0.j  0.  +0.j -0.16+0.j  0.  +0.j -0.28+0.j\n",
      "  0.  +0.j -0.74+0.j  0.  +0.j -6.51+0.j] \n",
      "\n"
     ]
    }
   ],
   "source": [
    "f = np.zeros(32,dtype=complex)\n",
    "\n",
    "for i in range(1,16,1):\n",
    "    f[i] = 1\n",
    "for i in range(17,32,1):\n",
    "    f[i] = -1\n",
    "\n",
    "g = np.zeros(32,dtype=complex)\n",
    "\n",
    "for i in range(16):\n",
    "    g[i] = i/16\n",
    "for i in range(16,32,1):\n",
    "    g[i] = 2 - i/16\n",
    "\n",
    "\n",
    "h = np.asfarray([f[i]+1j*g[i] for i in range(32)],dtype=complex)\n",
    "\n",
    "H = np.fft.fft(h)\n",
    "#H = s.fft(h)\n",
    "\n",
    "print(\"H: (FFT with numpy)\", np.round(np.fft.fft(h)),\"\\n\")\n",
    "\n",
    "F = np.zeros(32,dtype=complex)\n",
    "G = np.zeros(32,dtype=complex)\n",
    "\n",
    "for n in range(32):                                             #Calculate F and G with formula from script\n",
    "    if n == 0:\n",
    "        F[n] = np.real(H[n])\n",
    "        G[n] = np.imag(H[n])\n",
    "        continue\n",
    "    F[n] = np.real(0.5*(H[n]+np.conjugate(H[32-n])))\n",
    "    F[n] += np.imag(0.5*(H[n]+np.conjugate(H[32-n])))*1j\n",
    "    G[n] = np.real((1/(2j))*(H[n]-np.conjugate(H[32-n])))\n",
    "    G[n] += np.imag((1/(2j))*(H[n]-np.conjugate(H[32-n])))*1j\n",
    "\n",
    "\n",
    "print(\"F: (FFT with numpy)\", np.round(F,2) ,\"\\n\")                       #FFT with numpy\n",
    "print(\"G: (FFT with numpy)\", np.round(G,2) ,\"\\n\")"
   ]
  },
  {
   "cell_type": "code",
   "execution_count": 48,
   "metadata": {},
   "outputs": [
    {
     "name": "stdout",
     "output_type": "stream",
     "text": [
      "[ 0.+0.j  1.+0.j  1.+0.j  1.+0.j  1.+0.j  1.+0.j  1.+0.j  1.+0.j  1.+0.j\n",
      "  1.+0.j  1.+0.j  1.+0.j  1.+0.j  1.+0.j  1.+0.j  1.+0.j  0.+0.j -1.+0.j\n",
      " -1.+0.j -1.+0.j -1.+0.j -1.+0.j -1.+0.j -1.+0.j -1.+0.j -1.+0.j -1.+0.j\n",
      " -1.+0.j -1.+0.j -1.+0.j -1.+0.j -1.+0.j]\n"
     ]
    }
   ],
   "source": [
    "print(np.fft.ifft(F))"
   ]
  },
  {
   "cell_type": "code",
   "execution_count": 49,
   "metadata": {},
   "outputs": [
    {
     "name": "stdout",
     "output_type": "stream",
     "text": [
      "H:  [ 0. +16.j  -1.4+13.6j -0.  +0.1j -1.8 +5.6j -0.1 +0.2j -1.8 +3.2j\n",
      " -0.2 +0.3j -1.7 +2.j  -0.3 +0.3j -1.5 +1.2j -0.5 +0.3j -1.4 +0.7j\n",
      " -0.7 +0.2j -1.2 +0.3j -0.9 +0.1j -1.  +0.1j -1.1 -0.1j -0.8 -0.1j\n",
      " -1.3 -0.3j -0.6 -0.2j -1.5 -0.7j -0.5 -0.3j -1.7 -1.3j -0.3 -0.3j\n",
      " -1.8 -2.1j -0.2 -0.2j -2.  -3.6j -0.1 -0.2j -2.2 -6.9j -0.  -0.1j\n",
      " -2.6-25.7j  0. +16.j ] \n",
      "\n",
      "F:  [ 0.  +0.j  -0.7 -1.2j -1.3+12.9j -0.9 +2.8j -1.1 +3.5j -0.9 +1.7j\n",
      " -1.1 +1.9j -0.9 +1.1j -1.1 +1.2j -0.9 +0.7j -1.1 +0.8j -0.9 +0.5j\n",
      " -1.1 +0.5j -0.9 +0.3j -1.1 +0.2j -0.9 +0.1j -1.1 +0.j  -0.9 -0.1j\n",
      " -1.1 -0.2j -0.9 -0.3j -1.1 -0.5j -0.9 -0.5j -1.1 -0.8j -0.9 -0.7j\n",
      " -1.1 -1.2j -0.9 -1.1j -1.1 -1.9j -0.9 -1.7j -1.1 -3.5j -0.9 -2.8j\n",
      " -1.3-12.9j -0.7 +1.2j] \n",
      "\n",
      "G:  [ 16. +0.j   14.8+0.7j -12.8-1.3j   2.7+0.9j  -3.3-1.j    1.5+0.8j\n",
      "  -1.7-0.9j   0.9+0.8j  -0.9-0.8j   0.5+0.6j  -0.5-0.6j   0.2+0.5j\n",
      "  -0.2-0.4j   0. +0.3j  -0.1-0.2j  -0. +0.1j  -0.1+0.j   -0. -0.1j\n",
      "  -0.1+0.2j   0. -0.3j  -0.2+0.4j   0.2-0.5j  -0.5+0.6j   0.5-0.6j\n",
      "  -0.9+0.8j   0.9-0.8j  -1.7+0.9j   1.5-0.8j  -3.3+1.j    2.7-0.9j\n",
      " -12.8+1.3j  14.8-0.7j] \n",
      "\n"
     ]
    }
   ],
   "source": [
    "f = np.zeros(32,dtype=complex)\n",
    "\n",
    "for i in range(1,16,1):\n",
    "    f[i] = 1\n",
    "for i in range(17,32,1):\n",
    "    f[i] = -1\n",
    "\n",
    "g = np.zeros(32,dtype=complex)\n",
    "\n",
    "for i in range(16):\n",
    "    g[i] = i/16\n",
    "for i in range(16,32,1):\n",
    "    g[i] = 2 - i/16\n",
    "\n",
    "\n",
    "def e(j,n):\n",
    "    pi = np.pi\n",
    "    return np.exp((2*pi*1j*n*j)/31)\n",
    "\n",
    "for n in range(32):                                 #formula from the script for H \n",
    "    sum = 0\n",
    "    for j in range(32):\n",
    "        sum += e(j,n)*(f[j]+1j*g[j])\n",
    "    H[n] = sum\n",
    "\n",
    "\n",
    "print(\"H: \", np.round(H,1),\"\\n\")\n",
    "\n",
    "F = np.zeros(32,dtype=complex)\n",
    "G = np.zeros(32,dtype=complex)\n",
    "\n",
    "for n in range(32):                                             #Calculate F and G with formula from script\n",
    "    if n == 0:\n",
    "        F[n] = np.real(H[n])\n",
    "        G[n] = np.imag(H[n])\n",
    "        continue\n",
    "    F[n] = np.real(0.5*(H[n]+np.conjugate(H[32-n])))\n",
    "    F[n] += np.imag(0.5*(H[n]+np.conjugate(H[32-n])))*1j\n",
    "    G[n] = np.real((1/(2j))*(H[n]-np.conjugate(H[32-n])))\n",
    "    G[n] += np.imag((1/(2j))*(H[n]-np.conjugate(H[32-n])))*1j\n",
    "\n",
    "print(\"F: \", np.round(F,1) ,\"\\n\")\n",
    "print(\"G: \", np.round(G,1) ,\"\\n\")"
   ]
  }
 ],
 "metadata": {
  "kernelspec": {
   "display_name": "Python 3",
   "language": "python",
   "name": "python3"
  },
  "language_info": {
   "codemirror_mode": {
    "name": "ipython",
    "version": 3
   },
   "file_extension": ".py",
   "mimetype": "text/x-python",
   "name": "python",
   "nbconvert_exporter": "python",
   "pygments_lexer": "ipython3",
   "version": "3.12.1"
  }
 },
 "nbformat": 4,
 "nbformat_minor": 2
}
