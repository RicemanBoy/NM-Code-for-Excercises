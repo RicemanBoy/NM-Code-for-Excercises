{
 "cells": [
  {
   "cell_type": "code",
   "execution_count": 9,
   "metadata": {},
   "outputs": [],
   "source": [
    "import numpy as np\n",
    "\n",
    "import matplotlib.pyplot as plt\n",
    "\n",
    "import copy\n",
    "\n",
    "import sys\n",
    "sys.path.insert(0,\"C:/Users/Dustin/Desktop/Numerische Methoden/VS Code/NM-Code-for-Excercises\")\n",
    "import shortcuts as s"
   ]
  },
  {
   "cell_type": "code",
   "execution_count": 27,
   "metadata": {},
   "outputs": [
    {
     "name": "stdout",
     "output_type": "stream",
     "text": [
      "[ 0. +0.j    0.+20.31j  0. +0.j    0. +6.59j  0. +0.j    0. +3.74j\n",
      "  0. +0.j    0. +2.44j  0. +0.j   -0. +1.64j  0. +0.j   -0. +1.07j\n",
      "  0. +0.j   -0. +0.61j  0. +0.j    0. +0.2j   0. +0.j    0. -0.2j\n",
      "  0. +0.j   -0. -0.61j  0. +0.j   -0. -1.07j  0. +0.j   -0. -1.64j\n",
      "  0. +0.j   -0. -2.44j  0. +0.j   -0. -3.74j  0. +0.j   -0. -6.59j\n",
      "  0. +0.j   -0.-20.31j] \n",
      "\n",
      "[16.  +0.j -6.51+0.j -0.  +0.j -0.74+0.j -0.  +0.j -0.28+0.j -0.  +0.j\n",
      " -0.16-0.j -0.  +0.j -0.1 -0.j -0.  +0.j -0.08-0.j -0.  +0.j -0.07-0.j\n",
      " -0.  +0.j -0.06-0.j  0.  +0.j -0.06+0.j  0.  +0.j -0.07-0.j  0.  +0.j\n",
      " -0.08-0.j  0.  +0.j -0.1 -0.j  0.  +0.j -0.16-0.j  0.  +0.j -0.28+0.j\n",
      "  0.  +0.j -0.74-0.j  0.  +0.j -6.51+0.j]\n"
     ]
    }
   ],
   "source": [
    "f = np.zeros(32,dtype=complex)\n",
    "\n",
    "for i in range(1,16,1):\n",
    "    f[i] = 1\n",
    "for i in range(17,32,1):\n",
    "    f[i] = -1\n",
    "\n",
    "g = np.zeros(32,dtype=complex)\n",
    "\n",
    "for i in range(16):\n",
    "    g[i] = i/16\n",
    "for i in range(16,32,1):\n",
    "    g[i] = 2 - i/16\n",
    "\n",
    "print(np.round(s.fft(f),2),\"\\n\")\n",
    "print(np.round(s.fft(g),2))"
   ]
  },
  {
   "cell_type": "code",
   "execution_count": 29,
   "metadata": {},
   "outputs": [
    {
     "name": "stdout",
     "output_type": "stream",
     "text": [
      "H:  [ 0.+16.j    0.+13.8j  -0. -0.j    0. +5.85j -0. -0.j    0. +3.46j\n",
      " -0. -0.j    0. +2.28j -0. -0.j   -0. +1.54j -0. -0.j    0. +0.99j\n",
      " -0. -0.j   -0. +0.54j -0. -0.j    0. +0.13j -0. +0.j    0. -0.26j\n",
      " -0. +0.j   -0. -0.67j -0. +0.j   -0. -1.15j -0. +0.j   -0. -1.75j\n",
      " -0. +0.j   -0. -2.59j -0. +0.j   -0. -4.02j -0. +0.j   -0. -7.33j\n",
      " -0. +0.j   -0.-26.81j] \n",
      "\n",
      "F:  [ 21.405+0.j   6.9  +0.j   3.665+0.j   2.925+0.j   2.01 +0.j   1.73 +0.j\n",
      "   1.295+0.j   1.14 +0.j   0.875+0.j   0.77 +0.j   0.575+0.j   0.495+0.j\n",
      "   0.335+0.j   0.27 +0.j   0.13 +0.j   0.065+0.j  -0.065+0.j  -0.13 +0.j\n",
      "  -0.27 +0.j  -0.335+0.j  -0.495+0.j  -0.575+0.j  -0.77 +0.j  -0.875+0.j\n",
      "  -1.14 +0.j  -1.295+0.j  -1.73 +0.j  -2.01 +0.j  -2.925+0.j  -3.665+0.j\n",
      "  -6.9  +0.j -21.405+0.j] \n",
      "\n",
      "G:  [-5.405+0.j  6.9  +0.j -3.665+0.j  2.925+0.j -2.01 +0.j  1.73 +0.j\n",
      " -1.295+0.j  1.14 +0.j -0.875+0.j  0.77 +0.j -0.575+0.j  0.495+0.j\n",
      " -0.335+0.j  0.27 +0.j -0.13 +0.j  0.065+0.j  0.065+0.j -0.13 +0.j\n",
      "  0.27 +0.j -0.335+0.j  0.495+0.j -0.575+0.j  0.77 +0.j -0.875+0.j\n",
      "  1.14 +0.j -1.295+0.j  1.73 +0.j -2.01 +0.j  2.925+0.j -3.665+0.j\n",
      "  6.9  +0.j -5.405+0.j]\n"
     ]
    }
   ],
   "source": [
    "f = np.zeros(32,dtype=complex)\n",
    "\n",
    "for i in range(1,16,1):\n",
    "    f[i] = 1\n",
    "for i in range(17,32,1):\n",
    "    f[i] = -1\n",
    "\n",
    "g = np.zeros(32,dtype=complex)\n",
    "\n",
    "for i in range(16):\n",
    "    g[i] = i/16\n",
    "for i in range(16,32,1):\n",
    "    g[i] = 2 - i/16\n",
    "\n",
    "\n",
    "h = np.asfarray([f[i]+1j*g[i] for i in range(32)],dtype=complex)\n",
    "\n",
    "H = np.round(s.fft(h),2)\n",
    "\n",
    "print(\"H: \", H,\"\\n\")\n",
    "\n",
    "F = np.zeros(32,dtype=complex)\n",
    "G = np.zeros(32,dtype=complex)\n",
    "\n",
    "for n in range(32):\n",
    "    F[n] = (1/2)*(np.real(H[n])+np.real(H[31-n]))\n",
    "    F[n] += (1/2)*(np.imag(H[n])-np.imag(H[31-n]))\n",
    "    G[n] = np.real(H[n]/(2j)) - np.real(np.conjugate(H[31-n])/(2j))\n",
    "    G[n] += np.imag(H[n]/(2j)) - np.imag(np.conjugate(H[31-n])/(2j))\n",
    "\n",
    "\n",
    "print(\"F: \", F,\"\\n\")\n",
    "print(\"G: \", G)\n"
   ]
  }
 ],
 "metadata": {
  "kernelspec": {
   "display_name": "Python 3",
   "language": "python",
   "name": "python3"
  },
  "language_info": {
   "codemirror_mode": {
    "name": "ipython",
    "version": 3
   },
   "file_extension": ".py",
   "mimetype": "text/x-python",
   "name": "python",
   "nbconvert_exporter": "python",
   "pygments_lexer": "ipython3",
   "version": "3.12.1"
  }
 },
 "nbformat": 4,
 "nbformat_minor": 2
}
