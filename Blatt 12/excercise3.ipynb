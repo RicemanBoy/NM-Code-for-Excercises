{
 "cells": [
  {
   "cell_type": "code",
   "execution_count": 40,
   "metadata": {},
   "outputs": [],
   "source": [
    "import numpy as np\n",
    "\n",
    "import matplotlib.pyplot as plt\n",
    "\n",
    "import sys\n",
    "sys.path.insert(0,\"C:/Users/Dustin/Desktop/Numerische Methoden/VS Code/NM-Code-for-Excercises\")\n",
    "import shortcuts as short"
   ]
  },
  {
   "cell_type": "code",
   "execution_count": 41,
   "metadata": {},
   "outputs": [
    {
     "name": "stdout",
     "output_type": "stream",
     "text": [
      "[44.11 35.05 31.35 38.91 42.8  44.95 47.4  48.35]\n"
     ]
    }
   ],
   "source": [
    "r = np.asfarray([0, 0.5, 1.5, 3.0, 2, 1, 0.2, 0])\n",
    "s = np.asfarray([7, 5.5, 4.8, 6, 6.5, 6.3, 3, 1.5])\n",
    "\n",
    "r_s_conv = np.zeros(8,dtype=float)\n",
    "\n",
    "\n",
    "for j in range(0,8,1):                         # no zero padding\n",
    "    sum = 0\n",
    "    for k in range(-3,5,1):\n",
    "        sum += s[j-k-3]*r[k+3]\n",
    "    r_s_conv[j] = sum\n",
    "\n",
    "print(r_s_conv)"
   ]
  },
  {
   "cell_type": "code",
   "execution_count": 42,
   "metadata": {},
   "outputs": [
    {
     "name": "stdout",
     "output_type": "stream",
     "text": [
      "[ 84.8  121.6  128.    88.    42.32  15.2   16.4   41.6 ]\n"
     ]
    }
   ],
   "source": [
    "r = np.asfarray([0, 0.5, 1.5, 3.0, 2, 1, 0.2, 0])           # no zero padding, with FFT\n",
    "s = np.asfarray([7, 5.5, 4.8, 6, 6.5, 6.3, 3, 1.5])\n",
    "\n",
    "R = np.fft.fft(r)\n",
    "S = np.fft.fft(r)\n",
    "\n",
    "R_S = R*S \n",
    "\n",
    "r_s_conv = np.fft.fft(R_S)\n",
    "\n",
    "print(np.real(r_s_conv))"
   ]
  },
  {
   "cell_type": "code",
   "execution_count": 43,
   "metadata": {},
   "outputs": [
    {
     "name": "stdout",
     "output_type": "stream",
     "text": [
      "[ 0.    3.5  13.25 31.65 26.7  26.65 30.9  30.45]\n"
     ]
    }
   ],
   "source": [
    "r = np.asfarray([0, 0.5, 1.5, 3.0, 0, 0, 0, 0, 2, 1, 0.2, 0])\n",
    "s = np.asfarray([7, 5.5, 4.8, 6, 6.5, 6.3, 3, 1.5, 0, 0, 0, 0])\n",
    "\n",
    "r_s_conv = np.zeros(8,dtype=float)                                   #Here add 4 zeros at the end of s and 4 zeros in the middle of r\n",
    "\n",
    "for j in range(0,8,1):\n",
    "    sum = 0\n",
    "    for k in range(-3,5,1):\n",
    "        sum += s[j-k-3]*r[k+3]\n",
    "    r_s_conv[j] = sum\n",
    "\n",
    "print(r_s_conv)"
   ]
  },
  {
   "cell_type": "code",
   "execution_count": 44,
   "metadata": {},
   "outputs": [
    {
     "name": "stdout",
     "output_type": "stream",
     "text": [
      "[ 79.2  182.4   84.    24.     0.48   4.8  129.6  156.   111.    18.\n",
      "   3.    14.4 ]\n"
     ]
    }
   ],
   "source": [
    "r = np.asfarray([0, 0.5, 1.5, 3.0, 0, 0, 0, 0, 2, 1, 0.2, 0])           #Here add 4 zeros at the end of s and 4 zeros in the middle of r, and use FFT\n",
    "s = np.asfarray([7, 5.5, 4.8, 6, 6.5, 6.3, 3, 1.5, 0, 0, 0, 0])\n",
    "\n",
    "R = np.fft.fft(r)\n",
    "S = np.fft.fft(r)\n",
    "\n",
    "R_S = R*S                               #elementwise multiplication, so R_S[i] = R[i]*S[i]\n",
    "\n",
    "r_s_conv = np.fft.fft(R_S)\n",
    "\n",
    "print(np.real(r_s_conv))"
   ]
  },
  {
   "cell_type": "code",
   "execution_count": 48,
   "metadata": {},
   "outputs": [
    {
     "ename": "ValueError",
     "evalue": "operands could not be broadcast together with shapes (5,) (4,) ",
     "output_type": "error",
     "traceback": [
      "\u001b[1;31m---------------------------------------------------------------------------\u001b[0m",
      "\u001b[1;31mValueError\u001b[0m                                Traceback (most recent call last)",
      "Cell \u001b[1;32mIn[48], line 7\u001b[0m\n\u001b[0;32m      4\u001b[0m F \u001b[38;5;241m=\u001b[39m np\u001b[38;5;241m.\u001b[39mfft\u001b[38;5;241m.\u001b[39mfft(f)\n\u001b[0;32m      5\u001b[0m G \u001b[38;5;241m=\u001b[39m np\u001b[38;5;241m.\u001b[39mfft\u001b[38;5;241m.\u001b[39mfft(g)\n\u001b[1;32m----> 7\u001b[0m F_Gstar \u001b[38;5;241m=\u001b[39m \u001b[43mF\u001b[49m\u001b[38;5;241;43m*\u001b[39;49m\u001b[43mnp\u001b[49m\u001b[38;5;241;43m.\u001b[39;49m\u001b[43mconjugate\u001b[49m\u001b[43m(\u001b[49m\u001b[43mG\u001b[49m\u001b[43m)\u001b[49m\n\u001b[0;32m      9\u001b[0m correlation \u001b[38;5;241m=\u001b[39m np\u001b[38;5;241m.\u001b[39mfft\u001b[38;5;241m.\u001b[39mfft(F_Gstar)\n",
      "\u001b[1;31mValueError\u001b[0m: operands could not be broadcast together with shapes (5,) (4,) "
     ]
    }
   ],
   "source": [
    "f = np.asfarray([2.3, 1.5, 2.0, 1.5, 1.3])                      #f and g dont have the same amount of elements!!!!!!\n",
    "g = np.asfarray([0.5, 1.0, 0.5, 1.0])\n",
    "\n",
    "F = np.fft.fft(f)\n",
    "G = np.fft.fft(g)\n",
    "\n",
    "F_Gstar = F*np.conjugate(G)\n",
    "\n",
    "correlation = np.fft.fft(F_Gstar)"
   ]
  },
  {
   "cell_type": "code",
   "execution_count": null,
   "metadata": {},
   "outputs": [],
   "source": []
  }
 ],
 "metadata": {
  "kernelspec": {
   "display_name": "Python 3",
   "language": "python",
   "name": "python3"
  },
  "language_info": {
   "codemirror_mode": {
    "name": "ipython",
    "version": 3
   },
   "file_extension": ".py",
   "mimetype": "text/x-python",
   "name": "python",
   "nbconvert_exporter": "python",
   "pygments_lexer": "ipython3",
   "version": "3.12.1"
  }
 },
 "nbformat": 4,
 "nbformat_minor": 2
}
