{
 "cells": [
  {
   "cell_type": "code",
   "execution_count": 31,
   "metadata": {},
   "outputs": [],
   "source": [
    "import numpy as np\n",
    "\n",
    "import matplotlib.pyplot as plt\n",
    "\n",
    "import sys\n",
    "sys.path.insert(0,\"C:/Users/Dustin/Desktop/Numerische Methoden/VS Code/NM-Code-for-Excercises\")\n",
    "import shortcuts as short"
   ]
  },
  {
   "cell_type": "code",
   "execution_count": 32,
   "metadata": {},
   "outputs": [
    {
     "name": "stdout",
     "output_type": "stream",
     "text": [
      "[44.11 35.05 31.35 38.91 42.8  44.95 47.4  48.35]\n"
     ]
    }
   ],
   "source": [
    "r = np.asfarray([0, 0.5, 1.5, 3.0, 2, 1, 0.2, 0])\n",
    "s = np.asfarray([7, 5.5, 4.8, 6, 6.5, 6.3, 3, 1.5])\n",
    "\n",
    "r_s_conv = np.zeros(8,dtype=float)\n",
    "\n",
    "\n",
    "for j in range(0,8,1):                         # no zero padding, without FFT, with formula from the script\n",
    "    sum = 0\n",
    "    for k in range(-3,5,1):\n",
    "        sum += s[j-k-3]*r[k+3]\n",
    "    r_s_conv[j] = sum\n",
    "\n",
    "print(r_s_conv)"
   ]
  },
  {
   "cell_type": "code",
   "execution_count": 33,
   "metadata": {},
   "outputs": [
    {
     "name": "stdout",
     "output_type": "stream",
     "text": [
      "[10.6   5.2   2.05  1.9   5.29 11.   16.   15.2 ]\n"
     ]
    }
   ],
   "source": [
    "r = np.asfarray([0, 0.5, 1.5, 3.0, 2, 1, 0.2, 0])           # no zero padding, with FFT\n",
    "s = np.asfarray([7, 5.5, 4.8, 6, 6.5, 6.3, 3, 1.5])\n",
    "\n",
    "R = np.fft.fft(r)\n",
    "S = np.fft.fft(r)\n",
    "\n",
    "R_S = R*S \n",
    "\n",
    "r_s_conv = np.fft.ifft(R_S)\n",
    "\n",
    "print(np.real(r_s_conv))"
   ]
  },
  {
   "cell_type": "code",
   "execution_count": 34,
   "metadata": {},
   "outputs": [
    {
     "name": "stdout",
     "output_type": "stream",
     "text": [
      "[ 0.    3.5  13.25 31.65 26.7  26.65 30.9  30.45]\n"
     ]
    }
   ],
   "source": [
    "r = np.asfarray([0, 0.5, 1.5, 3.0, 0, 0, 0, 0, 2, 1, 0.2, 0])\n",
    "s = np.asfarray([7, 5.5, 4.8, 6, 6.5, 6.3, 3, 1.5, 0, 0, 0, 0])\n",
    "\n",
    "r_s_conv = np.zeros(8,dtype=float)                                   #Here add 4 zeros at the end of s and 4 zeros in the middle of r, with formula from the script\n",
    "\n",
    "for j in range(0,8,1):\n",
    "    sum = 0\n",
    "    for k in range(-3,5,1):\n",
    "        sum += s[j-k-3]*r[k+3]\n",
    "    r_s_conv[j] = sum\n",
    "\n",
    "print(r_s_conv)"
   ]
  },
  {
   "cell_type": "code",
   "execution_count": 35,
   "metadata": {},
   "outputs": [
    {
     "name": "stdout",
     "output_type": "stream",
     "text": [
      "[ 6.6   1.2   0.25  1.5   9.25 13.   10.8   0.4   0.04  2.    7.   15.2 ]\n"
     ]
    }
   ],
   "source": [
    "r = np.asfarray([0, 0.5, 1.5, 3.0, 0, 0, 0, 0, 2, 1, 0.2, 0])\n",
    "s = np.asfarray([7, 5.5, 4.8, 6, 6.5, 6.3, 3, 1.5, 0, 0, 0, 0])                                                           \n",
    "\n",
    "R = np.fft.fft(r)                                                       #Here add 4 zeros at the end of s and 4 zeros in the middle of r, with FFT\n",
    "S = np.fft.fft(r)\n",
    "\n",
    "R_S = R*S                                           #elementwise multiplication, so R_S[i] = R[i]*S[i]\n",
    "\n",
    "r_s_conv = np.fft.ifft(R_S)\n",
    "\n",
    "print(np.real(r_s_conv))"
   ]
  },
  {
   "cell_type": "code",
   "execution_count": 36,
   "metadata": {},
   "outputs": [
    {
     "name": "stdout",
     "output_type": "stream",
     "text": [
      "[41.2+0.j 40.4+0.j 21.2+0.j 18.4+0.j  5.2+0.j 16.4+0.j 25.2+0.j 38.4+0.j]\n"
     ]
    }
   ],
   "source": [
    "f = np.asfarray([2.3, 1.5, 2.0, 1.5, 1.3, 0, 0, 0])                      #zero padding, so we have for both 8 elements\n",
    "g = np.asfarray([0.5, 1.0, 0.5, 1.0, 0, 0, 0, 0])\n",
    "\n",
    "F = np.fft.fft(f)           \n",
    "G = np.fft.fft(g)   \n",
    "\n",
    "F_Gstar = F*np.conjugate(G)\n",
    "\n",
    "correlation = np.fft.fft(F_Gstar)                                   #correlation theorem, need fft NOT inverese FFT\n",
    "\n",
    "print(correlation)"
   ]
  },
  {
   "cell_type": "code",
   "execution_count": null,
   "metadata": {},
   "outputs": [],
   "source": []
  }
 ],
 "metadata": {
  "kernelspec": {
   "display_name": "Python 3",
   "language": "python",
   "name": "python3"
  },
  "language_info": {
   "codemirror_mode": {
    "name": "ipython",
    "version": 3
   },
   "file_extension": ".py",
   "mimetype": "text/x-python",
   "name": "python",
   "nbconvert_exporter": "python",
   "pygments_lexer": "ipython3",
   "version": "3.12.1"
  }
 },
 "nbformat": 4,
 "nbformat_minor": 2
}
