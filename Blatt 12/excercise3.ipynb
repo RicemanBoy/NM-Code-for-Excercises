{
 "cells": [
  {
   "cell_type": "code",
   "execution_count": 40,
   "metadata": {},
   "outputs": [],
   "source": [
    "import numpy as np\n",
    "\n",
    "import matplotlib.pyplot as plt\n",
    "\n",
    "import sys\n",
    "sys.path.insert(0,\"C:/Users/Dustin/Desktop/Numerische Methoden/VS Code/NM-Code-for-Excercises\")\n",
    "import shortcuts as short"
   ]
  },
  {
   "cell_type": "code",
   "execution_count": 41,
   "metadata": {},
   "outputs": [
    {
     "name": "stdout",
     "output_type": "stream",
     "text": [
      "[44.11 35.05 31.35 38.91 42.8  44.95 47.4  48.35]\n"
     ]
    }
   ],
   "source": [
    "r = np.asfarray([0, 0.5, 1.5, 3.0, 2, 1, 0.2, 0])\n",
    "s = np.asfarray([7, 5.5, 4.8, 6, 6.5, 6.3, 3, 1.5])\n",
    "\n",
    "r_s_conv = np.zeros(8,dtype=float)\n",
    "\n",
    "\n",
    "for j in range(-3,5,1):                         # no zero padding\n",
    "    sum = 0\n",
    "    for k in range(-3,5,1):\n",
    "        sum += s[j-k]*r[k+3]\n",
    "    r_s_conv[j+3] = sum\n",
    "\n",
    "print(r_s_conv)"
   ]
  },
  {
   "cell_type": "code",
   "execution_count": 42,
   "metadata": {},
   "outputs": [
    {
     "name": "stdout",
     "output_type": "stream",
     "text": [
      "[ 2.1   0.3   0.    0.    3.5  13.25 31.65 40.7 ]\n"
     ]
    }
   ],
   "source": [
    "r = np.asfarray([0, 0.5, 1.5, 3.0, 2, 1, 0.2, 0])\n",
    "s = np.asfarray([0,0,0,7, 5.5, 4.8, 6, 6.5, 6.3, 3, 1.5,0,0,0,0])\n",
    "\n",
    "r_s_conv = np.zeros(8,dtype=float)\n",
    "\n",
    "zeros = 4                               #with zero padding, amount of zeros i add, depend on j, the higher j gets, the more zeros will be add\n",
    "\n",
    "for j in range(-3,5,1):\n",
    "    sum = 0\n",
    "    if j > 0:\n",
    "        zeros = 2 + j\n",
    "    for l in range(zeros,0,1):\n",
    "        s = np.append(0,s)\n",
    "        if j > 0:\n",
    "            np.insert(s,0,0)\n",
    "    for k in range(-3,5,1):\n",
    "        sum += s[j-k]*r[k+3]\n",
    "    r_s_conv[j+3] = sum\n",
    "    zeros += 1\n",
    "\n",
    "print(r_s_conv)"
   ]
  },
  {
   "cell_type": "code",
   "execution_count": 45,
   "metadata": {},
   "outputs": [
    {
     "name": "stdout",
     "output_type": "stream",
     "text": [
      "[ 2.1   0.3   0.    0.    3.5  13.25 31.65 40.7 ]\n"
     ]
    }
   ],
   "source": [
    "r = np.asfarray([0, 0.5, 1.5, 3.0, 2, 1, 0.2, 0])\n",
    "s = np.asfarray([0,0,0,7, 5.5, 4.8, 6, 6.5, 6.3, 3, 1.5,0,0,0,0])\n",
    "\n",
    "r_s_conv = np.zeros(8,dtype=float)                                   #Here add 4 zeros at the end and 3 zeros at the beginning\n",
    "\n",
    "for j in range(-3,5,1):\n",
    "    sum = 0\n",
    "    for k in range(-3,5,1):\n",
    "        sum += s[j-k]*r[k+3]\n",
    "    r_s_conv[j+3] = sum\n",
    "\n",
    "print(r_s_conv)"
   ]
  },
  {
   "cell_type": "code",
   "execution_count": 44,
   "metadata": {},
   "outputs": [],
   "source": [
    "f = np.asfarray([2.3, 1.5, 2.0, 1.5, 1.3])\n",
    "g = np.asfarray([0.5, 1.0, 0.5, 1.0])\n",
    "\n"
   ]
  }
 ],
 "metadata": {
  "kernelspec": {
   "display_name": "Python 3",
   "language": "python",
   "name": "python3"
  },
  "language_info": {
   "codemirror_mode": {
    "name": "ipython",
    "version": 3
   },
   "file_extension": ".py",
   "mimetype": "text/x-python",
   "name": "python",
   "nbconvert_exporter": "python",
   "pygments_lexer": "ipython3",
   "version": "3.12.1"
  }
 },
 "nbformat": 4,
 "nbformat_minor": 2
}
