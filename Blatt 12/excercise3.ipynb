{
 "cells": [
  {
   "cell_type": "code",
   "execution_count": 1,
   "metadata": {},
   "outputs": [],
   "source": [
    "import numpy as np\n",
    "\n",
    "import matplotlib.pyplot as plt\n",
    "\n",
    "import sys\n",
    "sys.path.insert(0,\"C:/Users/Dustin/Desktop/Numerische Methoden/VS Code/NM-Code-for-Excercises\")\n",
    "import shortcuts as short"
   ]
  },
  {
   "cell_type": "code",
   "execution_count": 2,
   "metadata": {},
   "outputs": [
    {
     "name": "stdout",
     "output_type": "stream",
     "text": [
      "[55.76 56.6  62.7  67.   68.9  53.86 36.8  53.1 ]\n"
     ]
    }
   ],
   "source": [
    "r = np.asfarray([3.0, 2, 1, 0.2, 0, 0, 0,5, 1.5])     # no zero padding, without FFT, with formula from the script\n",
    "s = np.asfarray([7, 5.5, 4.8, 6, 6.5, 6.3, 3, 1.5])\n",
    "\n",
    "r_s_conv = np.zeros(8,dtype=float)\n",
    "\n",
    "\n",
    "for j in range(0,8,1):                         \n",
    "    sum = 0\n",
    "    for k in range(-3,5,1):\n",
    "        sum += s[j-k-3]*r[k+3]\n",
    "    r_s_conv[j] = sum\n",
    "\n",
    "print(r_s_conv)"
   ]
  },
  {
   "cell_type": "code",
   "execution_count": 3,
   "metadata": {},
   "outputs": [
    {
     "name": "stdout",
     "output_type": "stream",
     "text": [
      "[38.91 42.8  44.95 47.4  48.35 44.11 35.05 31.35] \n",
      "\n"
     ]
    }
   ],
   "source": [
    "r = np.asfarray([3.0, 2, 1, 0.2, 0, 0, 0.5, 1.5])           # no zero padding, with FFT\n",
    "s = np.asfarray([7, 5.5, 4.8, 6, 6.5, 6.3, 3, 1.5])\n",
    "\n",
    "R = np.fft.fft(r)\n",
    "S = np.fft.fft(s)\n",
    "\n",
    "R_S = R*S \n",
    "\n",
    "r_s_conv = np.fft.ifft(R_S)\n",
    "\n",
    "print(np.real(r_s_conv),\"\\n\")"
   ]
  },
  {
   "cell_type": "code",
   "execution_count": 7,
   "metadata": {},
   "outputs": [
    {
     "name": "stdout",
     "output_type": "stream",
     "text": [
      "[21.   30.5  32.4  34.5  37.4  38.86 29.3  18.1 ]\n"
     ]
    }
   ],
   "source": [
    "r = np.asfarray([3.0, 2.0, 1.0, 0.2, 0, 0, 0, 0, 0, 0, 0, 0, 0, 0, 0.5, 1.5])   #zero padding with 4 zeros, with formula from the script\n",
    "s = np.asfarray([7, 5.5, 4.8, 6, 6.5, 6.3, 3, 1.5, 0, 0, 0, 0])\n",
    "\n",
    "r_s_conv = np.zeros(8,dtype=float)                                   \n",
    "\n",
    "for j in range(0,8,1):\n",
    "    sum = 0\n",
    "    for k in range(-3,5,1):\n",
    "        sum += s[j-k-3]*r[k+3]\n",
    "    r_s_conv[j] = sum\n",
    "\n",
    "print(r_s_conv)"
   ]
  },
  {
   "cell_type": "code",
   "execution_count": 5,
   "metadata": {},
   "outputs": [
    {
     "name": "stdout",
     "output_type": "stream",
     "text": [
      "[31.6 40.7 44.6 47.4 48.3 44.1 31.6 18.1  7.3  2.1  0.3  0.   0.  -0.\n",
      "  3.5 13.2]\n"
     ]
    }
   ],
   "source": [
    "r = np.asfarray([3.0, 2.0, 1.0, 0.2, 0, 0, 0, 0, 0, 0, 0, 0, 0, 0, 0.5, 1.5])    #zero padding, so that we have 2**n elements, with FFT\n",
    "s = np.asfarray([7, 5.5, 4.8, 6, 6.5, 6.3, 3, 1.5, 0, 0, 0, 0, 0, 0, 0, 0])                                                           \n",
    "\n",
    "R = np.fft.fft(r)                                                       \n",
    "S = np.fft.fft(s)\n",
    "\n",
    "R_S = R*S                                           #elementwise multiplication, so R_S[i] = R[i]*S[i]\n",
    "\n",
    "r_s_conv = np.fft.ifft(R_S)\n",
    "\n",
    "print(np.round(np.real(r_s_conv),1))"
   ]
  },
  {
   "cell_type": "code",
   "execution_count": 11,
   "metadata": {},
   "outputs": [
    {
     "name": "stdout",
     "output_type": "stream",
     "text": [
      "[5.15-0.j 4.8 +0.j 3.15+0.j 2.05+0.j 0.65-0.j 0.  +0.j 0.  -0.j 0.  +0.j\n",
      " 0.  -0.j 2.3 +0.j 2.65-0.j 5.05+0.j]\n"
     ]
    }
   ],
   "source": [
    "f = np.asfarray([2.3, 1.5, 2.0, 1.5, 1.3, 0, 0, 0, 0, 0, 0, 0])                      #zero padding, so we have for both 8 elements\n",
    "g = np.asfarray([0.5, 1.0, 0.5, 1.0, 0, 0, 0, 0, 0, 0, 0, 0])\n",
    "\n",
    "F = np.fft.fft(f)           \n",
    "G = np.fft.fft(g)   \n",
    "\n",
    "F_Gstar = F*np.conjugate(G)                 #elemtnwise multiplication\n",
    "\n",
    "correlation = np.fft.ifft(F_Gstar)                                   #correlation theorem, need fft NOT inverese FFT\n",
    "\n",
    "print(np.round(correlation,2))"
   ]
  }
 ],
 "metadata": {
  "kernelspec": {
   "display_name": "Python 3",
   "language": "python",
   "name": "python3"
  },
  "language_info": {
   "codemirror_mode": {
    "name": "ipython",
    "version": 3
   },
   "file_extension": ".py",
   "mimetype": "text/x-python",
   "name": "python",
   "nbconvert_exporter": "python",
   "pygments_lexer": "ipython3",
   "version": "3.12.1"
  }
 },
 "nbformat": 4,
 "nbformat_minor": 2
}
