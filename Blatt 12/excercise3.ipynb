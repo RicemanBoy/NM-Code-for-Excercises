{
 "cells": [
  {
   "cell_type": "code",
   "execution_count": 15,
   "metadata": {},
   "outputs": [],
   "source": [
    "import numpy as np\n",
    "\n",
    "import matplotlib.pyplot as plt\n",
    "\n",
    "import sys\n",
    "sys.path.insert(0,\"C:/Users/Dustin/Desktop/Numerische Methoden/VS Code/NM-Code-for-Excercises\")\n",
    "import shortcuts as short"
   ]
  },
  {
   "cell_type": "code",
   "execution_count": 19,
   "metadata": {},
   "outputs": [
    {
     "name": "stdout",
     "output_type": "stream",
     "text": [
      "[2.1 0.3 0.  0.  3.5 3.5 0.  0. ]\n"
     ]
    }
   ],
   "source": [
    "r = np.asfarray([0, 0.5, 1.5, 3.0, 2, 1, 0.2, 0])\n",
    "s = np.asfarray([0,0,0,7, 5.5, 4.8, 6, 6.5, 6.3, 3, 1.5,0,0,0,0])\n",
    "\n",
    "r_s_conv = np.zeros(8,dtype=float)\n",
    "\n",
    "for j in range(-3,5,1):\n",
    "    sum = 0\n",
    "    for l in range(-j+1,0,1):\n",
    "        s = np.append(0,s)\n",
    "        if l < 0:\n",
    "            np.insert(s,0,0)\n",
    "    for k in range(-3,5,1):\n",
    "        sum += s[j-k]*r[k+3]\n",
    "    r_s_conv[j+3] = sum\n",
    "\n",
    "print(r_s_conv)"
   ]
  }
 ],
 "metadata": {
  "kernelspec": {
   "display_name": "Python 3",
   "language": "python",
   "name": "python3"
  },
  "language_info": {
   "codemirror_mode": {
    "name": "ipython",
    "version": 3
   },
   "file_extension": ".py",
   "mimetype": "text/x-python",
   "name": "python",
   "nbconvert_exporter": "python",
   "pygments_lexer": "ipython3",
   "version": "3.11.2"
  }
 },
 "nbformat": 4,
 "nbformat_minor": 2
}
