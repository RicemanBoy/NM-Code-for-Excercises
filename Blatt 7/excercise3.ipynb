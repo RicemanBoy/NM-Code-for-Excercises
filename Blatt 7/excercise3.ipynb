{
 "cells": [
  {
   "cell_type": "code",
   "execution_count": 56,
   "metadata": {},
   "outputs": [],
   "source": [
    "import numpy as np\n",
    "from numpy.linalg import inv\n",
    "from numpy.linalg import norm\n",
    "\n",
    "import sys\n",
    "sys.path.insert(0,\"C:/Users/Dustin/Desktop/Numerische Methoden/VS Code/NM-Code-for-Excercises\")\n",
    "import shortcuts as s"
   ]
  },
  {
   "cell_type": "code",
   "execution_count": 57,
   "metadata": {},
   "outputs": [
    {
     "name": "stdout",
     "output_type": "stream",
     "text": [
      "[[ 0.66666667 -0.33333333  0.        ]\n",
      " [-0.33333333  0.66666667  0.        ]\n",
      " [ 0.11111111  0.11111111 -0.33333333]]\n"
     ]
    }
   ],
   "source": [
    "x0 = np.asfarray([1,1,1])         #Lsg: x0 = 3, x1 = 2, x2 = 3sqrt(6)\n",
    "\n",
    "J = np.asfarray([[2*x0[0],1,0],[1,2*x0[1],0],[x0[1],x0[0],-3*(x0[2]**2)]])\n",
    "\n",
    "b = np.asfarray([11,7,0])\n",
    "\n",
    "Jinv = s.matrix_inverse(J,b)[0]\n",
    "\n",
    "#J = np.asfarray([[2*x0[0],1,0],[1,2*x0[1],0],[x0[1],x0[0],-3*x0[2]]])\n",
    "\n",
    "print(Jinv)\n",
    "#print(inv(J))"
   ]
  },
  {
   "cell_type": "code",
   "execution_count": 58,
   "metadata": {},
   "outputs": [
    {
     "name": "stdout",
     "output_type": "stream",
     "text": [
      "53.0\n"
     ]
    }
   ],
   "source": [
    "def Func(x):\n",
    "    return np.asfarray([(x[0]**2)+x[1]-11,x[0]+(x[1]**2)-7,(x[0]*x[1])-x[2]**3])\n",
    "\n",
    "def func(x):\n",
    "    l = 0\n",
    "    for j in range(len(Func(x))):\n",
    "        l += Func(x)[j]*Func(x)[j]\n",
    "    return 0.5*l\n",
    "\n",
    "def jacobi(x):\n",
    "    return np.asfarray([[2*x[0],1,0],[1,2*x[1],0],[x[1],x[0],-3*(x[2]**2)]])\n",
    "\n",
    "print(func(x0))"
   ]
  },
  {
   "cell_type": "code",
   "execution_count": 59,
   "metadata": {},
   "outputs": [
    {
     "name": "stdout",
     "output_type": "stream",
     "text": [
      "This is the length of f:  4.616128461742442\n",
      "This is the length of f:  1.3109146250257533\n",
      "This is the length of f:  7.503797259544185\n",
      "This is the length of f:  2.093181366235645\n",
      "This is the length of f:  0.282281782135725\n",
      "This is the length of f:  0.008421818760812314\n",
      "This is the length of f:  9.904732497987112e-06\n",
      "Root:  [-2.80511809  3.13131252 -2.06328484] (#iterations:  7 )\n",
      "Value of F(x) (the smaller the better):  [7.46069873e-14 9.79154535e-11 3.42659234e-12]\n"
     ]
    }
   ],
   "source": [
    "F = Func(x0)\n",
    "\n",
    "x = x0 - s.matrix_dot(Jinv,F)\n",
    "\n",
    "i = 0\n",
    "\n",
    "while norm(s.matrix_dot(Jinv,F)) > 0.000001:\n",
    "    print(\"This is the length of f: \", norm(s.matrix_dot(Jinv,F)))\n",
    "    F = Func(x)\n",
    "    x = x - s.matrix_dot(Jinv,F)\n",
    "    J = jacobi(x)\n",
    "    Jinv = s.matrix_inverse(J,b)[0]\n",
    "    i += 1\n",
    "\n",
    "print(\"Root: \", x, \"(#iterations: \", i, \")\")\n",
    "print(\"Value of F(x) (the smaller the better): \", F)"
   ]
  }
 ],
 "metadata": {
  "kernelspec": {
   "display_name": "base",
   "language": "python",
   "name": "python3"
  },
  "language_info": {
   "codemirror_mode": {
    "name": "ipython",
    "version": 3
   },
   "file_extension": ".py",
   "mimetype": "text/x-python",
   "name": "python",
   "nbconvert_exporter": "python",
   "pygments_lexer": "ipython3",
   "version": "3.11.5"
  }
 },
 "nbformat": 4,
 "nbformat_minor": 2
}
