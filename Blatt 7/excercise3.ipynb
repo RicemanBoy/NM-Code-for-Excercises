{
 "cells": [
  {
   "cell_type": "code",
   "execution_count": 24,
   "metadata": {},
   "outputs": [],
   "source": [
    "import numpy as np\n",
    "from numpy.linalg import inv\n",
    "\n",
    "import sys\n",
    "sys.path.insert(0,\"C:/Users/Dustin/Desktop/Numerische Methoden/VS Code/NM-Code-for-Excercises\")\n",
    "import shortcuts as s"
   ]
  },
  {
   "cell_type": "code",
   "execution_count": 61,
   "metadata": {},
   "outputs": [
    {
     "name": "stdout",
     "output_type": "stream",
     "text": [
      "[[ 0.66666667 -0.33333333  0.        ]\n",
      " [-0.33333333  0.66666667  0.        ]\n",
      " [-0.11111111 -0.11111111  0.33333333]]\n"
     ]
    }
   ],
   "source": [
    "x0 = np.asfarray([1,1,-1])\n",
    "\n",
    "J = np.asfarray([[2*x0[0],1,0],[1,2*x0[1],0],[x0[1],x0[0],-3*x0[2]]])\n",
    "\n",
    "A = np.asfarray([[1,1,1],[2,6,2],[3,4,5]])\n",
    "\n",
    "b = np.asfarray([11,7,0])\n",
    "\n",
    "Jinv = s.matrix_inverse(J,b)[0]\n",
    "#Jinv = inv(J)\n",
    "\n",
    "J = np.asfarray([[2*x0[0],1,0],[1,2*x0[1],0],[x0[1],x0[0],-3*x0[2]]])\n",
    "\n",
    "print(Jinv)"
   ]
  },
  {
   "cell_type": "code",
   "execution_count": 62,
   "metadata": {},
   "outputs": [
    {
     "name": "stdout",
     "output_type": "stream",
     "text": [
      "[ -769.58587055  1585.47093538 19896.32432523]\n"
     ]
    }
   ],
   "source": [
    "F = np.asfarray([(x0[0]**2)+x0[1]-11,x0[0]+(x0[1]**2)-7,(x0[0]*x0[1])-x0[2]**3])\n",
    "\n",
    "x = s.matrix_dot(Jinv,F)\n",
    "\n",
    "i = 0\n",
    "while i < 3:\n",
    "    F = np.asfarray([(x[0]**2)+x[1]-11,x[0]+(x[1]**2)-7,(x[0]*x[1])-x[2]**3])\n",
    "    x = s.matrix_dot(Jinv,F)\n",
    "    i += 1\n",
    "\n",
    "print(x)"
   ]
  }
 ],
 "metadata": {
  "kernelspec": {
   "display_name": "base",
   "language": "python",
   "name": "python3"
  },
  "language_info": {
   "codemirror_mode": {
    "name": "ipython",
    "version": 3
   },
   "file_extension": ".py",
   "mimetype": "text/x-python",
   "name": "python",
   "nbconvert_exporter": "python",
   "pygments_lexer": "ipython3",
   "version": "3.11.5"
  }
 },
 "nbformat": 4,
 "nbformat_minor": 2
}
