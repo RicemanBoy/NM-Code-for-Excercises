{
 "cells": [
  {
   "cell_type": "code",
   "execution_count": 2,
   "metadata": {},
   "outputs": [],
   "source": [
    "import numpy as np\n",
    "\n",
    "import sys\n",
    "sys.path.insert(0,\"C:/Users/Dustin/Desktop/Numerische Methoden/VS Code/NM-Code-for-Excercises\")\n",
    "import shortcuts as s"
   ]
  },
  {
   "cell_type": "code",
   "execution_count": 25,
   "metadata": {},
   "outputs": [
    {
     "name": "stdout",
     "output_type": "stream",
     "text": [
      "[[ 2.  1.  0.]\n",
      " [ 1.  2.  0.]\n",
      " [ 1.  1. -3.]]\n"
     ]
    }
   ],
   "source": [
    "x0 = np.asfarray([1,1,1])\n",
    "\n",
    "J = np.asfarray([[2*x0[0],1,0],[1,2*x0[1],0],[x0[1],x0[0],-3*x0[2]]])\n",
    "\n",
    "A = np.asfarray([[1,1,1],[2,6,2],[3,4,5]])\n",
    "\n",
    "b = np.asfarray([11,7,0])\n",
    "\n",
    "Jinv = s.matrix_inverse(J,b)\n",
    "\n",
    "J = np.asfarray([[2*x0[0],1,0],[1,2*x0[1],0],[x0[1],x0[0],-3*x0[2]]])"
   ]
  },
  {
   "cell_type": "code",
   "execution_count": null,
   "metadata": {},
   "outputs": [],
   "source": []
  }
 ],
 "metadata": {
  "kernelspec": {
   "display_name": "base",
   "language": "python",
   "name": "python3"
  },
  "language_info": {
   "codemirror_mode": {
    "name": "ipython",
    "version": 3
   },
   "file_extension": ".py",
   "mimetype": "text/x-python",
   "name": "python",
   "nbconvert_exporter": "python",
   "pygments_lexer": "ipython3",
   "version": "3.11.5"
  }
 },
 "nbformat": 4,
 "nbformat_minor": 2
}
