{
 "cells": [
  {
   "cell_type": "code",
   "execution_count": 3,
   "metadata": {},
   "outputs": [],
   "source": [
    "import numpy as np\n",
    "from numpy.linalg import inv\n",
    "\n",
    "import sys\n",
    "sys.path.insert(0,\"C:/Users/Dustin/Desktop/Numerische Methoden/VS Code/NM-Code-for-Excercises\")\n",
    "import shortcuts as s"
   ]
  },
  {
   "cell_type": "code",
   "execution_count": 75,
   "metadata": {},
   "outputs": [
    {
     "name": "stdout",
     "output_type": "stream",
     "text": [
      "[[ 0.66667 -0.33333  0.     ]\n",
      " [-0.33333  0.66667  0.     ]\n",
      " [ 0.11111  0.11111 -0.33333]]\n"
     ]
    }
   ],
   "source": [
    "x0 = np.asfarray([1,1,1])\n",
    "\n",
    "J = np.asfarray([[2*x0[0],1,0],[1,2*x0[1],0],[x0[1],x0[0],-3*(x0[2]**2)]])\n",
    "\n",
    "A = np.asfarray([[1,1,1],[2,6,2],[3,4,5]])\n",
    "\n",
    "b = np.asfarray([11,7,0])\n",
    "\n",
    "Jinv = s.matrix_inverse_pp(J,b)[0]\n",
    "#Jinv = inv(J)\n",
    "\n",
    "J = np.asfarray([[2*x0[0],1,0],[1,2*x0[1],0],[x0[1],x0[0],-3*x0[2]]])\n",
    "\n",
    "print(Jinv)"
   ]
  },
  {
   "cell_type": "code",
   "execution_count": 76,
   "metadata": {},
   "outputs": [
    {
     "name": "stdout",
     "output_type": "stream",
     "text": [
      "53.0\n",
      "53.0 104.24665772332492\n",
      "104.24665772332492 1247.384290792636\n",
      "1247.384290792636 4564.185946789561\n",
      "4564.185946789561 122095.73119785772\n",
      "[-32.73972237  14.25470002  -8.11142204]\n"
     ]
    }
   ],
   "source": [
    "Fold = np.asfarray([(x0[0]**2)+x0[1]-11,x0[0]+(x0[1]**2)-7,(x0[0]*x0[1])-x0[2]**3])\n",
    "\n",
    "x = s.matrix_dot(Jinv,Fold)\n",
    "\n",
    "fold = 0\n",
    "l = 0\n",
    "\n",
    "for j in range(len(Fold)):\n",
    "    l += Fold[j]*Fold[j]\n",
    "\n",
    "fold = 0.5*l\n",
    "\n",
    "print(fold)\n",
    "\n",
    "lamb = 0\n",
    "\n",
    "i = 0\n",
    "while i < 4:\n",
    "    F = np.asfarray([(x[0]**2)+x[1]-11,x[0]+(x[1]**2)-7,(x[0]*x[1])-x[2]**3])\n",
    "    l = 0\n",
    "    for j in range(len(F)):\n",
    "        l += F[j]*F[j]\n",
    "    f = 0.5*l\n",
    "    print(fold,f)\n",
    "    if f > fold:\n",
    "        lamb = (np.linalg.norm(Fold)**2)/(2*(f-fold+np.linalg.norm(Fold)**2))\n",
    "        x = x - lamb*s.matrix_dot(Jinv,F)\n",
    "        fold = f\n",
    "        Fold = F\n",
    "    else:\n",
    "        x = x - s.matrix_dot(Jinv,F)\n",
    "        fold = f\n",
    "        Fold = F\n",
    "    i += 1\n",
    "\n",
    "print(x)"
   ]
  },
  {
   "cell_type": "code",
   "execution_count": 17,
   "metadata": {},
   "outputs": [
    {
     "name": "stdout",
     "output_type": "stream",
     "text": [
      "3\n"
     ]
    }
   ],
   "source": [
    "f = np.asfarray([1,1,1])\n",
    "\n",
    "g = len(f)\n",
    "\n",
    "print(g)"
   ]
  }
 ],
 "metadata": {
  "kernelspec": {
   "display_name": "base",
   "language": "python",
   "name": "python3"
  },
  "language_info": {
   "codemirror_mode": {
    "name": "ipython",
    "version": 3
   },
   "file_extension": ".py",
   "mimetype": "text/x-python",
   "name": "python",
   "nbconvert_exporter": "python",
   "pygments_lexer": "ipython3",
   "version": "3.11.5"
  }
 },
 "nbformat": 4,
 "nbformat_minor": 2
}
