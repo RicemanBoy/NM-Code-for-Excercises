{
 "cells": [
  {
   "cell_type": "code",
   "execution_count": 119,
   "metadata": {},
   "outputs": [],
   "source": [
    "import numpy as np\n",
    "from numpy.linalg import inv\n",
    "from numpy.linalg import norm\n",
    "\n",
    "import sys\n",
    "sys.path.insert(0,\"C:/Users/Dustin/Desktop/Numerische Methoden/VS Code/NM-Code-for-Excercises\")\n",
    "import shortcuts as s"
   ]
  },
  {
   "cell_type": "code",
   "execution_count": 120,
   "metadata": {},
   "outputs": [
    {
     "name": "stdout",
     "output_type": "stream",
     "text": [
      "[[ 0.66666667 -0.33333333  0.        ]\n",
      " [-0.33333333  0.66666667  0.        ]\n",
      " [ 0.11111111  0.11111111 -0.33333333]]\n"
     ]
    }
   ],
   "source": [
    "x0 = np.asfarray([1,1,1])\n",
    "\n",
    "J = np.asfarray([[2*x0[0],1,0],[1,2*x0[1],0],[x0[1],x0[0],-3*(x0[2]**2)]])\n",
    "\n",
    "b = np.asfarray([11,7,0])\n",
    "\n",
    "Jinv = s.matrix_inverse(J,b)[0]\n",
    "\n",
    "#J = np.asfarray([[2*x0[0],1,0],[1,2*x0[1],0],[x0[1],x0[0],-3*x0[2]]])\n",
    "\n",
    "print(Jinv)\n",
    "#print(inv(J))"
   ]
  },
  {
   "cell_type": "code",
   "execution_count": 121,
   "metadata": {},
   "outputs": [
    {
     "name": "stdout",
     "output_type": "stream",
     "text": [
      "53.0\n"
     ]
    }
   ],
   "source": [
    "def Func(x):\n",
    "    return np.asfarray([(x[0]**2)+x[1]-11,x[0]+(x[1]**2)-7,(x[0]*x[1])-x[2]**3])\n",
    "\n",
    "def func(x):\n",
    "    l = 0\n",
    "    for j in range(len(Func(x))):\n",
    "        l += Func(x)[j]*Func(x)[j]\n",
    "    return 0.5*l\n",
    "\n",
    "def jacobi(x):\n",
    "    return np.asfarray([[2*x[0],1,0],[1,2*x[1],0],[x[1],x[0],-3*(x[2]**2)]])\n",
    "\n",
    "print(func(x0))"
   ]
  },
  {
   "cell_type": "code",
   "execution_count": 122,
   "metadata": {},
   "outputs": [
    {
     "name": "stdout",
     "output_type": "stream",
     "text": [
      "This is the length of f:  4.616128461742442\n",
      "This is the length of f:  1.9792137815529502\n",
      "This is the length of f:  3.001140524900048\n",
      "This is the length of f:  0.649012173353151\n",
      "This is the length of f:  0.06098289514464112\n",
      "This is the length of f:  0.0011664654665313843\n",
      "Root:  [3.         2.         1.81712059] (#iterations:  6 )\n",
      "Value of F(x) (the smaller the better):  [ 6.47417888e-08  1.63795377e-09 -7.05097729e-06]\n"
     ]
    }
   ],
   "source": [
    "Fold = Func(x0)\n",
    "\n",
    "x = x0 - s.matrix_dot(Jinv,Fold)\n",
    "\n",
    "fold = func(x0)\n",
    "\n",
    "lamb3 = 0                       #lambda from cubic approx\n",
    "lamb4 = 0\n",
    "\n",
    "lamb1 = 1                       #for cubic approx\n",
    "lamb2 = 0\n",
    "\n",
    "i = 0\n",
    "\n",
    "F = Fold\n",
    "\n",
    "#g(0) = fold\n",
    "#g(1) = f\n",
    "#gstrich0 = -fold*2\n",
    "#g(lamb1) = f(x)     with x = x -lamb1*s.matrix_dot(Jinv,F)\n",
    "#g(lamb2) = f(x)     with x = x -lamb2*s.matrix_dot(Jinv,F)\n",
    "\n",
    "f1 = 0              #f1 = f(x+lamb1*del_x) = g(lamb1)\n",
    "f2 = 0              #f2 = f(x+lamb2*del_x) = g(lamb2)\n",
    "\n",
    "a = 0\n",
    "b = 0\n",
    "\n",
    "\n",
    "while norm(s.matrix_dot(Jinv,F)) > 0.000001:\n",
    "    print(\"This is the length of f: \", norm(s.matrix_dot(Jinv,F)))\n",
    "    F = Func(x)\n",
    "    l = 0\n",
    "    f = func(x)\n",
    "    #print(f,fold)\n",
    "    if f > fold:\n",
    "        lamb2 = (fold*2)/(2*(f+fold))                # norm(Fold)**2 = fold*2\n",
    "        f1 = func(x-lamb1*s.matrix_dot(Jinv,F))\n",
    "        f2 = func(x-lamb2*s.matrix_dot(Jinv,F))\n",
    "\n",
    "        while lamb3 > 0.1*lamb2 and lamb4 > 0.1*lamb1:\n",
    "\n",
    "            lamb1 = lamb3 \n",
    "            lamb2 = lamb4\n",
    "\n",
    "            a = (1/(lamb2**3))*(f2+fold*2*lamb2-fold)-(((lamb1**2)*lamb2-lamb1**3)**(-1))*(f1-fold*(1-lamb2**(-3))+fold*2*(1-lamb2**(-2)-(lamb2**(-3))*f2))\n",
    "            b = ((lamb1**2-((lamb1**3)/lamb2))**(-1))*(f1-fold*(1-lamb2**(-3))+fold*2*(1-lamb2**(-2))-(lamb2**(-3))*f2)\n",
    "\n",
    "            lamb3 = (((-2*b)/(3*a))+np.sqrt(((4*(b**2))/(9*(a**2)))+(4/(3*a))*fold*2))*0.5\n",
    "            lamb4 = (((-2*b)/(3*a))-np.sqrt(((4*(b**2))/(9*(a**2)))+(4/(3*a))*fold*2))*0.5\n",
    "            i += 1\n",
    "\n",
    "        x = x - lamb3*s.matrix_dot(Jinv,F)\n",
    "        fold = f\n",
    "        Fold = F\n",
    "        J = jacobi(x)\n",
    "        Jinv = s.matrix_inverse(J,b)[0]\n",
    "    else:\n",
    "        x = x - s.matrix_dot(Jinv,F)\n",
    "        fold = f\n",
    "        Fold = F\n",
    "        J = jacobi(x)\n",
    "        Jinv = s.matrix_inverse(J,b)[0]\n",
    "    i += 1\n",
    "\n",
    "print(\"Root: \", x, \"(#iterations: \", i, \")\")\n",
    "print(\"Value of F(x) (the smaller the better): \", F)"
   ]
  }
 ],
 "metadata": {
  "kernelspec": {
   "display_name": "base",
   "language": "python",
   "name": "python3"
  },
  "language_info": {
   "codemirror_mode": {
    "name": "ipython",
    "version": 3
   },
   "file_extension": ".py",
   "mimetype": "text/x-python",
   "name": "python",
   "nbconvert_exporter": "python",
   "pygments_lexer": "ipython3",
   "version": "3.11.5"
  }
 },
 "nbformat": 4,
 "nbformat_minor": 2
}
