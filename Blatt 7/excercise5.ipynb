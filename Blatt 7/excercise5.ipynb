{
 "cells": [
  {
   "cell_type": "code",
   "execution_count": 50,
   "metadata": {},
   "outputs": [],
   "source": [
    "import numpy as np\n",
    "from numpy.linalg import inv\n",
    "from numpy.linalg import norm\n",
    "\n",
    "import sys\n",
    "sys.path.insert(0,\"C:/Users/Dustin/Desktop/Numerische Methoden/VS Code/NM-Code-for-Excercises\")\n",
    "import shortcuts as s"
   ]
  },
  {
   "cell_type": "code",
   "execution_count": 51,
   "metadata": {},
   "outputs": [
    {
     "name": "stdout",
     "output_type": "stream",
     "text": [
      "[[ 0.66666667 -0.33333333  0.        ]\n",
      " [-0.33333333  0.66666667  0.        ]\n",
      " [ 0.11111111  0.11111111 -0.33333333]]\n"
     ]
    }
   ],
   "source": [
    "x0 = np.asfarray([1,1,1])\n",
    "\n",
    "J = np.asfarray([[2*x0[0],1,0],[1,2*x0[1],0],[x0[1],x0[0],-3*(x0[2]**2)]])\n",
    "\n",
    "b = np.asfarray([11,7,0])\n",
    "\n",
    "Jinv = s.matrix_inverse(J,b)[0]\n",
    "\n",
    "#J = np.asfarray([[2*x0[0],1,0],[1,2*x0[1],0],[x0[1],x0[0],-3*x0[2]]])\n",
    "\n",
    "print(Jinv)\n",
    "#print(inv(J))"
   ]
  },
  {
   "cell_type": "code",
   "execution_count": 52,
   "metadata": {},
   "outputs": [
    {
     "name": "stdout",
     "output_type": "stream",
     "text": [
      "53.0\n"
     ]
    }
   ],
   "source": [
    "def Func(x):\n",
    "    return np.asfarray([(x[0]**2)+x[1]-11,x[0]+(x[1]**2)-7,(x[0]*x[1])-x[2]**3])\n",
    "\n",
    "def func(x):\n",
    "    l = 0\n",
    "    for j in range(len(Func(x))):\n",
    "        l += Func(x)[j]*Func(x)[j]\n",
    "    return 0.5*l\n",
    "\n",
    "def jacobi(x):\n",
    "    return np.asfarray([[2*x[0],1,0],[1,2*x[1],0],[x[1],x[0],-3*(x[2]**2)]])\n",
    "\n",
    "print(func(x0))"
   ]
  },
  {
   "cell_type": "code",
   "execution_count": 53,
   "metadata": {},
   "outputs": [
    {
     "name": "stdout",
     "output_type": "stream",
     "text": [
      "This is the length of f:  4.616128461742442\n",
      "This is the length of f:  4.066901264520865\n",
      "This is the length of f:  0.6190660298873855\n",
      "This is the length of f:  0.10133126989214662\n",
      "This is the length of f:  0.003650567536383237\n",
      "This is the length of f:  6.986284766244948e-06\n",
      "Root:  [3.         2.         1.81712059] (#iterations:  6 )\n",
      "Value of F(x) (the smaller the better):  [ 1.77635684e-15  2.75335310e-14 -2.65918843e-10]\n"
     ]
    }
   ],
   "source": [
    "Fold = Func(x0)\n",
    "\n",
    "x = x0 - s.matrix_dot(Jinv,Fold)\n",
    "\n",
    "fold = func(x0)\n",
    "\n",
    "lamb = 0\n",
    "\n",
    "i = 0\n",
    "\n",
    "F = Fold\n",
    "\n",
    "while norm(s.matrix_dot(Jinv,F)) > 0.000001:\n",
    "    print(\"This is the length of f: \", norm(s.matrix_dot(Jinv,F)))\n",
    "    F = Func(x)\n",
    "    l = 0\n",
    "    f = func(x)\n",
    "    #print(f,fold)\n",
    "    if f > fold:\n",
    "        lamb = (norm(Fold)**2)/(2*(f-fold+norm(Fold)**2))\n",
    "        x = x - lamb*s.matrix_dot(Jinv,F)\n",
    "        fold = f\n",
    "        Fold = F\n",
    "        J = jacobi(x)\n",
    "        Jinv = s.matrix_inverse(J,b)[0]\n",
    "    else:\n",
    "        x = x - s.matrix_dot(Jinv,F)\n",
    "        fold = f\n",
    "        Fold = F\n",
    "        J = jacobi(x)\n",
    "        Jinv = s.matrix_inverse(J,b)[0]\n",
    "    i += 1\n",
    "\n",
    "print(\"Root: \", x, \"(#iterations: \", i, \")\")\n",
    "print(\"Value of F(x) (the smaller the better): \", F)"
   ]
  }
 ],
 "metadata": {
  "kernelspec": {
   "display_name": "base",
   "language": "python",
   "name": "python3"
  },
  "language_info": {
   "codemirror_mode": {
    "name": "ipython",
    "version": 3
   },
   "file_extension": ".py",
   "mimetype": "text/x-python",
   "name": "python",
   "nbconvert_exporter": "python",
   "pygments_lexer": "ipython3",
   "version": "3.11.5"
  }
 },
 "nbformat": 4,
 "nbformat_minor": 2
}
