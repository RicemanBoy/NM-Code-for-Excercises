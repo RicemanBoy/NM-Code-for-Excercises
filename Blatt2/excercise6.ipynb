{
 "cells": [
  {
   "cell_type": "code",
   "execution_count": 1,
   "metadata": {},
   "outputs": [],
   "source": [
    "import numpy as np"
   ]
  },
  {
   "cell_type": "code",
   "execution_count": 2,
   "metadata": {},
   "outputs": [
    {
     "name": "stdout",
     "output_type": "stream",
     "text": [
      "4\n"
     ]
    }
   ],
   "source": [
    "a = np.array([0,-1,-1,-1])       #ignorier den ersten Wert\n",
    "b = np.array([2,2,2,2])\n",
    "c = np.array([-1,-1,-1,0])        #ignorier den letzten Wert\n",
    "\n",
    "vecb = np.array([-5,1,4,1])\n",
    "\n",
    "\n",
    "N = np.shape(b)[0]\n",
    "\n",
    "print(N)"
   ]
  },
  {
   "cell_type": "code",
   "execution_count": 3,
   "metadata": {},
   "outputs": [
    {
     "name": "stdout",
     "output_type": "stream",
     "text": [
      "[[ 1.          0.          0.          0.        ]\n",
      " [-0.5         1.          0.          0.        ]\n",
      " [ 0.         -0.66666667  1.          0.        ]\n",
      " [ 0.          0.         -0.75        1.        ]]\n",
      "[[ 2.         -1.          0.          0.        ]\n",
      " [ 0.          1.5        -1.          0.        ]\n",
      " [ 0.          0.          1.33333333 -1.        ]\n",
      " [ 0.          0.          0.          1.25      ]]\n"
     ]
    }
   ],
   "source": [
    "f = c\n",
    "\n",
    "e = np.zeros(N)\n",
    "\n",
    "d = np.zeros(N)          #ignorier den ersten Wert\n",
    "\n",
    "##############################################################################################################\n",
    "\n",
    "e[0] = b[0]\n",
    "d[1] = a[1]/e[0]\n",
    "\n",
    "i = 1\n",
    "\n",
    "while i < N:                    #BERECHNUNG VON e,d,f. FUNKTIONIERT\n",
    "    e[i] = b[i] - d[i]*f[i-1]\n",
    "    if (i+1) == N:\n",
    "        i = i + 1\n",
    "        continue\n",
    "    d[i+1] = a[i+1]/e[i]\n",
    "    i += 1\n",
    "\n",
    "\n",
    "L = np.identity(N)\n",
    "R = np.identity(N)\n",
    "\n",
    "j = 0\n",
    "\n",
    "while j < N:                                      #EINSETZEN IN MATRIZEN L,R FUNKTIONIERT!\n",
    "    R[j][j] = e[j]\n",
    "    if j == N-1:\n",
    "        j += 1\n",
    "        continue\n",
    "    L[j+1][j] = d[j+1]\n",
    "    R[j][j+1] = f[j]\n",
    "    j += 1\n",
    "\n",
    "\n",
    "#print(np.matrix(d))\n",
    "print(np.matrix(L))\n",
    "\n",
    "#print(np.matrix(e))\n",
    "#print(np.matrix(f))\n",
    "print(np.matrix(R))\n",
    "\n",
    "#LR-Zerlegung FUNKTIONIERT, HABS GETESTET"
   ]
  },
  {
   "cell_type": "code",
   "execution_count": 4,
   "metadata": {},
   "outputs": [
    {
     "name": "stdout",
     "output_type": "stream",
     "text": [
      "Das ist die Lösung x des LGS mit Tridiagonalen Matrizen:  [-1.6  1.8  4.2  2.6]\n"
     ]
    }
   ],
   "source": [
    "x = np.zeros(N)\n",
    "\n",
    "y = np.zeros(N)\n",
    "\n",
    "y[0] = vecb[0]\n",
    "\n",
    "i = 1\n",
    "while i < N:                          #Berechnung von y, FUNKTIONIERT, HABS GECHECKT\n",
    "    j = 0\n",
    "    y[i] = vecb[i]\n",
    "    while j < i:\n",
    "        y[i] -= L[i][j]*y[j]\n",
    "        j += 1\n",
    "    i += 1\n",
    "\n",
    "#y = np.around(y,5)\n",
    "\n",
    "#print(y)\n",
    "\n",
    "x[N-1] = y[N-1]/(R[N-1][N-1])\n",
    "\n",
    "i = N-2                                 #Berechnung von x, FUNKTIONIERT HABS GETESTET\n",
    "while i >= 0:\n",
    "    j = N-1\n",
    "    x[i] = y[i]\n",
    "    while j > i:\n",
    "        x[i] -=  R[i][j]*x[j]\n",
    "        j -= 1\n",
    "    x[i] = x[i]/R[i][i]\n",
    "    i -= 1\n",
    "\n",
    "\n",
    "#x = np.around(x,5)\n",
    "\n",
    "print(\"Das ist die Lösung x des LGS mit Tridiagonalen Matrizen: \", x)"
   ]
  },
  {
   "cell_type": "code",
   "execution_count": 5,
   "metadata": {},
   "outputs": [],
   "source": [
    "# a = np.array([0,-1,-1,-1])       #ignorier den ersten Wert\n",
    "# b = np.array([2,2,2,2])\n",
    "# c = np.array([-1,-1,-1,0])        #ignorier den letzten Wert\n",
    "\n",
    "# vecb = np.array([-5,1,4,1])\n",
    "\n",
    "\n",
    "# N = np.shape(b)[0]\n",
    "\n",
    "# import sys\n",
    "# sys.path.insert(0,\"C:/Users/Dustin/Desktop/Numerische Methoden/VS Code/NM-Code-for-Excercises\")\n",
    "# import shortcuts as s\n",
    "\n",
    "# s.tridiag_LU_decomp(a,b,c)\n",
    "\n",
    "# print(L)"
   ]
  },
  {
   "cell_type": "code",
   "execution_count": 7,
   "metadata": {},
   "outputs": [],
   "source": [
    "# import sys\n",
    "# sys.path.insert(0,\"C:/Users/Dustin/Desktop/Numerische Methoden/VS Code/NM-Code-for-Excercises\")\n",
    "# import shortcuts as s\n",
    "\n",
    "# a = np.array([0,1,1,1,1,1,1,1,1,1])       #ignorier den ersten Wert\n",
    "# b = np.array([2.0,2.0,2.0,2.0,2.0,2.0,2.0,2.0,2.0,2.0])\n",
    "# c = np.array([-1,-1,-1,-1,-1,-1,-1,-1,-1,0])        #ignorier den letzten Wert\n",
    "\n",
    "# s.tridiag_LU_decomp(a,b,c)"
   ]
  }
 ],
 "metadata": {
  "kernelspec": {
   "display_name": "base",
   "language": "python",
   "name": "python3"
  },
  "language_info": {
   "codemirror_mode": {
    "name": "ipython",
    "version": 3
   },
   "file_extension": ".py",
   "mimetype": "text/x-python",
   "name": "python",
   "nbconvert_exporter": "python",
   "pygments_lexer": "ipython3",
   "version": "3.11.5"
  }
 },
 "nbformat": 4,
 "nbformat_minor": 2
}
