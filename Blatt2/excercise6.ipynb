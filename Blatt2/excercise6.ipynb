{
 "cells": [
  {
   "cell_type": "code",
   "execution_count": 2,
   "metadata": {},
   "outputs": [],
   "source": [
    "import numpy as np"
   ]
  },
  {
   "cell_type": "code",
   "execution_count": 6,
   "metadata": {},
   "outputs": [
    {
     "name": "stdout",
     "output_type": "stream",
     "text": [
      "4\n"
     ]
    }
   ],
   "source": [
    "a = np.array([-1,-1,-1,-1])       #ignorier den ersten Wert\n",
    "b = np.array([2,2,2,2])\n",
    "c = np.array([-1,-1,-1,-1])        #ignorier den letzten Wert\n",
    "\n",
    "vecb = np.array([-5,1,4,1])\n",
    "\n",
    "\n",
    "N = np.shape(b)[0]\n",
    "\n",
    "print(N)"
   ]
  },
  {
   "cell_type": "code",
   "execution_count": 17,
   "metadata": {},
   "outputs": [
    {
     "name": "stdout",
     "output_type": "stream",
     "text": [
      "[[ 0.         -0.5        -0.66666667 -0.75      ]]\n",
      "[[ 1.          0.          0.          0.        ]\n",
      " [-0.5         1.          0.          0.        ]\n",
      " [ 0.         -0.66666667  1.          0.        ]\n",
      " [ 0.          0.         -0.75        1.        ]]\n",
      "[[2.         1.5        1.33333333 1.25      ]]\n",
      "[[-1 -1 -1 -1]]\n",
      "[[ 2.         -1.          0.          0.        ]\n",
      " [ 0.          1.5        -1.          0.        ]\n",
      " [ 0.          0.          1.33333333 -1.        ]\n",
      " [ 0.          0.          0.          1.25      ]]\n"
     ]
    }
   ],
   "source": [
    "f = c\n",
    "\n",
    "e = np.zeros(N)\n",
    "\n",
    "d = np.zeros(N)          #ignorier den ersten Wert\n",
    "\n",
    "####################################################################################################################################################################################\n",
    "\n",
    "e[0] = b[0]\n",
    "d[1] = a[1]/e[0]\n",
    "\n",
    "i = 1\n",
    "\n",
    "while i < N:                    #BERECHNUNG VON e,d,f. FUNKTIONIERT\n",
    "    e[i] = b[i] - d[i]*f[i-1]\n",
    "    if (i+1) == N:\n",
    "        i = i + 1\n",
    "        continue\n",
    "    d[i+1] = a[i+1]/e[i]\n",
    "    i += 1\n",
    "\n",
    "\n",
    "L = np.identity(N)\n",
    "R = np.identity(N)\n",
    "\n",
    "j = 0\n",
    "\n",
    "while j < N:                                      #EINSETZEN IN MATRIZEN L,R FUNKTIONIERT!\n",
    "    R[j][j] = e[j]\n",
    "    if j == N-1:\n",
    "        j += 1\n",
    "        continue\n",
    "    L[j+1][j] = d[j+1]\n",
    "    R[j][j+1] = f[j]\n",
    "    j += 1\n",
    "\n",
    "\n",
    "#print(np.matrix(d))\n",
    "#print(np.matrix(L))\n",
    "\n",
    "#print(np.matrix(e))\n",
    "#print(np.matrix(f))\n",
    "#print(np.matrix(R))"
   ]
  },
  {
   "cell_type": "code",
   "execution_count": 21,
   "metadata": {},
   "outputs": [],
   "source": [
    "x = np.zeros(N)\n",
    "\n"
   ]
  }
 ],
 "metadata": {
  "kernelspec": {
   "display_name": "base",
   "language": "python",
   "name": "python3"
  },
  "language_info": {
   "codemirror_mode": {
    "name": "ipython",
    "version": 3
   },
   "file_extension": ".py",
   "mimetype": "text/x-python",
   "name": "python",
   "nbconvert_exporter": "python",
   "pygments_lexer": "ipython3",
   "version": "3.11.5"
  }
 },
 "nbformat": 4,
 "nbformat_minor": 2
}
