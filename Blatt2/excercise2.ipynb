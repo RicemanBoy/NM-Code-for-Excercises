{
 "cells": [
  {
   "cell_type": "code",
   "execution_count": 15,
   "metadata": {},
   "outputs": [],
   "source": [
    "import numpy as np\n",
    "import math as m\n",
    "\n",
    "import sys\n",
    "sys.path.insert(0,\"C:/Users/Dustin/Desktop/Numerische Methoden/VS Code/NM-Code-for-Excercises\")\n",
    "import shortcuts as s"
   ]
  },
  {
   "cell_type": "code",
   "execution_count": 16,
   "metadata": {},
   "outputs": [],
   "source": [
    "A = np.asfarray([[3,-1,1,4,1],[1,0,1,1,1],[-1,-1,-1,-1,-1],[0,0,0,7,2],[3,4,-3,4,1]])\n",
    "#print(np.matrix(A))\n",
    "#print(np.shape(A))\n",
    "\n",
    "\n",
    "dim = np.shape(A)[0]\n",
    "\n",
    "b0 = np.asfarray([1,-1,1,-1,1])\n",
    "b1 = np.asfarray([0,1,2,3,4])\n",
    "#print(np.shape(b0))\n",
    "#print(np.shape(b1))\n",
    "\n",
    "Ainv = np.identity(dim)\n",
    "#print(Ainv)\n",
    "\n",
    "\n",
    "\n",
    "#############Aufgabe 1, 3x3 Matrix###########################\n",
    "\n",
    "#A = np.asfarray([[3,3,6],[1,0,1],[2,2,3]])\n",
    "#print(np.matrix(A))\n",
    "\n",
    "#dim = np.shape(A)[0]\n",
    "\n",
    "#Ainv = np.identity(dim)\n",
    "\n",
    "#b0 = np.asfarray([-3,0,1])\n",
    "#print(np.matrix(b0))\n",
    "##############################################################\n",
    "\n",
    "b = b0                                  #Wähle b aus"
   ]
  },
  {
   "cell_type": "code",
   "execution_count": 17,
   "metadata": {},
   "outputs": [],
   "source": [
    "# #Blatt 3, Aufgabe 1b)\n",
    "\n",
    "# A = np.asfarray([[1.1,1.7,1.3],[1.3,1.9,2.3],[2.1,3.1,2.9]])\n",
    "\n",
    "\n",
    "# dim = np.shape(A)[0]\n",
    "\n",
    "# b0 = np.asfarray([2.0,1.6,2.2])\n",
    "\n",
    "\n",
    "# Ainv = np.identity(dim)\n",
    "\n",
    "\n",
    "# b = b0                                  #Wähle b aus"
   ]
  },
  {
   "cell_type": "code",
   "execution_count": 18,
   "metadata": {},
   "outputs": [
    {
     "name": "stdout",
     "output_type": "stream",
     "text": [
      "[[1. 0. 0. 0. 0.]\n",
      " [0. 1. 0. 0. 0.]\n",
      " [0. 0. 1. 0. 0.]\n",
      " [0. 0. 0. 1. 0.]\n",
      " [0. 0. 0. 0. 1.]]\n",
      "[[ 0.21875  0.21875  0.15625 -0.1875   0.09375]\n",
      " [ 0.      -1.      -1.      -0.       0.     ]\n",
      " [ 0.25    -1.25    -1.25    -0.      -0.25   ]\n",
      " [ 0.1875  -0.8125  -0.4375   0.125   -0.0625 ]\n",
      " [-0.65625  2.84375  1.53125  0.0625   0.21875]]\n"
     ]
    }
   ],
   "source": [
    "############### Inverse Matrix berechnen FUNKTIONIERT!!!!! ######################################\n",
    "i = 0\n",
    "while i < dim:             #Damit ich gehe ich jede Zeile schrittweise durch\n",
    "\n",
    "    if A[i][i] != 0:\n",
    "        c = A[i][i]                 #c ist der Vorfaktor vor dem (i,i)-Eintrag der Matrix\n",
    "        A[i] = A[i]/c            #Division der i-ten Zeile durch den Vorfaktor an Stelle i,i\n",
    "        Ainv[i] = Ainv[i]/c       #Selbiges mit der i-ten Zeile in der Einheitsmatrix\n",
    "\n",
    "        x = 0\n",
    "\n",
    "        while x < dim:              #Damit gehe ich jede Zeile durch, die ich von der i-ten Zeile subtrahieren muss\n",
    "            if x == i:\n",
    "                x = x + 1\n",
    "                continue\n",
    "\n",
    "            k = A[x][i]           #Koeffizient mit dem ich die Zeile i multiplizieren muss, damit ich Zeile i von i+1 abziehen kann\n",
    "\n",
    "            j = 0                   #Mit j gehe ich die Spalten alle durch\n",
    "\n",
    "            while j < dim:          #Damit ich gehe ich jede Spalte j in EINER Zeile durch\n",
    "                A[x][j] = A[x][j] - k*A[i][j]\n",
    "                Ainv[x][j] = Ainv[x][j] - k*Ainv[i][j]\n",
    "                j = j + 1\n",
    "            x = x + 1\n",
    "\n",
    "        i = i + 1\n",
    "        #print(np.matrix(A))\n",
    "        #print(np.matrix(Ainv))\n",
    "\n",
    "    else:\n",
    "        A[[i,i+1]] = A[[i+1,i]]\n",
    "        Ainv[[i,i+1]] = Ainv[[i+1,i]]\n",
    "        b[[i,i+1]] = b[[i+1,i]]\n",
    "\n",
    "\n",
    "Ainv = np.around(Ainv,5)\n",
    "\n",
    "print(np.matrix(A))\n",
    "\n",
    "print(np.matrix(Ainv))\n"
   ]
  },
  {
   "cell_type": "code",
   "execution_count": 19,
   "metadata": {},
   "outputs": [],
   "source": [
    "# ############### Inverse Matrix berechnen FUNKTIONIERT!!!!! ###################################### MIT RICHTIGEM PARTIELLE PIVOTING\n",
    "\n",
    "# A = np.asfarray([[3,-1,1,4,1],[1,0,1,1,1],[-1,-1,-1,-1,-1],[0,0,0,7,2],[3,4,-3,4,1]])\n",
    "\n",
    "# b0 = np.asfarray([1,-1,1,-1,1])\n",
    "\n",
    "# b = b0\n",
    "\n",
    "# Ainv1 = np.identity(dim)\n",
    "\n",
    "# i = 0\n",
    "# while i < dim:             #Damit ich gehe ich jede Zeile schrittweise durch\n",
    "#     u = i\n",
    "#     while u < dim-1:                         #Partiell Pivoting\n",
    "#         if A[i][i] < A[u+1][i]:\n",
    "#             A[[i,u+1]] = A[[u+1,i]]\n",
    "#             Ainv1[[i,u+1]] = Ainv1[[u+1,i]]\n",
    "#             b[[i,u+1]] = b[[u+1,i]]\n",
    "#         u = u + 1\n",
    "\n",
    "#     c = A[i][i]                 #c ist der Vorfaktor vor dem (i,i)-Eintrag der Matrix\n",
    "#     A[i] = A[i]/c            #Division der i-ten Zeile durch den Vorfaktor an Stelle i,i\n",
    "#     Ainv1[i] = Ainv1[i]/c       #Selbiges mit der i-ten Zeile in der Einheitsmatrix\n",
    "\n",
    "#     x = 0\n",
    "\n",
    "#     while x < dim:              #Damit gehe ich jede Zeile durch, die ich von der i-ten Zeile subtrahieren muss\n",
    "#         if x == i:\n",
    "#             x = x + 1\n",
    "#             continue\n",
    "\n",
    "#         k = A[x][i]           #Koeffizient mit dem ich die Zeile i multiplizieren muss, damit ich Zeile i von i+1 abziehen kann\n",
    "\n",
    "#         j = 0                   #Mit j gehe ich die Spalten alle durch\n",
    "\n",
    "#         while j < dim:          #Damit ich gehe ich jede Spalte j in EINER Zeile durch\n",
    "#             A[x][j] = A[x][j] - k*A[i][j]\n",
    "#             Ainv1[x][j] = Ainv1[x][j] - k*Ainv1[i][j]\n",
    "#             j = j + 1\n",
    "#         x = x + 1\n",
    "\n",
    "#     i = i + 1\n",
    "#         #print(np.matrix(A))\n",
    "#         #print(np.matrix(Ainv))\n",
    "\n",
    "\n",
    "# Ainv1 = np.around(Ainv1,5)\n",
    "\n",
    "# print(np.matrix(A))\n",
    "\n",
    "# print(np.matrix(Ainv1))"
   ]
  },
  {
   "cell_type": "code",
   "execution_count": 20,
   "metadata": {},
   "outputs": [
    {
     "name": "stdout",
     "output_type": "stream",
     "text": [
      "[[ 0.4375  0.      0.      0.375  -1.8125]]\n"
     ]
    }
   ],
   "source": [
    "## x berechnen FUNKTIONIERT !!!! #################################\n",
    "i = 0\n",
    "x = np.zeros(dim)\n",
    "\n",
    "while i < dim:\n",
    "    buffer = 0\n",
    "    j = 0\n",
    "    while j < dim:\n",
    "        buffer = buffer + Ainv[i][j]*b[j]\n",
    "        j = j + 1\n",
    "    x[i] += buffer\n",
    "    i += 1\n",
    "\n",
    "#x = np.around(x,5)\n",
    "print(np.matrix(x))\n"
   ]
  },
  {
   "cell_type": "code",
   "execution_count": 22,
   "metadata": {},
   "outputs": [
    {
     "ename": "NameError",
     "evalue": "name 'b' is not defined",
     "output_type": "error",
     "traceback": [
      "\u001b[1;31m---------------------------------------------------------------------------\u001b[0m",
      "\u001b[1;31mNameError\u001b[0m                                 Traceback (most recent call last)",
      "\u001b[1;32mc:\\Users\\Dustin\\Desktop\\Numerische Methoden\\VS Code\\NM-Code-for-Excercises\\Blatt2\\excercise2.ipynb Cell 7\u001b[0m line \u001b[0;36m3\n\u001b[0;32m      <a href='vscode-notebook-cell:/c%3A/Users/Dustin/Desktop/Numerische%20Methoden/VS%20Code/NM-Code-for-Excercises/Blatt2/excercise2.ipynb#W6sZmlsZQ%3D%3D?line=0'>1</a>\u001b[0m A \u001b[39m=\u001b[39m np\u001b[39m.\u001b[39masfarray([[\u001b[39m3\u001b[39m,\u001b[39m-\u001b[39m\u001b[39m1\u001b[39m,\u001b[39m1\u001b[39m,\u001b[39m4\u001b[39m,\u001b[39m1\u001b[39m],[\u001b[39m1\u001b[39m,\u001b[39m0\u001b[39m,\u001b[39m1\u001b[39m,\u001b[39m1\u001b[39m,\u001b[39m1\u001b[39m],[\u001b[39m-\u001b[39m\u001b[39m1\u001b[39m,\u001b[39m-\u001b[39m\u001b[39m1\u001b[39m,\u001b[39m-\u001b[39m\u001b[39m1\u001b[39m,\u001b[39m-\u001b[39m\u001b[39m1\u001b[39m,\u001b[39m-\u001b[39m\u001b[39m1\u001b[39m],[\u001b[39m0\u001b[39m,\u001b[39m0\u001b[39m,\u001b[39m0\u001b[39m,\u001b[39m7\u001b[39m,\u001b[39m2\u001b[39m],[\u001b[39m3\u001b[39m,\u001b[39m4\u001b[39m,\u001b[39m-\u001b[39m\u001b[39m3\u001b[39m,\u001b[39m4\u001b[39m,\u001b[39m1\u001b[39m]])\n\u001b[1;32m----> <a href='vscode-notebook-cell:/c%3A/Users/Dustin/Desktop/Numerische%20Methoden/VS%20Code/NM-Code-for-Excercises/Blatt2/excercise2.ipynb#W6sZmlsZQ%3D%3D?line=2'>3</a>\u001b[0m s\u001b[39m.\u001b[39mlgs_solver(A,b0)\n",
      "File \u001b[1;32mC:\\Users/Dustin/Desktop/Numerische Methoden/VS Code/NM-Code-for-Excercises\\shortcuts.py:87\u001b[0m, in \u001b[0;36mlgs_solver\u001b[1;34m(A, b)\u001b[0m\n\u001b[0;32m     86\u001b[0m \u001b[39mdef\u001b[39;00m \u001b[39mlgs_solver\u001b[39m(A,b):\n\u001b[1;32m---> 87\u001b[0m     Ainv \u001b[39m=\u001b[39m matrix_inverse_pp(A)\n\u001b[0;32m     88\u001b[0m     i \u001b[39m=\u001b[39m \u001b[39m0\u001b[39m\n\u001b[0;32m     89\u001b[0m     dim \u001b[39m=\u001b[39m np\u001b[39m.\u001b[39mshape(A)[\u001b[39m0\u001b[39m]\n",
      "File \u001b[1;32mC:\\Users/Dustin/Desktop/Numerische Methoden/VS Code/NM-Code-for-Excercises\\shortcuts.py:56\u001b[0m, in \u001b[0;36mmatrix_inverse_pp\u001b[1;34m(A)\u001b[0m\n\u001b[0;32m     54\u001b[0m         A[[i,u\u001b[39m+\u001b[39m\u001b[39m1\u001b[39m]] \u001b[39m=\u001b[39m A[[u\u001b[39m+\u001b[39m\u001b[39m1\u001b[39m,i]]\n\u001b[0;32m     55\u001b[0m         Ainv[[i,u\u001b[39m+\u001b[39m\u001b[39m1\u001b[39m]] \u001b[39m=\u001b[39m Ainv[[u\u001b[39m+\u001b[39m\u001b[39m1\u001b[39m,i]]\n\u001b[1;32m---> 56\u001b[0m         b[[i,u\u001b[39m+\u001b[39m\u001b[39m1\u001b[39m]] \u001b[39m=\u001b[39m b[[u\u001b[39m+\u001b[39m\u001b[39m1\u001b[39m,i]]\n\u001b[0;32m     57\u001b[0m     u \u001b[39m=\u001b[39m u \u001b[39m+\u001b[39m \u001b[39m1\u001b[39m\n\u001b[0;32m     59\u001b[0m c \u001b[39m=\u001b[39m A[i][i]                 \u001b[39m#c ist der Vorfaktor vor dem (i,i)-Eintrag der Matrix\u001b[39;00m\n",
      "\u001b[1;31mNameError\u001b[0m: name 'b' is not defined"
     ]
    }
   ],
   "source": [
    "A = np.asfarray([[3,-1,1,4,1],[1,0,1,1,1],[-1,-1,-1,-1,-1],[0,0,0,7,2],[3,4,-3,4,1]])\n",
    "\n",
    "s.lgs_solver(A,b0)"
   ]
  }
 ],
 "metadata": {
  "kernelspec": {
   "display_name": "Python 3",
   "language": "python",
   "name": "python3"
  },
  "language_info": {
   "codemirror_mode": {
    "name": "ipython",
    "version": 3
   },
   "file_extension": ".py",
   "mimetype": "text/x-python",
   "name": "python",
   "nbconvert_exporter": "python",
   "pygments_lexer": "ipython3",
   "version": "3.11.5"
  }
 },
 "nbformat": 4,
 "nbformat_minor": 2
}
