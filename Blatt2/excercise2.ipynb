{
 "cells": [
  {
   "cell_type": "code",
   "execution_count": 1,
   "metadata": {},
   "outputs": [],
   "source": [
    "import numpy as np\n",
    "import math as m\n"
   ]
  },
  {
   "cell_type": "code",
   "execution_count": 3,
   "metadata": {},
   "outputs": [],
   "source": [
    "A = np.asfarray([[3,-1,1,4,1],[1,0,1,1,1],[-1,-1,-1,-1,-1],[0,0,0,7,2],[3,4,-3,4,1]])\n",
    "#print(np.matrix(A))\n",
    "#print(np.shape(A))\n",
    "\n",
    "\n",
    "dim = np.shape(A)[0]\n",
    "\n",
    "b0 = np.asfarray([1,-1,1,-1,1])\n",
    "b1 = np.asfarray([0,1,2,3,4])\n",
    "#print(np.shape(b0))\n",
    "#print(np.shape(b1))\n",
    "\n",
    "Ainv = np.identity(dim)\n",
    "#print(Ainv)\n",
    "\n",
    "\n",
    "\n",
    "#############Aufgabe 1, 3x3 Matrix###########################\n",
    "\n",
    "#A = np.asfarray([[3,3,6],[1,0,1],[2,2,3]])\n",
    "#print(np.matrix(A))\n",
    "\n",
    "#dim = np.shape(A)[0]\n",
    "\n",
    "#Ainv = np.identity(dim)\n",
    "\n",
    "#b0 = np.asfarray([-3,0,1])\n",
    "#print(np.matrix(b0))\n",
    "##############################################################\n",
    "\n",
    "b = b0                                  #Wähle b aus"
   ]
  },
  {
   "cell_type": "code",
   "execution_count": 2,
   "metadata": {},
   "outputs": [],
   "source": [
    "# #Blatt 3, Aufgabe 1b)\n",
    "\n",
    "# A = np.asfarray([[1.1,1.7,1.3],[1.3,1.9,2.3],[2.1,3.1,2.9]])\n",
    "\n",
    "\n",
    "# dim = np.shape(A)[0]\n",
    "\n",
    "# b0 = np.asfarray([2.0,1.6,2.2])\n",
    "\n",
    "\n",
    "# Ainv = np.identity(dim)\n",
    "\n",
    "\n",
    "# b = b0                                  #Wähle b aus"
   ]
  },
  {
   "cell_type": "code",
   "execution_count": 3,
   "metadata": {},
   "outputs": [
    {
     "name": "stdout",
     "output_type": "stream",
     "text": [
      "[[ 1.  0.  0.]\n",
      " [-0.  1.  0.]\n",
      " [-0. -0.  1.]]\n",
      "[[-22.5     -12.5      20.     ]\n",
      " [ 14.72222   6.38889 -11.66667]\n",
      " [  0.55556   2.22222  -1.66667]]\n"
     ]
    }
   ],
   "source": [
    "############### Inverse Matrix berechnen FUNKTIONIERT!!!!! ######################################\n",
    "i = 0\n",
    "while i < dim:             #Damit ich gehe ich jede Zeile schrittweise durch\n",
    "\n",
    "    if A[i][i] != 0:\n",
    "        c = A[i][i]                 #c ist der Vorfaktor vor dem (i,i)-Eintrag der Matrix\n",
    "        A[i] = A[i]/c            #Division der i-ten Zeile durch den Vorfaktor an Stelle i,i\n",
    "        Ainv[i] = Ainv[i]/c       #Selbiges mit der i-ten Zeile in der Einheitsmatrix\n",
    "\n",
    "        x = 0\n",
    "\n",
    "        while x < dim:              #Damit gehe ich jede Zeile durch, die ich von der i-ten Zeile subtrahieren muss\n",
    "            if x == i:\n",
    "                x = x + 1\n",
    "                continue\n",
    "\n",
    "            k = A[x][i]           #Koeffizient mit dem ich die Zeile i multiplizieren muss, damit ich Zeile i von i+1 abziehen kann\n",
    "\n",
    "            j = 0                   #Mit j gehe ich die Spalten alle durch\n",
    "\n",
    "            while j < dim:          #Damit ich gehe ich jede Spalte j in EINER Zeile durch\n",
    "                A[x][j] = A[x][j] - k*A[i][j]\n",
    "                Ainv[x][j] = Ainv[x][j] - k*Ainv[i][j]\n",
    "                j = j + 1\n",
    "            x = x + 1\n",
    "\n",
    "        i = i + 1\n",
    "        #print(np.matrix(A))\n",
    "        #print(np.matrix(Ainv))\n",
    "\n",
    "    else:\n",
    "        A[[i,i+1]] = A[[i+1,i]]\n",
    "        Ainv[[i,i+1]] = Ainv[[i+1,i]]\n",
    "        b[[i,i+1]] = b[[i+1,i]]\n",
    "\n",
    "\n",
    "Ainv = np.around(Ainv,5)\n",
    "\n",
    "print(np.matrix(A))\n",
    "\n",
    "print(np.matrix(Ainv))\n"
   ]
  },
  {
   "cell_type": "code",
   "execution_count": 6,
   "metadata": {},
   "outputs": [
    {
     "name": "stdout",
     "output_type": "stream",
     "text": [
      "[[-21.        13.99999    0.999998]]\n"
     ]
    }
   ],
   "source": [
    "## x berechnen FUNKTIONIERT !!!! #################################\n",
    "i = 0\n",
    "x = np.zeros(dim)\n",
    "\n",
    "while i < dim:\n",
    "    buffer = 0\n",
    "    j = 0\n",
    "    while j < dim:\n",
    "        buffer = buffer + Ainv[i][j]*b[j]\n",
    "        j = j + 1\n",
    "    x[i] += buffer\n",
    "    i += 1\n",
    "\n",
    "#x = np.around(x,5)\n",
    "print(np.matrix(x))\n"
   ]
  }
 ],
 "metadata": {
  "kernelspec": {
   "display_name": "Python 3",
   "language": "python",
   "name": "python3"
  },
  "language_info": {
   "codemirror_mode": {
    "name": "ipython",
    "version": 3
   },
   "file_extension": ".py",
   "mimetype": "text/x-python",
   "name": "python",
   "nbconvert_exporter": "python",
   "pygments_lexer": "ipython3",
   "version": "3.11.5"
  }
 },
 "nbformat": 4,
 "nbformat_minor": 2
}
