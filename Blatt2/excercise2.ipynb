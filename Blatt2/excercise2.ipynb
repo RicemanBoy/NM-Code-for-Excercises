{
 "cells": [
  {
   "cell_type": "code",
   "execution_count": 53,
   "metadata": {},
   "outputs": [],
   "source": [
    "import numpy as np\n",
    "import math as m\n"
   ]
  },
  {
   "cell_type": "code",
   "execution_count": 64,
   "metadata": {},
   "outputs": [
    {
     "name": "stdout",
     "output_type": "stream",
     "text": [
      "0\n",
      "1\n",
      "2\n",
      "3\n",
      "4\n"
     ]
    }
   ],
   "source": [
    "A = np.asfarray([[3,-1,1,4,1],[1,0,1,1,1],[-1,-1,-1,-1,-1],[0,0,0,7,2],[3,4,-3,4,1]])\n",
    "#print(np.matrix(A))\n",
    "#print(np.shape(A))\n",
    "\n",
    "dim = np.shape(A)[0]\n",
    "\n",
    "b0 = np.asfarray([1,-1,1,-1,1])\n",
    "b1 = np.asfarray([0,1,2,3,4])\n",
    "#print(np.shape(b0))\n",
    "#print(np.shape(b1))\n",
    "\n",
    "Ainv = np.identity(dim)\n",
    "#print(Ainv)\n"
   ]
  },
  {
   "cell_type": "code",
   "execution_count": 73,
   "metadata": {},
   "outputs": [
    {
     "name": "stdout",
     "output_type": "stream",
     "text": [
      "[[ 1.00000000e+00 -3.33333333e-01  3.33333333e-01  1.33333333e+00\n",
      "   3.33333333e-01]\n",
      " [-2.12455788e+01  1.00000000e+00 -1.92455788e+01 -2.22455788e+01\n",
      "  -1.92455788e+01]\n",
      " [ 1.07830173e-16 -5.19434860e-02  1.00000000e+00  1.15583046e+00\n",
      "   1.00000000e+00]\n",
      " [ 0.00000000e+00  0.00000000e+00 -1.17375479e+02  1.00000000e+00\n",
      "  -7.39736213e+01]\n",
      " [ 3.05335827e+00  4.07114437e+00 -3.05335827e+00  5.49595817e+01\n",
      "  -6.25141914e+03]]\n",
      "[[ 1.          0.          0.          0.          0.        ]\n",
      " [ 2.33333333  1.          0.          0.          0.        ]\n",
      " [ 0.         99.21020889  1.          0.          0.        ]\n",
      " [ 0.          0.         -8.54994257  1.          0.        ]\n",
      " [ 0.          0.          0.         50.8907885   1.        ]]\n"
     ]
    }
   ],
   "source": [
    "for i in range(dim-1):             #Damit ich gehe ich jede Zeile schrittweise durch\n",
    "\n",
    "    if A[i][i] != 0:                #c ist der Vorfaktor vor dem (i,i)-Eintrag der Matrix\n",
    "        c = A[i][i]\n",
    "        A[i] = A[i]/c            #Division der i-ten Zeile durch den Vorfaktor an Stelle i,i\n",
    "        Ainv[i] = Ainv[i]/c       #Selbiges mit der i-ten Zeile in der Einheitsmatrix\n",
    "\n",
    "        x = 0\n",
    "\n",
    "        while x < dim:              #Damit gehe ich jede Zeile durch, die ich von der i-ten Zeile subtrahieren muss\n",
    "            if x = i:\n",
    "                continue            #HIER WEITERMACHEN!!!!!!!!!!!!!!!\n",
    "            k = A[x][i]/c           #Koeffizient mit dem ich die Zeile i multiplizieren muss, damit ich Zeile i von i+1 abziehen kann\n",
    "\n",
    "            j = i                   #Mit j gehe ich die Spalten alle durch von i-(dim-1), wobei (dim-1) = letzte Spalte\n",
    "\n",
    "\n",
    "            while j < dim:          #Damit ich gehe ich jede Spalte in EINER Zeile durch\n",
    "                A[i+1][j] = A[i+1][j] - k*A[i][j]\n",
    "                Ainv[i+1][j] = Ainv[i+1][j] - k*Ainv[i][j]\n",
    "                j = j+1\n",
    "\n",
    "    else:\n",
    "        A[[i,i+1]] = A[[i+1,i]]\n",
    "        i = i-1\n",
    "\n",
    "print(np.matrix(A))\n",
    "\n",
    "print(np.matrix(Ainv))\n"
   ]
  }
 ],
 "metadata": {
  "kernelspec": {
   "display_name": "Python 3",
   "language": "python",
   "name": "python3"
  },
  "language_info": {
   "codemirror_mode": {
    "name": "ipython",
    "version": 3
   },
   "file_extension": ".py",
   "mimetype": "text/x-python",
   "name": "python",
   "nbconvert_exporter": "python",
   "pygments_lexer": "ipython3",
   "version": "3.11.2"
  }
 },
 "nbformat": 4,
 "nbformat_minor": 2
}
