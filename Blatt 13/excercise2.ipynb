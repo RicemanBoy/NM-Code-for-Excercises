{
 "cells": [
  {
   "cell_type": "code",
   "execution_count": 3,
   "metadata": {},
   "outputs": [],
   "source": [
    "import numpy as np\n",
    "\n",
    "import sys\n",
    "sys.path.insert(0,\"C:/Users/Dustin/Desktop/Numerische Methoden/VS Code/NM-Code-for-Excercises\")\n",
    "import shortcuts as s"
   ]
  },
  {
   "cell_type": "code",
   "execution_count": 10,
   "metadata": {},
   "outputs": [],
   "source": [
    "data1 = np.loadtxt(\"data1.txt\")\n",
    "data2 = np.loadtxt(\"data2.txt\")\n",
    "data3 = np.loadtxt(\"data3.txt\")\n",
    "data4 = np.loadtxt(\"data4.txt\")\n",
    "\n",
    "\n",
    "def y1(x,a,b):\n",
    "    return a*np.exp(b*x)\n",
    "\n",
    "def y2(x,a,b):\n",
    "    return 1/(a+b*x)\n",
    "\n",
    "def y3(x,a,b):\n",
    "    return (a*x)/(x+b)"
   ]
  }
 ],
 "metadata": {
  "kernelspec": {
   "display_name": "Python 3",
   "language": "python",
   "name": "python3"
  },
  "language_info": {
   "codemirror_mode": {
    "name": "ipython",
    "version": 3
   },
   "file_extension": ".py",
   "mimetype": "text/x-python",
   "name": "python",
   "nbconvert_exporter": "python",
   "pygments_lexer": "ipython3",
   "version": "3.11.2"
  }
 },
 "nbformat": 4,
 "nbformat_minor": 2
}
