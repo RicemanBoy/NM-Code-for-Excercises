{
 "cells": [
  {
   "cell_type": "code",
   "execution_count": 6,
   "metadata": {},
   "outputs": [],
   "source": [
    "import numpy as np\n",
    "\n",
    "import sys\n",
    "sys.path.insert(0,\"C:/Users/Dustin/Desktop/Numerische Methoden/VS Code/NM-Code-for-Excercises\")\n",
    "import shortcuts as s"
   ]
  },
  {
   "cell_type": "code",
   "execution_count": 7,
   "metadata": {},
   "outputs": [
    {
     "data": {
      "text/plain": [
       "array([3.73205081, 3.        , 2.        , 0.26794919, 1.        ])"
      ]
     },
     "execution_count": 7,
     "metadata": {},
     "output_type": "execute_result"
    }
   ],
   "source": [
    "A = np.asfarray([[2,-1,0,0,0],[-1,2,-1,0,0],[0,-1,2,-1,0],[0,0,-1,2,-1],[0,0,0,-1,2]])\n",
    "\n",
    "np.linalg.eig(A)[0]"
   ]
  },
  {
   "cell_type": "code",
   "execution_count": 13,
   "metadata": {},
   "outputs": [],
   "source": [
    "def QL(A,precision):\n",
    "\n",
    "    dim = np.shape(A)[0]\n",
    "\n",
    "    # sum = 0                           just to check, whether A stays symmetric, yes it does\n",
    "\n",
    "    delta = 1\n",
    "\n",
    "    steps = 0\n",
    "\n",
    "    while delta > precision:\n",
    "\n",
    "        B = A\n",
    "\n",
    "        Q = np.identity(dim)\n",
    "\n",
    "        for i in range(dim-1):\n",
    "            q = dim - 1 - i\n",
    "            p = q - 1\n",
    "\n",
    "            t = -((A[p][q])/(A[q][q]))\n",
    "            #c = A[q][q]/((A[p][q]**2+A[q][q]**2)**0.5)\n",
    "            #s = -A[q][p]/((A[q][p]**2+A[q][q]**2)**0.5)\n",
    "            cos = 1/(((t**2)+1)**0.5)\n",
    "            sin = t*cos\n",
    "            P = np.identity(dim)\n",
    "            P[p][p] = cos\n",
    "            P[q][q] = cos\n",
    "            P[p][q] = sin\n",
    "            P[q][p] = -sin\n",
    "\n",
    "            if i == 0:\n",
    "                Q = s.transpose(P)\n",
    "                #Q = np.transpose(P)\n",
    "                continue\n",
    "\n",
    "            #Q = np.dot(Q,np.transpose(P))\n",
    "            Q = s.matrix_dot(Q, s.transpose(P))\n",
    "\n",
    "        #Qt = np.transpose(Q)\n",
    "        Qt = s.transpose(Q)\n",
    "\n",
    "        #L = np.dot(Qt,A)\n",
    "        L = s.matrix_dot(Qt,A)\n",
    "\n",
    "        #A = np.dot(L,Q)\n",
    "        A = s.matrix_dot(L,Q)\n",
    "\n",
    "        delta = 0\n",
    "\n",
    "        for j in range(dim):\n",
    "            delta += np.abs(A[j][j]-B[j][j])\n",
    "\n",
    "        steps += 1\n",
    "\n",
    "        # for i in range(dim):\n",
    "        #     for j in range(dim):\n",
    "        #         if i == j:\n",
    "        #             continue\n",
    "        #         sum += A[i][j] - A[j][i]\n",
    "\n",
    "    return A, steps#, sum"
   ]
  },
  {
   "cell_type": "code",
   "execution_count": 15,
   "metadata": {},
   "outputs": [
    {
     "name": "stdout",
     "output_type": "stream",
     "text": [
      "Eigenvalue 0  :  0.2799368411647199\n",
      "Eigenvalue 1  :  1.007102530658222\n",
      "Eigenvalue 2  :  1.9901652905869922\n",
      "Eigenvalue 3  :  2.991632667096466\n",
      "Eigenvalue 4  :  3.7311626704936462\n",
      "Steps:  55\n",
      "[[ 0.28  0.    0.13  0.06  0.03]\n",
      " [ 0.    1.01 -0.    0.12 -0.  ]\n",
      " [ 0.13 -0.    1.99  0.    0.03]\n",
      " [ 0.06  0.12  0.    2.99 -0.  ]\n",
      " [ 0.03 -0.    0.03 -0.    3.73]]\n"
     ]
    }
   ],
   "source": [
    "A = np.asfarray([[2,-1,0,0,0],[-1,2,-1,0,0],[0,-1,2,-1,0],[0,0,-1,2,-1],[0,0,0,-1,2]])\n",
    "\n",
    "dim = np.shape(A)[0]\n",
    "\n",
    "Anew,steps = QL(A,1e-10)\n",
    "#Anew = np.around(Anew,5)\n",
    "\n",
    "for i in range(dim):\n",
    "    print(\"Eigenvalue\", i ,\" : \" , Anew[i][i])\n",
    "\n",
    "print(\"Steps: \", steps)\n",
    "\n",
    "print(np.around(np.matrix(Anew),2))\n",
    "\n",
    "# print(check)"
   ]
  },
  {
   "cell_type": "code",
   "execution_count": 41,
   "metadata": {},
   "outputs": [],
   "source": [
    "def QL_new(A,precision):\n",
    "\n",
    "    dim = np.shape(A)[0]\n",
    "\n",
    "    # sum = 0                           just to check, whether A stays symmetric, yes it does\n",
    "\n",
    "    delta = 1\n",
    "\n",
    "    steps = 0\n",
    "\n",
    "    while delta > precision:\n",
    "\n",
    "        B = A\n",
    "\n",
    "        for i in range(dim-1):\n",
    "            q = dim - 1 - i\n",
    "            p = q - 1\n",
    "\n",
    "            t = -((A[p][q])/(A[q][q]))\n",
    "            #c = A[q][q]/((A[p][q]**2+A[q][q]**2)**0.5)\n",
    "            #s = -A[q][p]/((A[q][p]**2+A[q][q]**2)**0.5)\n",
    "            cos = 1/(((t**2)+1)**0.5)\n",
    "            sin = t*cos\n",
    "            P = np.identity(dim)\n",
    "            P[p][p] = cos\n",
    "            P[q][q] = cos\n",
    "            P[p][q] = sin\n",
    "            P[q][p] = -sin\n",
    "\n",
    "            A = np.dot(P,A)\n",
    "            A = np.dot(A,np.transpose(P))\n",
    "\n",
    "            for r in range(dim-2,0,1):                      #Givens Rotations to eliminate R\n",
    "                t = A[r+1][r-1]/A[r+1][r]\n",
    "                cos = 1/((t*t+1)**0.5)\n",
    "                sin = t*cos\n",
    "                P = np.identity(dim)\n",
    "                P[r-1][r-1] = cos\n",
    "                P[r][r] = cos\n",
    "                P[r-1][r] = sin\n",
    "                P[r][r-1] = -sin\n",
    "                A = np.dot(P,A)\n",
    "                A = np.dot(A,np.transpose(P))\n",
    "\n",
    "        delta = 0\n",
    "\n",
    "        for j in range(dim):\n",
    "            delta += np.abs(A[j][j]-B[j][j])\n",
    "\n",
    "        steps += 1\n",
    "\n",
    "        if steps >= 1000:\n",
    "            delta = 0\n",
    "\n",
    "        # for i in range(dim):\n",
    "        #     for j in range(dim):\n",
    "        #         if i == j:\n",
    "        #             continue\n",
    "        #         sum += A[i][j] - A[j][i]\n",
    "\n",
    "    return A, steps#, sum"
   ]
  },
  {
   "cell_type": "code",
   "execution_count": 43,
   "metadata": {},
   "outputs": [
    {
     "name": "stdout",
     "output_type": "stream",
     "text": [
      "Eigenvalue 0  :  0.26794919243112286\n",
      "Eigenvalue 1  :  1.0000000000000033\n",
      "Eigenvalue 2  :  2.0000000000000084\n",
      "Eigenvalue 3  :  3.000000000081439\n",
      "Eigenvalue 4  :  3.732050807487457\n",
      "Steps:  55\n",
      "[[ 0.27 -0.   -0.    0.    0.  ]\n",
      " [ 0.    1.   -0.   -0.    0.  ]\n",
      " [ 0.    0.    2.   -0.   -0.  ]\n",
      " [ 0.    0.   -0.    3.   -0.  ]\n",
      " [-0.   -0.    0.   -0.    3.73]]\n"
     ]
    }
   ],
   "source": [
    "A = np.asfarray([[2,-1,0,0,0],[-1,2,-1,0,0],[0,-1,2,-1,0],[0,0,-1,2,-1],[0,0,0,-1,2]])\n",
    "\n",
    "dim = np.shape(A)[0]\n",
    "\n",
    "Anew,steps = QL_new(A,1e-10)\n",
    "#Anew = np.around(Anew,5)\n",
    "\n",
    "for i in range(dim):\n",
    "    print(\"Eigenvalue\", i ,\" : \" , Anew[i][i])\n",
    "\n",
    "print(\"Steps: \", steps)\n",
    "\n",
    "print(np.around(np.matrix(Anew),2))\n",
    "\n",
    "# print(check)"
   ]
  }
 ],
 "metadata": {
  "kernelspec": {
   "display_name": "Python 3",
   "language": "python",
   "name": "python3"
  },
  "language_info": {
   "codemirror_mode": {
    "name": "ipython",
    "version": 3
   },
   "file_extension": ".py",
   "mimetype": "text/x-python",
   "name": "python",
   "nbconvert_exporter": "python",
   "pygments_lexer": "ipython3",
   "version": "3.11.2"
  }
 },
 "nbformat": 4,
 "nbformat_minor": 2
}
