{
 "cells": [
  {
   "cell_type": "code",
   "execution_count": 36,
   "metadata": {},
   "outputs": [],
   "source": [
    "import numpy as np\n",
    "\n",
    "import sys\n",
    "sys.path.insert(0,\"C:/Users/Dustin/Desktop/Numerische Methoden/VS Code/NM-Code-for-Excercises\")\n",
    "import shortcuts as s"
   ]
  },
  {
   "cell_type": "code",
   "execution_count": 37,
   "metadata": {},
   "outputs": [
    {
     "data": {
      "text/plain": [
       "array([3.73205081, 3.        , 2.        , 0.26794919, 1.        ])"
      ]
     },
     "execution_count": 37,
     "metadata": {},
     "output_type": "execute_result"
    }
   ],
   "source": [
    "A = np.asfarray([[2,-1,0,0,0],[-1,2,-1,0,0],[0,-1,2,-1,0],[0,0,-1,2,-1],[0,0,0,-1,2]])\n",
    "\n",
    "np.linalg.eig(A)[0]"
   ]
  },
  {
   "cell_type": "code",
   "execution_count": 48,
   "metadata": {},
   "outputs": [],
   "source": [
    "def QL(A,step):\n",
    "\n",
    "    dim = np.shape(A)[0]\n",
    "\n",
    "    # sum = 0                           just to check, whether A stays symmetric, yes it does\n",
    "\n",
    "    for o in range(step):\n",
    "\n",
    "        Q = np.identity(dim)\n",
    "\n",
    "        for i in range(dim-1):\n",
    "            q = dim - 1 - i\n",
    "            p = q - 1\n",
    "\n",
    "            t = -((A[p][q])/(A[q][q]))\n",
    "            #c = A[q][q]/((A[p][q]**2+A[q][q]**2)**0.5)\n",
    "            #s = -A[q][p]/((A[q][p]**2+A[q][q]**2)**0.5)\n",
    "            cos = 1/(((t**2)+1)**0.5)\n",
    "            sin = t*cos\n",
    "            P = np.identity(dim)\n",
    "            P[p][p] = cos\n",
    "            P[q][q] = cos\n",
    "            P[p][q] = sin\n",
    "            P[q][p] = -sin\n",
    "\n",
    "            if i == 0:\n",
    "                Q = s.transpose(P)\n",
    "                continue\n",
    "\n",
    "            #Q = np.dot(Q,np.transpose(P))\n",
    "            Q = s.matrix_dot(Q, s.transpose(P))\n",
    "\n",
    "        #Qt = np.transpose(Q)\n",
    "        Qt = s.transpose(Q)\n",
    "\n",
    "        #L = np.dot(Qt,A)\n",
    "        L = s.matrix_dot(Qt,A)\n",
    "\n",
    "        #A = np.dot(L,Q)\n",
    "        A = s.matrix_dot(L,Q)\n",
    "\n",
    "        # for i in range(dim):\n",
    "        #     for j in range(dim):\n",
    "        #         if i == j:\n",
    "        #             continue\n",
    "        #         sum += A[i][j] - A[j][i]\n",
    "\n",
    "    return A#, sum"
   ]
  },
  {
   "cell_type": "code",
   "execution_count": 49,
   "metadata": {},
   "outputs": [
    {
     "name": "stdout",
     "output_type": "stream",
     "text": [
      "Eigenvalue 0  :  0.2799368411647197\n",
      "Eigenvalue 1  :  1.0071025306582135\n",
      "Eigenvalue 2  :  1.9901652905866445\n",
      "Eigenvalue 3  :  2.991632667019574\n",
      "Eigenvalue 4  :  3.731162670570924\n"
     ]
    }
   ],
   "source": [
    "A = np.asfarray([[2,-1,0,0,0],[-1,2,-1,0,0],[0,-1,2,-1,0],[0,0,-1,2,-1],[0,0,0,-1,2]])\n",
    "\n",
    "dim = np.shape(A)[0]\n",
    "\n",
    "Anew = QL(A,100)\n",
    "#Anew = np.around(Anew,5)\n",
    "\n",
    "for i in range(dim):\n",
    "    print(\"Eigenvalue\", i ,\" : \" , Anew[i][i])\n",
    "\n",
    "# print(check)"
   ]
  }
 ],
 "metadata": {
  "kernelspec": {
   "display_name": "Python 3",
   "language": "python",
   "name": "python3"
  },
  "language_info": {
   "codemirror_mode": {
    "name": "ipython",
    "version": 3
   },
   "file_extension": ".py",
   "mimetype": "text/x-python",
   "name": "python",
   "nbconvert_exporter": "python",
   "pygments_lexer": "ipython3",
   "version": "3.11.2"
  }
 },
 "nbformat": 4,
 "nbformat_minor": 2
}
