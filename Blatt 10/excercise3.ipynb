{
 "cells": [
  {
   "cell_type": "code",
   "execution_count": 48,
   "metadata": {},
   "outputs": [],
   "source": [
    "import numpy as np\n",
    "import matplotlib.pyplot as plt\n",
    "\n",
    "import sys\n",
    "sys.path.insert(0,\"C:/Users/Dustin/Desktop/Numerische Methoden/VS Code/NM-Code-for-Excercises\")\n",
    "import shortcuts as s"
   ]
  },
  {
   "cell_type": "code",
   "execution_count": 49,
   "metadata": {},
   "outputs": [
    {
     "name": "stdout",
     "output_type": "stream",
     "text": [
      "[[ 5. -2.  4.  1.]\n",
      " [ 4.  3. -3.  6.]\n",
      " [ 3.  6. -3. -6.]\n",
      " [ 1.  0.  1.  1.]]\n",
      "\n",
      " [[ 9.  1.  1.  7.]\n",
      " [ 4.  3. -3.  6.]\n",
      " [ 3.  6. -3. -6.]\n",
      " [ 1.  0.  1.  1.]]\n",
      "\n",
      " [[ 4.  3. -3.  6.]\n",
      " [ 9.  1.  1.  7.]\n",
      " [ 3.  6. -3. -6.]\n",
      " [ 1.  0.  1.  1.]]\n",
      "\n",
      " [[ 4.  9.  3.  1.]\n",
      " [ 3.  1.  6.  0.]\n",
      " [-3.  1. -3.  1.]\n",
      " [ 6.  7. -6.  1.]]\n"
     ]
    }
   ],
   "source": [
    "C = np.asfarray([[-2,5,4,1],[4,3,-3,6],[3,6,-3,-6],[1,0,1,1]])\n",
    "\n",
    "dim = np.shape(C)[0]\n",
    "\n",
    "C[0][0], C[0][1] = C[0][1], C[0][0]\n",
    "\n",
    "print(C)\n",
    "\n",
    "C[0] = C[0] + C[1]\n",
    "\n",
    "print(\"\\n\",C)\n",
    "\n",
    "for i in range(dim):\n",
    "    C[0][i], C[1][i] = C[1][i], C[0][i]\n",
    "\n",
    "print(\"\\n\",C)\n",
    "\n",
    "print(\"\\n\", np.transpose(C))"
   ]
  },
  {
   "cell_type": "code",
   "execution_count": 50,
   "metadata": {},
   "outputs": [
    {
     "name": "stdout",
     "output_type": "stream",
     "text": [
      "[[ -2.           8.25         4.77777778   1.        ]\n",
      " [  4.           2.25         1.66666667   6.        ]\n",
      " [  0.           0.5625      -8.91666667 -10.5       ]\n",
      " [  0.           0.           8.2962963    7.66666667]]\n"
     ]
    }
   ],
   "source": [
    "C = np.asfarray([[-2,5,4,1],[4,3,-3,6],[3,6,-3,-6],[1,0,1,1]])\n",
    "\n",
    "dim = np.shape(C)[0]\n",
    "\n",
    "for r in range(dim-1):\n",
    "    if r == 0:                      #so we start with r = 1\n",
    "        continue\n",
    "    M = 0\n",
    "    rowprime = 0\n",
    "    for i in range(dim):\n",
    "        if i <= r-1:                  #make sure we search under the diagonal\n",
    "            continue\n",
    "        if np.abs(C[i][r-1]) > M:\n",
    "            M = np.abs(C[i][r-1])\n",
    "            rowprime = i\n",
    "    #print(\"M:\", M)\n",
    "    if M > 0:\n",
    "        for i in range(dim):\n",
    "            C[i][r], C[i][rowprime] = C[i][rowprime], C[i][r]             #swap col\n",
    "            C[r][i], C[rowprime][i] = C[rowprime][i], C[r][i]             #swap rows\n",
    "        for i in range(dim):\n",
    "            if i <= r:                        #so we start at i=r+1\n",
    "                continue\n",
    "            lamba = C[i][r-1]/C[r][r-1]\n",
    "            #print(\"Lambda:\", lamba)\n",
    "            C[i] = C[i] - lamba*C[r]                  #row substraction\n",
    "            for j in range(dim):\n",
    "                C[j][r] = C[j][r] + lamba*C[j][i]                   #col addition\n",
    "\n",
    "\n",
    "print(C)"
   ]
  }
 ],
 "metadata": {
  "kernelspec": {
   "display_name": "Python 3",
   "language": "python",
   "name": "python3"
  },
  "language_info": {
   "codemirror_mode": {
    "name": "ipython",
    "version": 3
   },
   "file_extension": ".py",
   "mimetype": "text/x-python",
   "name": "python",
   "nbconvert_exporter": "python",
   "pygments_lexer": "ipython3",
   "version": "3.11.2"
  }
 },
 "nbformat": 4,
 "nbformat_minor": 2
}
