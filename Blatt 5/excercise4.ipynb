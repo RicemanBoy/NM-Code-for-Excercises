{
 "cells": [
  {
   "cell_type": "code",
   "execution_count": 1,
   "metadata": {},
   "outputs": [],
   "source": [
    "import numpy as np\n",
    "\n",
    "import matplotlib.pyplot as plt\n",
    "\n",
    "import random\n",
    "\n",
    "import sys\n",
    "sys.path.insert(0,\"C:/Users/Dustin/Desktop/Numerische Methoden/VS Code/NM-Code-for-Excercises\")\n",
    "import shortcuts as s"
   ]
  },
  {
   "cell_type": "code",
   "execution_count": 2,
   "metadata": {},
   "outputs": [
    {
     "name": "stdout",
     "output_type": "stream",
     "text": [
      "Pi:  3.141144\n",
      "0.00014281087310294552\n",
      "This is the error:  0.001\n"
     ]
    }
   ],
   "source": [
    "order = 1000000\n",
    "\n",
    "dis1 = np.random.rand(order,1)\n",
    "\n",
    "dis2 = np.random.rand(order,1)\n",
    "\n",
    "dist = []\n",
    "\n",
    "#for i in range(order):\n",
    "    #dist = np.append(dist, np.sqrt(dis1[i]**2+dis2[i]**2))\n",
    "\n",
    "dist = np.sqrt(dis1**2+dis2**2)\n",
    "\n",
    "circle = 0\n",
    "\n",
    "for i in range(order):\n",
    "    if dist[i] <= 1:\n",
    "        circle += 1\n",
    "\n",
    "circle = circle/order\n",
    "\n",
    "pi = 4*circle\n",
    "\n",
    "print(\"Pi: \", pi)\n",
    "\n",
    "deviation = np.abs(np.pi-pi)/np.pi\n",
    "\n",
    "print(deviation)\n",
    "\n",
    "error = 1/np.sqrt(order)\n",
    "\n",
    "print(\"This is the error: \", error)"
   ]
  },
  {
   "cell_type": "code",
   "execution_count": 3,
   "metadata": {},
   "outputs": [
    {
     "name": "stdout",
     "output_type": "stream",
     "text": [
      "This is the volume of the body:  22.00384\n",
      "Error of Monte Carlo:  0.001\n"
     ]
    }
   ],
   "source": [
    "#Torus: -1 < z < 1, -4 < x,y < 4        Donut in xy-Ebene mit Höhe 2 [z=(-1,1)] und Hauptradius R = 3 und Nebenradius r = 1  [x,y=(-4,4)]\n",
    "\n",
    "order = 1000000\n",
    "\n",
    "xbox = [random.uniform(-4,4) for i in range(order)]\n",
    "\n",
    "ybox = [random.uniform(-4,4) for i in range(order)]\n",
    "\n",
    "zbox = [random.uniform(-1,1) for i in range(order)]\n",
    "\n",
    "\n",
    "def check_inside_body(x,y,z):\n",
    "    if (z**2 + ((x**2+y**2)**0.5-3)**2) <= 1 and 1 <= x <= 4 and -3 <= y <= 4 and -1 <= z <= 1:\n",
    "        return 1\n",
    "    else:\n",
    "        return 0\n",
    "\n",
    "number = 0\n",
    "\n",
    "for i in range(order):\n",
    "    number += check_inside_body(xbox[i],ybox[i],zbox[i])\n",
    "\n",
    "part = number/order                   #Anteil ausrechnen, der in dem Körper liegt\n",
    "\n",
    "v = part*128                     #Mit dem Volumen des einhüllenden Quaders multiplizieren\n",
    "\n",
    "print(\"This is the volume of the body: \", v)\n",
    "\n",
    "error = 1/(np.sqrt(order))\n",
    "\n",
    "print(\"Error of Monte Carlo: \", error)\n",
    "#density = 1/v                   #Masse = 1kg gesetzt"
   ]
  },
  {
   "cell_type": "code",
   "execution_count": 4,
   "metadata": {},
   "outputs": [
    {
     "name": "stdout",
     "output_type": "stream",
     "text": [
      "This is the center of mass:  [[2.4100e+00 1.6494e-01 3.0000e-04]]\n"
     ]
    }
   ],
   "source": [
    "def masscenter(x,y,z):\n",
    "    s = np.asfarray([0,0,0])\n",
    "    k = 0\n",
    "    for i in range(order):\n",
    "        if check_inside_body(x[i],y[i],z[i]) == 1:\n",
    "            s[0] = s[0] + x[i]\n",
    "            s[1] = s[1] + y[i]\n",
    "            s[2] = s[2] + z[i]\n",
    "            k += 1\n",
    "    s = s/k\n",
    "    return s\n",
    "\n",
    "center = np.matrix(np.around(masscenter(xbox,ybox,zbox),5))\n",
    "\n",
    "print(\"This is the center of mass: \", center)"
   ]
  }
 ],
 "metadata": {
  "kernelspec": {
   "display_name": "base",
   "language": "python",
   "name": "python3"
  },
  "language_info": {
   "codemirror_mode": {
    "name": "ipython",
    "version": 3
   },
   "file_extension": ".py",
   "mimetype": "text/x-python",
   "name": "python",
   "nbconvert_exporter": "python",
   "pygments_lexer": "ipython3",
   "version": "3.11.5"
  }
 },
 "nbformat": 4,
 "nbformat_minor": 2
}
