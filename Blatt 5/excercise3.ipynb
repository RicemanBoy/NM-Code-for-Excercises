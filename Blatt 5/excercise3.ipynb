{
 "cells": [
  {
   "cell_type": "code",
   "execution_count": 153,
   "metadata": {},
   "outputs": [],
   "source": [
    "import numpy as np\n",
    "\n",
    "import matplotlib.pyplot as plt\n",
    "\n",
    "import sys\n",
    "sys.path.insert(0,\"C:/Users/Dustin/Desktop/Numerische Methoden/VS Code/NM-Code-for-Excercises\")\n",
    "import shortcuts as s"
   ]
  },
  {
   "cell_type": "code",
   "execution_count": 154,
   "metadata": {},
   "outputs": [],
   "source": [
    "#x = 3\n",
    "\n",
    "def f(x):\n",
    "    return (x**4)*(np.log10(x+(1+x**2)**0.5))          #passt, habs gecheckt, f ist ein numpyfloat, ich gehe davon aus, dass mit log, log10 gemeint ist"
   ]
  },
  {
   "cell_type": "code",
   "execution_count": 155,
   "metadata": {},
   "outputs": [],
   "source": [
    "#Extended trapezoidal rule\n",
    "\n",
    "def integral_ext_trap(f,a,b,N):                     #funktioniert\n",
    "    if b >= a:\n",
    "        h = (b-a)/N\n",
    "        x = a\n",
    "        area = 0.5*(f(a)+f(b))\n",
    "        i = 1\n",
    "        while i < N:\n",
    "            area += f(x+i*h)\n",
    "            i += 1\n",
    "        area = h*area\n",
    "    else:\n",
    "        h = (a-b)/N\n",
    "        x = b\n",
    "        area = 0.5*(f(a)+f(b))\n",
    "        i = 1\n",
    "        while i <= N:\n",
    "            area += f(i)\n",
    "            i += 1\n",
    "        area = -h*area\n",
    "    return area"
   ]
  },
  {
   "cell_type": "code",
   "execution_count": 156,
   "metadata": {},
   "outputs": [
    {
     "name": "stdout",
     "output_type": "stream",
     "text": [
      "3.5409610469542954\n",
      "-2.1811667064929294e-10\n",
      "1e-10\n"
     ]
    }
   ],
   "source": [
    "order = 100000\n",
    "\n",
    "I = s.integral_ext_trap(f,0,2,order)\n",
    "\n",
    "exact = 3.5409610461819527733248015434794460\n",
    "\n",
    "deviation = (exact-I)/exact\n",
    "\n",
    "print(I)\n",
    "\n",
    "print(deviation)\n",
    "\n",
    "error = 1/(order**2)\n",
    "\n",
    "print(error)"
   ]
  },
  {
   "cell_type": "code",
   "execution_count": 157,
   "metadata": {},
   "outputs": [],
   "source": [
    "#Extended Simpson-Rule\n",
    "\n",
    "def integral_ext_simp(f,a,b,N):                         #funktioniert\n",
    "    if b >= a:\n",
    "        h = (b-a)/N\n",
    "        x = a\n",
    "        area = (1/3)*(f(a)+f(b))\n",
    "        i = 1\n",
    "        while i < N:\n",
    "            if (i % 2 == 0):\n",
    "                area += (2/3)*f(x+i*h)\n",
    "            else:\n",
    "                area += (4/3)*f(x+i*h)\n",
    "            i += 1\n",
    "        area = h*area\n",
    "    else:\n",
    "        h = (a-b)/N\n",
    "        x = b\n",
    "        area = (1/3)*(f(a)+f(b))\n",
    "        i = 1\n",
    "        while i < N:\n",
    "            if (i % 2 == 0):\n",
    "                area += (2/3)*f(x+i*h)\n",
    "            else:\n",
    "                area += (4/3)*f(x+i*h)\n",
    "            i += 1\n",
    "        area = h*area\n",
    "    return area"
   ]
  },
  {
   "cell_type": "code",
   "execution_count": 158,
   "metadata": {},
   "outputs": [
    {
     "name": "stdout",
     "output_type": "stream",
     "text": [
      "3.5409610461865273\n",
      "-1.2918986938865157e-12\n",
      "1e-12\n"
     ]
    }
   ],
   "source": [
    "order = 1000\n",
    "\n",
    "I = s.integral_ext_simp(f,0,2,order)\n",
    "\n",
    "exact = 3.5409610461819527733248015434794460\n",
    "\n",
    "deviation = (exact-I)/exact\n",
    "\n",
    "print(I)\n",
    "\n",
    "print(deviation)\n",
    "\n",
    "error = 1/(order**4)\n",
    "\n",
    "print(error)"
   ]
  },
  {
   "cell_type": "code",
   "execution_count": 241,
   "metadata": {},
   "outputs": [],
   "source": [
    "#Romberg integration\n",
    "\n",
    "def integral_romberg(f,a,b,eps):\n",
    "\n",
    "    h = b - a \n",
    "\n",
    "    x = np.asfarray([h**2])\n",
    "    y = np.asfarray([])\n",
    "\n",
    "    Inew = 0\n",
    "\n",
    "    if b >= a:                                              #Fallunterscheidung für b>a bzw b<=a\n",
    "        I0 = (h/2)*(f(a)+f(b))\n",
    "        y = np.append(y,I0)\n",
    "\n",
    "        In = I0\n",
    "        In1 = 0.5*(I0 + h*f(a+0.5*b))\n",
    "\n",
    "        i = 2\n",
    "        o = 0\n",
    "        \n",
    "        while o < 1:\n",
    "\n",
    "            if np.abs((In1-In)) > np.abs(eps*In):\n",
    "                k = 0\n",
    "                sum = 0\n",
    "                deltan = (h/(2**(i-1)))\n",
    "\n",
    "                In = In1\n",
    "                \n",
    "                while k <= (2**(i-1)-1):\n",
    "                    sum += f(a+(k+0.5)*deltan)\n",
    "                    k += 1\n",
    "\n",
    "                Inew = deltan*sum\n",
    "\n",
    "                In1 = 0.5*(In+Inew)\n",
    "\n",
    "                y = np.append(y,In1)\n",
    "                i += 1\n",
    "            else:\n",
    "                o += 1\n",
    "            \n",
    "        \n",
    "    else:\n",
    "\n",
    "        I0 = (-h/2)*(f(a)+f(b))\n",
    "        y = np.append(y,I0)\n",
    "\n",
    "        In = I0\n",
    "        In1 = 0.5*(I0 - h*f(a+0.5*b))\n",
    "\n",
    "        i = 2\n",
    "        o = 0\n",
    "        while o < 1:\n",
    "\n",
    "            if np.abs((In1-In)) > np.abs(eps*In):\n",
    "                k = 0\n",
    "                sum = 0\n",
    "                deltan = (-h/(2**(i-1)))\n",
    "\n",
    "                In = In1\n",
    "                \n",
    "                while k <= (2**(i-1)-1):\n",
    "                    sum += f(a+(k+0.5)*deltan)\n",
    "                    k += 1\n",
    "\n",
    "                Inew = deltan*sum\n",
    "\n",
    "                In1 = 0.5*(In+Inew)\n",
    "\n",
    "                y = np.append(y,-In1)\n",
    "                i += 1\n",
    "            else:\n",
    "                o += 1\n",
    "\n",
    "    for j in range(i-2):\n",
    "        x = np.append(x,(h/(2*(j+1)))**2)\n",
    "\n",
    "    I_final = s.neville_algorithm(h**2/(2**(2*i)),i-2,x,y)\n",
    "\n",
    "    return I_final\n",
    "    "
   ]
  },
  {
   "cell_type": "code",
   "execution_count": 245,
   "metadata": {},
   "outputs": [
    {
     "name": "stdout",
     "output_type": "stream",
     "text": [
      "3.540961101298962\n",
      "-1.5565550837775755e-08\n"
     ]
    }
   ],
   "source": [
    "I = integral_romberg(f,0,2,1e-10)\n",
    "\n",
    "exact = 3.5409610461819527733248015434794460\n",
    "\n",
    "deviation = (exact-I)/exact\n",
    "\n",
    "print(I)\n",
    "\n",
    "print(deviation)\n"
   ]
  }
 ],
 "metadata": {
  "kernelspec": {
   "display_name": "base",
   "language": "python",
   "name": "python3"
  },
  "language_info": {
   "codemirror_mode": {
    "name": "ipython",
    "version": 3
   },
   "file_extension": ".py",
   "mimetype": "text/x-python",
   "name": "python",
   "nbconvert_exporter": "python",
   "pygments_lexer": "ipython3",
   "version": "3.11.5"
  }
 },
 "nbformat": 4,
 "nbformat_minor": 2
}
