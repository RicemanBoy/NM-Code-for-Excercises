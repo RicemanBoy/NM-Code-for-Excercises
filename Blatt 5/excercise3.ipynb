{
 "cells": [
  {
   "cell_type": "code",
   "execution_count": 1,
   "metadata": {},
   "outputs": [],
   "source": [
    "import numpy as np\n",
    "\n",
    "import matplotlib.pyplot as plt\n",
    "\n",
    "import sys\n",
    "sys.path.insert(0,\"C:/Users/Dustin/Desktop/Numerische Methoden/VS Code/NM-Code-for-Excercises\")\n",
    "import shortcuts as s"
   ]
  },
  {
   "cell_type": "code",
   "execution_count": 2,
   "metadata": {},
   "outputs": [],
   "source": [
    "#x = 3\n",
    "\n",
    "def f(x):\n",
    "    return (x**4)*(np.log10(x+(1+x**2)**0.5))          #passt, habs gecheckt, f ist ein numpyfloat, ich gehe davon aus, dass mit log, log10 gemeint ist"
   ]
  },
  {
   "cell_type": "code",
   "execution_count": 3,
   "metadata": {},
   "outputs": [],
   "source": [
    "#Extended trapezoidal rule\n",
    "\n",
    "def integral_ext_trap(f,a,b,N):                     #funktioniert\n",
    "    if b >= a:\n",
    "        h = (b-a)/N\n",
    "        x = a\n",
    "        area = 0.5*(f(a)+f(b))\n",
    "        i = 1\n",
    "        while i < N:\n",
    "            area += f(x+i*h)\n",
    "            i += 1\n",
    "        area = h*area\n",
    "    else:\n",
    "        h = (a-b)/N\n",
    "        x = b\n",
    "        area = 0.5*(f(a)+f(b))\n",
    "        i = 1\n",
    "        while i <= N:\n",
    "            area += f(i)\n",
    "            i += 1\n",
    "        area = -h*area\n",
    "    return area"
   ]
  },
  {
   "cell_type": "code",
   "execution_count": 10,
   "metadata": {},
   "outputs": [
    {
     "name": "stdout",
     "output_type": "stream",
     "text": [
      "3.5409610469542954\n",
      "-2.1811667064929294e-10\n"
     ]
    }
   ],
   "source": [
    "I = s.integral_ext_trap(f,0,2,100000)\n",
    "\n",
    "exact = 3.5409610461819527733248015434794460\n",
    "\n",
    "error = (exact-I)/exact\n",
    "\n",
    "print(I)\n",
    "print(error)"
   ]
  },
  {
   "cell_type": "code",
   "execution_count": 5,
   "metadata": {},
   "outputs": [],
   "source": [
    "#Extended Simpson-Rule\n",
    "\n",
    "def integral_ext_simp(f,a,b,N):                         #funktioniert\n",
    "    if b >= a:\n",
    "        h = (b-a)/N\n",
    "        x = a\n",
    "        area = (1/3)*(f(a)+f(b))\n",
    "        i = 1\n",
    "        while i < N:\n",
    "            if (i % 2 == 0):\n",
    "                area += (2/3)*f(x+i*h)\n",
    "            else:\n",
    "                area += (4/3)*f(x+i*h)\n",
    "            i += 1\n",
    "        area = h*area\n",
    "    else:\n",
    "        h = (a-b)/N\n",
    "        x = b\n",
    "        area = (1/3)*(f(a)+f(b))\n",
    "        i = 1\n",
    "        while i < N:\n",
    "            if (i % 2 == 0):\n",
    "                area += (2/3)*f(x+i*h)\n",
    "            else:\n",
    "                area += (4/3)*f(x+i*h)\n",
    "            i += 1\n",
    "        area = h*area\n",
    "    return area"
   ]
  },
  {
   "cell_type": "code",
   "execution_count": 8,
   "metadata": {},
   "outputs": [
    {
     "name": "stdout",
     "output_type": "stream",
     "text": [
      "3.5409610461865273\n",
      "-1.2918986938865157e-12\n"
     ]
    }
   ],
   "source": [
    "I = s.integral_ext_simp(f,0,2,1000)\n",
    "\n",
    "exact = 3.5409610461819527733248015434794460\n",
    "\n",
    "error = (exact-I)/exact\n",
    "\n",
    "print(I)\n",
    "print(error)"
   ]
  },
  {
   "cell_type": "code",
   "execution_count": 7,
   "metadata": {},
   "outputs": [],
   "source": [
    "#Romberg integration\n",
    "\n",
    "def integral_romberg(f,a,b,N):\n",
    "    if b >= a:\n",
    "        h = (b-a)/(2**N)\n",
    "        \n",
    "    else:\n",
    "        h = (a-b)/(2**N)\n",
    "        \n",
    "    return area\n",
    "    "
   ]
  }
 ],
 "metadata": {
  "kernelspec": {
   "display_name": "base",
   "language": "python",
   "name": "python3"
  },
  "language_info": {
   "codemirror_mode": {
    "name": "ipython",
    "version": 3
   },
   "file_extension": ".py",
   "mimetype": "text/x-python",
   "name": "python",
   "nbconvert_exporter": "python",
   "pygments_lexer": "ipython3",
   "version": "3.11.5"
  }
 },
 "nbformat": 4,
 "nbformat_minor": 2
}
