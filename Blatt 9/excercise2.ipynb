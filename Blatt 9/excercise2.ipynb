{
 "cells": [
  {
   "cell_type": "code",
   "execution_count": 631,
   "metadata": {},
   "outputs": [],
   "source": [
    "import numpy as np\n",
    "import matplotlib.pyplot as plt\n",
    "\n",
    "import sys\n",
    "sys.path.insert(0,\"C:/Users/Dustin/Desktop/Numerische Methoden/VS Code/NM-Code-for-Excercises\")\n",
    "import shortcuts as s"
   ]
  },
  {
   "cell_type": "code",
   "execution_count": 632,
   "metadata": {},
   "outputs": [
    {
     "name": "stdout",
     "output_type": "stream",
     "text": [
      "[-7.63555541 -3.57189391  3.71738834  6.49006097]\n"
     ]
    }
   ],
   "source": [
    "A = np.asfarray([[-1,3,2,1],[3,-3,1,5],[2,1,2,-4],[1,5,-4,1]])\n",
    "\n",
    "V_A = np.identity(4)\n",
    "\n",
    "B = 2*np.identity(100)\n",
    "\n",
    "V_B = np.identity(100)\n",
    "\n",
    "B[0][1] = -1\n",
    "B[99][98] = -1\n",
    "\n",
    "\n",
    "i = 1\n",
    "while i < np.shape(B)[0]-1:\n",
    "    B[i][i-1] = -1\n",
    "    B[i][i+1] = -1\n",
    "    i += 1\n",
    "\n",
    "print(np.linalg.eig(A)[0])"
   ]
  },
  {
   "cell_type": "code",
   "execution_count": 633,
   "metadata": {},
   "outputs": [],
   "source": [
    "def sign(x):\n",
    "    if x >= 0:\n",
    "        return 1\n",
    "    else:\n",
    "        return -1\n",
    "    \n",
    "def trace(M):\n",
    "    sum = 0\n",
    "    for i in range(np.shape(M)[0]):\n",
    "        sum += M[i][i]\n",
    "    return sum"
   ]
  },
  {
   "cell_type": "code",
   "execution_count": 634,
   "metadata": {},
   "outputs": [],
   "source": [
    "def jacobi(A,V,sweeps):\n",
    "    symm = 0\n",
    "    u = 0\n",
    "    while u < sweeps:\n",
    "\n",
    "        k = 0\n",
    "        p = 0\n",
    "        q = 0\n",
    "\n",
    "        while k < np.shape(A)[0]:                           #choose p\n",
    "            p = k\n",
    "            q = k + 1\n",
    "            while q < np.shape(A)[0]:                          #choose q\n",
    "\n",
    "                if A[p][q] == 0:\n",
    "                    q += 1\n",
    "                    continue\n",
    "\n",
    "                theta = 0.5*((A[q][q]-A[p][p])/(A[p][q]))\n",
    "\n",
    "                t = (sign(theta))/(np.abs(theta)+((theta**2)+1)**0.5)\n",
    "                #t = 1/(theta-(theta**2+1)**0.5)\n",
    "                #t = -theta + ((theta**2)+1)**0.5\n",
    "\n",
    "                phi = np.arctan(t)\n",
    "\n",
    "                if np.abs(phi) > (np.pi/4):\n",
    "                    t = 1/(2*theta)\n",
    "                    phi = np.arctan(t)\n",
    "\n",
    "                c = 1/((t**2+1)**0.5)\n",
    "                s = t*c\n",
    "\n",
    "                tau = s/(1+c)\n",
    "\n",
    "                A[p][p] -= t*A[p][q]\n",
    "                A[q][q] += t*A[p][q]\n",
    "\n",
    "                r = 0\n",
    "                while r < np.shape(A)[0]:\n",
    "                    \n",
    "                    f = A[r][p]\n",
    "                    g = A[r][q]\n",
    "\n",
    "                    if r == p or r == q:\n",
    "                        r += 1\n",
    "                        continue\n",
    "                        \n",
    "                    symm += np.abs(A[r][p]-A[r][p])\n",
    "                    symm += np.abs(A[r][q]-A[r][q])\n",
    "\n",
    "                    A[r][p] -= s*(f + tau*g)\n",
    "                    A[r][q] += s*(f - tau*g)\n",
    "\n",
    "                    A[p][r] = A[r][p]\n",
    "                    A[q][r] = A[r][q]\n",
    "\n",
    "                    h = V[r][p]\n",
    "                    o = V[r][q]\n",
    "\n",
    "                    V[r][p] = c*h - s*o\n",
    "                    V[r][q] = s*h + c*o\n",
    "\n",
    "                    r += 1\n",
    "                \n",
    "                A[p][q] = 0\n",
    "                A[q][p] = 0\n",
    "                \n",
    "                q += 1\n",
    "                \n",
    "            k += 1\n",
    "        \n",
    "        u += 1\n",
    "    return A,V,symm"
   ]
  },
  {
   "cell_type": "code",
   "execution_count": 635,
   "metadata": {},
   "outputs": [
    {
     "name": "stdout",
     "output_type": "stream",
     "text": [
      "(array([[-1.92095391,  0.        ,  0.        ,  0.        ],\n",
      "       [ 0.        , -6.55777005,  0.        ,  0.        ],\n",
      "       [ 0.        ,  0.        ,  6.19709541,  0.        ],\n",
      "       [ 0.        ,  0.        ,  0.        ,  1.28162856]]), array([[1., 0., 0., 0.],\n",
      "       [0., 1., 0., 0.],\n",
      "       [0., 0., 1., 0.],\n",
      "       [0., 0., 0., 1.]]), 0.0)\n"
     ]
    },
    {
     "name": "stderr",
     "output_type": "stream",
     "text": [
      "C:\\Users\\Dustin\\AppData\\Local\\Temp\\ipykernel_23780\\545651294.py:21: RuntimeWarning: overflow encountered in scalar power\n",
      "  t = (sign(theta))/(np.abs(theta)+((theta**2)+1)**0.5)\n"
     ]
    }
   ],
   "source": [
    "print(jacobi(A,V_A,7))\n",
    "\n",
    "# A[p][p] = (c**2)*A[p][p] + (s**2)*A[p][q] - 2*s*c*A[p][q]\n",
    "# A[q][q] = (s**2)*A[q][q] + (c**2)*A[p][q] + 2*s*c*A[p][q]\n",
    "\n",
    "# A[r][p] = c*A[r][p] - s*A[r][q]\n",
    "# A[r][q] = c*A[r][p] + s*A[r][q]"
   ]
  },
  {
   "cell_type": "code",
   "execution_count": 636,
   "metadata": {},
   "outputs": [
    {
     "name": "stderr",
     "output_type": "stream",
     "text": [
      "C:\\Users\\Dustin\\AppData\\Local\\Temp\\ipykernel_23780\\545651294.py:21: RuntimeWarning: overflow encountered in scalar power\n",
      "  t = (sign(theta))/(np.abs(theta)+((theta**2)+1)**0.5)\n"
     ]
    },
    {
     "ename": "ValueError",
     "evalue": "setting an array element with a sequence. The requested array has an inhomogeneous shape after 1 dimensions. The detected shape was (3,) + inhomogeneous part.",
     "output_type": "error",
     "traceback": [
      "\u001b[1;31m---------------------------------------------------------------------------\u001b[0m",
      "\u001b[1;31mValueError\u001b[0m                                Traceback (most recent call last)",
      "Cell \u001b[1;32mIn[636], line 1\u001b[0m\n\u001b[1;32m----> 1\u001b[0m B,V_B \u001b[38;5;241m=\u001b[39m \u001b[43mnp\u001b[49m\u001b[38;5;241;43m.\u001b[39;49m\u001b[43maround\u001b[49m\u001b[43m(\u001b[49m\u001b[43mjacobi\u001b[49m\u001b[43m(\u001b[49m\u001b[43mB\u001b[49m\u001b[43m,\u001b[49m\u001b[43mV_B\u001b[49m\u001b[43m,\u001b[49m\u001b[38;5;241;43m6\u001b[39;49m\u001b[43m)\u001b[49m\u001b[43m,\u001b[49m\u001b[38;5;241;43m5\u001b[39;49m\u001b[43m)\u001b[49m\n",
      "File \u001b[1;32mc:\\Users\\Dustin\\AppData\\Local\\Programs\\Python\\Python312\\Lib\\site-packages\\numpy\\core\\fromnumeric.py:3377\u001b[0m, in \u001b[0;36maround\u001b[1;34m(a, decimals, out)\u001b[0m\n\u001b[0;32m   3363\u001b[0m \u001b[38;5;129m@array_function_dispatch\u001b[39m(_round_dispatcher)\n\u001b[0;32m   3364\u001b[0m \u001b[38;5;28;01mdef\u001b[39;00m \u001b[38;5;21maround\u001b[39m(a, decimals\u001b[38;5;241m=\u001b[39m\u001b[38;5;241m0\u001b[39m, out\u001b[38;5;241m=\u001b[39m\u001b[38;5;28;01mNone\u001b[39;00m):\n\u001b[0;32m   3365\u001b[0m \u001b[38;5;250m    \u001b[39m\u001b[38;5;124;03m\"\"\"\u001b[39;00m\n\u001b[0;32m   3366\u001b[0m \u001b[38;5;124;03m    Round an array to the given number of decimals.\u001b[39;00m\n\u001b[0;32m   3367\u001b[0m \n\u001b[1;32m   (...)\u001b[0m\n\u001b[0;32m   3375\u001b[0m \n\u001b[0;32m   3376\u001b[0m \u001b[38;5;124;03m    \"\"\"\u001b[39;00m\n\u001b[1;32m-> 3377\u001b[0m     \u001b[38;5;28;01mreturn\u001b[39;00m \u001b[43m_wrapfunc\u001b[49m\u001b[43m(\u001b[49m\u001b[43ma\u001b[49m\u001b[43m,\u001b[49m\u001b[43m \u001b[49m\u001b[38;5;124;43m'\u001b[39;49m\u001b[38;5;124;43mround\u001b[39;49m\u001b[38;5;124;43m'\u001b[39;49m\u001b[43m,\u001b[49m\u001b[43m \u001b[49m\u001b[43mdecimals\u001b[49m\u001b[38;5;241;43m=\u001b[39;49m\u001b[43mdecimals\u001b[49m\u001b[43m,\u001b[49m\u001b[43m \u001b[49m\u001b[43mout\u001b[49m\u001b[38;5;241;43m=\u001b[39;49m\u001b[43mout\u001b[49m\u001b[43m)\u001b[49m\n",
      "File \u001b[1;32mc:\\Users\\Dustin\\AppData\\Local\\Programs\\Python\\Python312\\Lib\\site-packages\\numpy\\core\\fromnumeric.py:56\u001b[0m, in \u001b[0;36m_wrapfunc\u001b[1;34m(obj, method, *args, **kwds)\u001b[0m\n\u001b[0;32m     54\u001b[0m bound \u001b[38;5;241m=\u001b[39m \u001b[38;5;28mgetattr\u001b[39m(obj, method, \u001b[38;5;28;01mNone\u001b[39;00m)\n\u001b[0;32m     55\u001b[0m \u001b[38;5;28;01mif\u001b[39;00m bound \u001b[38;5;129;01mis\u001b[39;00m \u001b[38;5;28;01mNone\u001b[39;00m:\n\u001b[1;32m---> 56\u001b[0m     \u001b[38;5;28;01mreturn\u001b[39;00m \u001b[43m_wrapit\u001b[49m\u001b[43m(\u001b[49m\u001b[43mobj\u001b[49m\u001b[43m,\u001b[49m\u001b[43m \u001b[49m\u001b[43mmethod\u001b[49m\u001b[43m,\u001b[49m\u001b[43m \u001b[49m\u001b[38;5;241;43m*\u001b[39;49m\u001b[43margs\u001b[49m\u001b[43m,\u001b[49m\u001b[43m \u001b[49m\u001b[38;5;241;43m*\u001b[39;49m\u001b[38;5;241;43m*\u001b[39;49m\u001b[43mkwds\u001b[49m\u001b[43m)\u001b[49m\n\u001b[0;32m     58\u001b[0m \u001b[38;5;28;01mtry\u001b[39;00m:\n\u001b[0;32m     59\u001b[0m     \u001b[38;5;28;01mreturn\u001b[39;00m bound(\u001b[38;5;241m*\u001b[39margs, \u001b[38;5;241m*\u001b[39m\u001b[38;5;241m*\u001b[39mkwds)\n",
      "File \u001b[1;32mc:\\Users\\Dustin\\AppData\\Local\\Programs\\Python\\Python312\\Lib\\site-packages\\numpy\\core\\fromnumeric.py:45\u001b[0m, in \u001b[0;36m_wrapit\u001b[1;34m(obj, method, *args, **kwds)\u001b[0m\n\u001b[0;32m     43\u001b[0m \u001b[38;5;28;01mexcept\u001b[39;00m \u001b[38;5;167;01mAttributeError\u001b[39;00m:\n\u001b[0;32m     44\u001b[0m     wrap \u001b[38;5;241m=\u001b[39m \u001b[38;5;28;01mNone\u001b[39;00m\n\u001b[1;32m---> 45\u001b[0m result \u001b[38;5;241m=\u001b[39m \u001b[38;5;28mgetattr\u001b[39m(\u001b[43masarray\u001b[49m\u001b[43m(\u001b[49m\u001b[43mobj\u001b[49m\u001b[43m)\u001b[49m, method)(\u001b[38;5;241m*\u001b[39margs, \u001b[38;5;241m*\u001b[39m\u001b[38;5;241m*\u001b[39mkwds)\n\u001b[0;32m     46\u001b[0m \u001b[38;5;28;01mif\u001b[39;00m wrap:\n\u001b[0;32m     47\u001b[0m     \u001b[38;5;28;01mif\u001b[39;00m \u001b[38;5;129;01mnot\u001b[39;00m \u001b[38;5;28misinstance\u001b[39m(result, mu\u001b[38;5;241m.\u001b[39mndarray):\n",
      "\u001b[1;31mValueError\u001b[0m: setting an array element with a sequence. The requested array has an inhomogeneous shape after 1 dimensions. The detected shape was (3,) + inhomogeneous part."
     ]
    }
   ],
   "source": [
    "B,V_B = np.around(jacobi(B,V_B,6),5)"
   ]
  },
  {
   "cell_type": "code",
   "execution_count": null,
   "metadata": {},
   "outputs": [
    {
     "name": "stdout",
     "output_type": "stream",
     "text": [
      "200.00003\n",
      "2.90416\n",
      "0.5797\n",
      "3.609\n",
      "0.64237\n",
      "3.0752\n",
      "1.22971\n",
      "3.27213\n",
      "1.07998\n",
      "3.15054\n",
      "0.71645\n",
      "3.19708\n",
      "0.72673\n",
      "3.10345\n",
      "1.12501\n",
      "3.0504\n",
      "0.80728\n",
      "3.0181\n",
      "0.96884\n",
      "2.98568\n",
      "1.06933\n",
      "3.01096\n",
      "0.88293\n",
      "3.08124\n",
      "0.95726\n",
      "2.95131\n",
      "1.01466\n",
      "2.81579\n",
      "1.17439\n",
      "2.65945\n",
      "1.24975\n",
      "2.79358\n",
      "1.30227\n",
      "2.73243\n",
      "1.33758\n",
      "2.58016\n",
      "1.45315\n",
      "2.53895\n",
      "1.36826\n",
      "2.47762\n",
      "1.43015\n",
      "2.39667\n",
      "1.57921\n",
      "2.42873\n",
      "1.41159\n",
      "2.45873\n",
      "1.55678\n",
      "2.35359\n",
      "1.5937\n",
      "2.33617\n",
      "1.5727\n",
      "2.43355\n",
      "1.68325\n",
      "2.38692\n",
      "1.63296\n",
      "2.3088\n",
      "1.65556\n",
      "2.23433\n",
      "1.70192\n",
      "2.27969\n",
      "1.68383\n",
      "2.33503\n",
      "1.69302\n",
      "2.2978\n",
      "1.71302\n",
      "2.25416\n",
      "1.72893\n",
      "2.2964\n",
      "1.75598\n",
      "2.2666\n",
      "1.72398\n",
      "2.21045\n",
      "1.78074\n",
      "2.26918\n",
      "1.7592\n",
      "2.22103\n",
      "1.73466\n",
      "2.26028\n",
      "1.78338\n",
      "2.23944\n",
      "1.76636\n",
      "2.22599\n",
      "1.80034\n",
      "2.15777\n",
      "1.77699\n",
      "2.18953\n",
      "1.79411\n",
      "2.21873\n",
      "1.82734\n",
      "2.17838\n",
      "1.79944\n",
      "2.2141\n",
      "1.83202\n",
      "2.18555\n",
      "1.80696\n",
      "2.20354\n",
      "1.81466\n",
      "2.16305\n",
      "1.82048\n",
      "2.17727\n",
      "1.91243\n"
     ]
    }
   ],
   "source": [
    "print(trace(B))\n",
    "\n",
    "for i in range(np.shape(B)[0]):\n",
    "    print(B[i][i])"
   ]
  }
 ],
 "metadata": {
  "kernelspec": {
   "display_name": "Python 3",
   "language": "python",
   "name": "python3"
  },
  "language_info": {
   "codemirror_mode": {
    "name": "ipython",
    "version": 3
   },
   "file_extension": ".py",
   "mimetype": "text/x-python",
   "name": "python",
   "nbconvert_exporter": "python",
   "pygments_lexer": "ipython3",
   "version": "3.12.1"
  }
 },
 "nbformat": 4,
 "nbformat_minor": 2
}
