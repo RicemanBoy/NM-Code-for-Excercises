{
 "cells": [
  {
   "cell_type": "code",
   "execution_count": 1,
   "metadata": {},
   "outputs": [],
   "source": [
    "import numpy as np\n",
    "\n",
    "import sys\n",
    "sys.path.insert(0,\"C:/Users/Dustin/Desktop/Numerische Methoden/VS Code/NM-Code-for-Excercises\")\n",
    "import shortcuts as s"
   ]
  },
  {
   "cell_type": "code",
   "execution_count": 2,
   "metadata": {},
   "outputs": [],
   "source": [
    "def f(x):\n",
    "    return 1 + np.cos(x)-x**(0.5)"
   ]
  },
  {
   "cell_type": "code",
   "execution_count": 3,
   "metadata": {},
   "outputs": [],
   "source": [
    "def secante(x0,x1,f,precision):                     #works\n",
    "    counter = 0\n",
    "\n",
    "    a0 = x0\n",
    "    a1 = x1\n",
    "\n",
    "    i  = 0\n",
    "\n",
    "    while i < 1:\n",
    "        \n",
    "        if np.abs(f(a1)) > precision:\n",
    "            a0  = ((f(a1))/(f(a0)-f(a1)))*(a1-a0) + a1\n",
    "            counter += 1\n",
    "            if np.abs(f(a0)) > precision:\n",
    "                a1  = ((f(a0))/(f(a1)-f(a0)))*(a0-a1) + a0\n",
    "                counter += 1  \n",
    "            else:\n",
    "                return counter, a0\n",
    "        else:\n",
    "            return counter, a1"
   ]
  },
  {
   "cell_type": "code",
   "execution_count": 24,
   "metadata": {},
   "outputs": [
    {
     "data": {
      "text/plain": [
       "(7, 1.3905898305782116)"
      ]
     },
     "execution_count": 24,
     "metadata": {},
     "output_type": "execute_result"
    }
   ],
   "source": [
    "s.secante(0.5,4,f,1e-15)"
   ]
  },
  {
   "cell_type": "code",
   "execution_count": 5,
   "metadata": {},
   "outputs": [],
   "source": [
    "def regula_falsi(x0,x1,f,precision):            #works\n",
    "    counter = 0 \n",
    "\n",
    "    a = x0\n",
    "    b = x1\n",
    "\n",
    "    anew = 0\n",
    "\n",
    "    i  = 0\n",
    "\n",
    "    while i < 1:\n",
    "        \n",
    "        if np.abs(f(anew)) > precision:\n",
    "            anew  = ((f(b))/(f(a)-f(b)))*(b-a) + b\n",
    "            counter += 1\n",
    "            if f(b)*f(anew) < 0:\n",
    "                b = anew\n",
    "                a = a\n",
    "            else:\n",
    "                b = b\n",
    "                a = anew\n",
    "        else:\n",
    "            return counter, anew"
   ]
  },
  {
   "cell_type": "code",
   "execution_count": 23,
   "metadata": {},
   "outputs": [
    {
     "data": {
      "text/plain": [
       "(8, 1.3905898305782116)"
      ]
     },
     "execution_count": 23,
     "metadata": {},
     "output_type": "execute_result"
    }
   ],
   "source": [
    "s.regula_falsi(0.5,4,f,1e-15)"
   ]
  },
  {
   "cell_type": "code",
   "execution_count": 7,
   "metadata": {},
   "outputs": [],
   "source": [
    "def bisection(x0,x1,f,precision):\n",
    "    counter = 0\n",
    "    eps = np.abs(x1 - x0)\n",
    "    i = 0\n",
    "    a = x0\n",
    "    b = x1\n",
    "    while i < 1:\n",
    "        if np.abs(f(a)) > precision and np.abs(f(b)) > precision:\n",
    "            if f(a)*f(a+0.5*eps) < 0:\n",
    "                a = a\n",
    "                b = a + 0.5*eps\n",
    "                eps = eps/2\n",
    "                counter += 1\n",
    "            else:\n",
    "                a = a + 0.5*eps\n",
    "                b = b\n",
    "                eps = eps/2\n",
    "                counter += 1\n",
    "        else:\n",
    "            if np.abs(f(a)) > precision:\n",
    "                return counter, a\n",
    "            else:\n",
    "                return counter, b\n",
    "\n"
   ]
  },
  {
   "cell_type": "code",
   "execution_count": 26,
   "metadata": {},
   "outputs": [
    {
     "data": {
      "text/plain": [
       "(52, 1.390589830578211)"
      ]
     },
     "execution_count": 26,
     "metadata": {},
     "output_type": "execute_result"
    }
   ],
   "source": [
    "s.bisection(0.5,4,f,1e-15)"
   ]
  }
 ],
 "metadata": {
  "kernelspec": {
   "display_name": "base",
   "language": "python",
   "name": "python3"
  },
  "language_info": {
   "codemirror_mode": {
    "name": "ipython",
    "version": 3
   },
   "file_extension": ".py",
   "mimetype": "text/x-python",
   "name": "python",
   "nbconvert_exporter": "python",
   "pygments_lexer": "ipython3",
   "version": "3.11.5"
  }
 },
 "nbformat": 4,
 "nbformat_minor": 2
}
