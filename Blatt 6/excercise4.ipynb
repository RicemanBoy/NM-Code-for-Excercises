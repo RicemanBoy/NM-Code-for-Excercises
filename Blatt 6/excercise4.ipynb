{
 "cells": [
  {
   "cell_type": "code",
   "execution_count": 1,
   "metadata": {},
   "outputs": [],
   "source": [
    "import numpy as np\n",
    "\n",
    "\n",
    "import sys\n",
    "sys.path.insert(0,\"C:/Users/Dustin/Desktop/Numerische Methoden/VS Code/NM-Code-for-Excercises\")\n",
    "import shortcuts as s"
   ]
  },
  {
   "cell_type": "code",
   "execution_count": 15,
   "metadata": {},
   "outputs": [],
   "source": [
    "def f(x):\n",
    "    return x*np.exp(x)-1\n",
    "\n",
    "def df(x):\n",
    "    return np.exp(x)+x*np.exp(x)\n",
    "\n",
    "def phi1(x):\n",
    "    return np.exp(-x)\n",
    "\n",
    "def phi2(x):\n",
    "    return (1+x)/(1+np.exp(x))\n",
    "\n",
    "def phi3(x):\n",
    "    return 1+x-x*np.exp(x)\n",
    "\n",
    "x0 = 0.5"
   ]
  },
  {
   "cell_type": "code",
   "execution_count": 16,
   "metadata": {},
   "outputs": [
    {
     "name": "stdout",
     "output_type": "stream",
     "text": [
      "[0.5        0.60653066 0.60653066 ... 0.56755963 0.56755963 0.56690721]\n"
     ]
    }
   ],
   "source": [
    "x = np.asfarray([x0])\n",
    "i = 0\n",
    "while i < 10:\n",
    "    x = np.append(x,phi1(x))\n",
    "    i += 1\n",
    "\n",
    "print(x)"
   ]
  },
  {
   "cell_type": "code",
   "execution_count": 17,
   "metadata": {},
   "outputs": [
    {
     "name": "stdout",
     "output_type": "stream",
     "text": [
      "[0.5        0.566311   0.566311   ... 0.56714329 0.56714329 0.56714329]\n"
     ]
    }
   ],
   "source": [
    "x = np.asfarray([x0])\n",
    "i = 0\n",
    "while i < 10:\n",
    "    x = np.append(x,phi2(x))\n",
    "    i += 1\n",
    "\n",
    "print(x)"
   ]
  },
  {
   "cell_type": "code",
   "execution_count": 18,
   "metadata": {},
   "outputs": [
    {
     "name": "stdout",
     "output_type": "stream",
     "text": [
      "[ 0.5         0.67563936  0.67563936 ...  0.92492068  0.92492068\n",
      " -0.40742241]\n"
     ]
    }
   ],
   "source": [
    "x = np.asfarray([x0])\n",
    "i = 0\n",
    "while i < 10:\n",
    "    x = np.append(x,phi3(x))\n",
    "    i += 1\n",
    "\n",
    "print(x)"
   ]
  },
  {
   "cell_type": "code",
   "execution_count": 20,
   "metadata": {},
   "outputs": [
    {
     "name": "stdout",
     "output_type": "stream",
     "text": [
      "[0.5        0.57102044 0.57102044 ... 0.56714329 0.56714329 0.56714329]\n"
     ]
    }
   ],
   "source": [
    "x = np.asfarray([x0])\n",
    "i = 0\n",
    "while i < 10:\n",
    "    x = np.append(x, x - f(x)/df(x))\n",
    "    i += 1\n",
    "\n",
    "print(x)"
   ]
  }
 ],
 "metadata": {
  "kernelspec": {
   "display_name": "base",
   "language": "python",
   "name": "python3"
  },
  "language_info": {
   "codemirror_mode": {
    "name": "ipython",
    "version": 3
   },
   "file_extension": ".py",
   "mimetype": "text/x-python",
   "name": "python",
   "nbconvert_exporter": "python",
   "pygments_lexer": "ipython3",
   "version": "3.11.5"
  }
 },
 "nbformat": 4,
 "nbformat_minor": 2
}
