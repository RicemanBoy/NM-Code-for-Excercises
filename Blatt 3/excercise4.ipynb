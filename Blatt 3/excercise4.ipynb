{
 "cells": [
  {
   "cell_type": "code",
   "execution_count": 24,
   "metadata": {},
   "outputs": [],
   "source": [
    "import numpy as np\n",
    "\n",
    "import sys\n",
    "sys.path.insert(0,\"C:/Users/Dustin/Desktop/Numerische Methoden/VS Code/NM-Code-for-Excercises\")\n",
    "import shortcuts as s"
   ]
  },
  {
   "cell_type": "code",
   "execution_count": 25,
   "metadata": {},
   "outputs": [
    {
     "name": "stdout",
     "output_type": "stream",
     "text": [
      "10\n"
     ]
    }
   ],
   "source": [
    "a = np.array([0,1,1,1,1,1,1,1,1,1])       #ignorier den ersten Wert\n",
    "b = np.array([2.0,2.0,2.0,2.0,2.0,2.0,2.0,2.0,2.0,2.0])\n",
    "c = np.array([-1,-1,-1,-1,-1,-1,-1,-1,-1,0])        #ignorier den letzten Wert\n",
    "\n",
    "vecb = np.array([1,-1,1,-1,1,-1,1,-1,1,-1])\n",
    "\n",
    "\n",
    "N = np.shape(b)[0]\n",
    "\n",
    "print(N)"
   ]
  },
  {
   "cell_type": "code",
   "execution_count": 26,
   "metadata": {},
   "outputs": [
    {
     "name": "stdout",
     "output_type": "stream",
     "text": [
      "[0 0 1 1 1 1 1 1 1 1]\n",
      "[4.  2.  2.  2.  2.  2.  2.  2.  2.  1.5]\n",
      "[-1 -1 -1 -1 -1 -1 -1 -1  0  0]\n"
     ]
    }
   ],
   "source": [
    "alpha = -1\n",
    "beta = 1\n",
    "gamma = -b[0]\n",
    "\n",
    "##########################################\n",
    "\n",
    "b[0] = b[0] - gamma\n",
    "\n",
    "\n",
    "b[N-1] = b[N-1] - (alpha*beta)/gamma\n",
    "\n",
    "\n",
    "a[1] = 0\n",
    "c[N-2] = 0\n",
    "\n",
    "print(a)\n",
    "print(b)\n",
    "print(c)"
   ]
  },
  {
   "cell_type": "code",
   "execution_count": 27,
   "metadata": {},
   "outputs": [
    {
     "name": "stdout",
     "output_type": "stream",
     "text": [
      "L: \n",
      " [[1.         0.         0.         0.         0.         0.\n",
      "  0.         0.         0.         0.        ]\n",
      " [0.         1.         0.         0.         0.         0.\n",
      "  0.         0.         0.         0.        ]\n",
      " [0.         0.5        1.         0.         0.         0.\n",
      "  0.         0.         0.         0.        ]\n",
      " [0.         0.         0.4        1.         0.         0.\n",
      "  0.         0.         0.         0.        ]\n",
      " [0.         0.         0.         0.41666667 1.         0.\n",
      "  0.         0.         0.         0.        ]\n",
      " [0.         0.         0.         0.         0.4137931  1.\n",
      "  0.         0.         0.         0.        ]\n",
      " [0.         0.         0.         0.         0.         0.41428571\n",
      "  1.         0.         0.         0.        ]\n",
      " [0.         0.         0.         0.         0.         0.\n",
      "  0.41420118 1.         0.         0.        ]\n",
      " [0.         0.         0.         0.         0.         0.\n",
      "  0.         0.41421569 1.         0.        ]\n",
      " [0.         0.         0.         0.         0.         0.\n",
      "  0.         0.         0.4142132  1.        ]]\n",
      "\n",
      " R: \n",
      " [[ 4.         -1.          0.          0.          0.          0.\n",
      "   0.          0.          0.          0.        ]\n",
      " [ 0.          2.         -1.          0.          0.          0.\n",
      "   0.          0.          0.          0.        ]\n",
      " [ 0.          0.          2.5        -1.          0.          0.\n",
      "   0.          0.          0.          0.        ]\n",
      " [ 0.          0.          0.          2.4        -1.          0.\n",
      "   0.          0.          0.          0.        ]\n",
      " [ 0.          0.          0.          0.          2.41666667 -1.\n",
      "   0.          0.          0.          0.        ]\n",
      " [ 0.          0.          0.          0.          0.          2.4137931\n",
      "  -1.          0.          0.          0.        ]\n",
      " [ 0.          0.          0.          0.          0.          0.\n",
      "   2.41428571 -1.          0.          0.        ]\n",
      " [ 0.          0.          0.          0.          0.          0.\n",
      "   0.          2.41420118 -1.          0.        ]\n",
      " [ 0.          0.          0.          0.          0.          0.\n",
      "   0.          0.          2.41421569  0.        ]\n",
      " [ 0.          0.          0.          0.          0.          0.\n",
      "   0.          0.          0.          1.5       ]]\n"
     ]
    }
   ],
   "source": [
    "f = c\n",
    "\n",
    "e = np.zeros(N)\n",
    "\n",
    "d = np.zeros(N)          #ignorier den ersten Wert\n",
    "\n",
    "##############################################################################################################\n",
    "\n",
    "e[0] = b[0]\n",
    "d[1] = a[1]/e[0]\n",
    "\n",
    "i = 1\n",
    "\n",
    "while i < N:                    #BERECHNUNG VON e,d,f. FUNKTIONIERT\n",
    "    e[i] = b[i] - d[i]*f[i-1]\n",
    "    if (i+1) == N:\n",
    "        i = i + 1\n",
    "        continue\n",
    "    d[i+1] = a[i+1]/e[i]\n",
    "    i += 1\n",
    "\n",
    "\n",
    "L = np.identity(N)\n",
    "R = np.identity(N)\n",
    "\n",
    "j = 0\n",
    "\n",
    "while j < N:                                      #EINSETZEN IN MATRIZEN L,R FUNKTIONIERT!\n",
    "    R[j][j] = e[j]\n",
    "    if j == N-1:\n",
    "        j += 1\n",
    "        continue\n",
    "    L[j+1][j] = d[j+1]\n",
    "    R[j][j+1] = f[j]\n",
    "    j += 1\n",
    "\n",
    "\n",
    "#print(np.matrix(d))\n",
    "print(\"L: \\n\", np.matrix(L))\n",
    "\n",
    "#print(np.matrix(e))#print(np.matrix(f))\n",
    "\n",
    "print(\"\\n R: \\n\", np.matrix(R))\n",
    "\n",
    "#LR-Zerlegung FUNKTIONIERT, HABS GETESTET"
   ]
  },
  {
   "cell_type": "code",
   "execution_count": 28,
   "metadata": {},
   "outputs": [
    {
     "name": "stdout",
     "output_type": "stream",
     "text": [
      "Das ist die Lösung x des LGS mit Tridiagonalen Matrizen:  [ 0.17690355 -0.29238579  0.41522843 -0.46192893  0.49137056 -0.47918782\n",
      "  0.53299492 -0.41319797  0.70659898 -1.13773266]\n"
     ]
    }
   ],
   "source": [
    "x = np.zeros(N)\n",
    "\n",
    "y = np.zeros(N)\n",
    "\n",
    "y[0] = vecb[0]\n",
    "\n",
    "i = 1\n",
    "while i < N:                          #Berechnung von y, FUNKTIONIERT, HABS GECHECKT\n",
    "    j = 0\n",
    "    y[i] = vecb[i]\n",
    "    while j < i:\n",
    "        y[i] -= L[i][j]*y[j]\n",
    "        j += 1\n",
    "    i += 1\n",
    "\n",
    "#y = np.around(y,5)\n",
    "\n",
    "#print(y)\n",
    "\n",
    "x[N-1] = y[N-1]/(R[N-1][N-1])\n",
    "\n",
    "i = N-2                                 #Berechnung von x, FUNKTIONIERT HABS GETESTET\n",
    "while i >= 0:\n",
    "    j = N-1\n",
    "    x[i] = y[i]\n",
    "    while j > i:\n",
    "        x[i] -=  R[i][j]*x[j]\n",
    "        j -= 1\n",
    "    x[i] = x[i]/R[i][i]\n",
    "    i -= 1\n",
    "\n",
    "\n",
    "#x = np.around(x,5)\n",
    "\n",
    "print(\"Das ist die Lösung x des LGS mit Tridiagonalen Matrizen: \", x)"
   ]
  },
  {
   "cell_type": "code",
   "execution_count": 29,
   "metadata": {},
   "outputs": [],
   "source": [
    "# a = np.array([0,1,1,1,1,1,1,1,1,1])       #ignorier den ersten Wert\n",
    "# b = np.array([2.0,2.0,2.0,2.0,2.0,2.0,2.0,2.0,2.0,2.0])\n",
    "# c = np.array([-1,-1,-1,-1,-1,-1,-1,-1,-1,0])        #ignorier den letzten Wert\n",
    "\n",
    "# s.tridiag_LU_decomp(a,b,c)"
   ]
  },
  {
   "cell_type": "code",
   "execution_count": 31,
   "metadata": {},
   "outputs": [
    {
     "ename": "AttributeError",
     "evalue": "module 'shortcuts' has no attribute 'tridiag_LU_decomp'",
     "output_type": "error",
     "traceback": [
      "\u001b[1;31m---------------------------------------------------------------------------\u001b[0m",
      "\u001b[1;31mAttributeError\u001b[0m                            Traceback (most recent call last)",
      "\u001b[1;32mc:\\Users\\Dustin\\Desktop\\Numerische Methoden\\VS Code\\NM-Code-for-Excercises\\Blatt 3\\excercise4.ipynb Cell 7\u001b[0m line \u001b[0;36m9\n\u001b[0;32m      <a href='vscode-notebook-cell:/c%3A/Users/Dustin/Desktop/Numerische%20Methoden/VS%20Code/NM-Code-for-Excercises/Blatt%203/excercise4.ipynb#X10sZmlsZQ%3D%3D?line=5'>6</a>\u001b[0m b \u001b[39m=\u001b[39m np\u001b[39m.\u001b[39marray([\u001b[39m2.0\u001b[39m,\u001b[39m2.0\u001b[39m,\u001b[39m2.0\u001b[39m,\u001b[39m2.0\u001b[39m,\u001b[39m2.0\u001b[39m,\u001b[39m2.0\u001b[39m,\u001b[39m2.0\u001b[39m,\u001b[39m2.0\u001b[39m,\u001b[39m2.0\u001b[39m,\u001b[39m2.0\u001b[39m])\n\u001b[0;32m      <a href='vscode-notebook-cell:/c%3A/Users/Dustin/Desktop/Numerische%20Methoden/VS%20Code/NM-Code-for-Excercises/Blatt%203/excercise4.ipynb#X10sZmlsZQ%3D%3D?line=6'>7</a>\u001b[0m c \u001b[39m=\u001b[39m np\u001b[39m.\u001b[39marray([\u001b[39m-\u001b[39m\u001b[39m1\u001b[39m,\u001b[39m-\u001b[39m\u001b[39m1\u001b[39m,\u001b[39m-\u001b[39m\u001b[39m1\u001b[39m,\u001b[39m-\u001b[39m\u001b[39m1\u001b[39m,\u001b[39m-\u001b[39m\u001b[39m1\u001b[39m,\u001b[39m-\u001b[39m\u001b[39m1\u001b[39m,\u001b[39m-\u001b[39m\u001b[39m1\u001b[39m,\u001b[39m-\u001b[39m\u001b[39m1\u001b[39m,\u001b[39m-\u001b[39m\u001b[39m1\u001b[39m,\u001b[39m0\u001b[39m])        \u001b[39m#ignorier den letzten Wert\u001b[39;00m\n\u001b[1;32m----> <a href='vscode-notebook-cell:/c%3A/Users/Dustin/Desktop/Numerische%20Methoden/VS%20Code/NM-Code-for-Excercises/Blatt%203/excercise4.ipynb#X10sZmlsZQ%3D%3D?line=8'>9</a>\u001b[0m s\u001b[39m.\u001b[39mtridiag_LU_decomp(a,b,c)\n",
      "\u001b[1;31mAttributeError\u001b[0m: module 'shortcuts' has no attribute 'tridiag_LU_decomp'"
     ]
    }
   ],
   "source": [
    "import sys\n",
    "sys.path.insert(0,\"C:/Users/Dustin/Desktop/Numerische Methoden/VS Code/NM-Code-for-Excercises\")\n",
    "import shortcuts as s\n",
    "\n",
    "a = np.array([0,1,1,1,1,1,1,1,1,1])       #ignorier den ersten Wert\n",
    "b = np.array([2.0,2.0,2.0,2.0,2.0,2.0,2.0,2.0,2.0,2.0])\n",
    "c = np.array([-1,-1,-1,-1,-1,-1,-1,-1,-1,0])        #ignorier den letzten Wert\n",
    "\n",
    "s.tridiag_LU_decomp(a,b,c)"
   ]
  }
 ],
 "metadata": {
  "kernelspec": {
   "display_name": "base",
   "language": "python",
   "name": "python3"
  },
  "language_info": {
   "codemirror_mode": {
    "name": "ipython",
    "version": 3
   },
   "file_extension": ".py",
   "mimetype": "text/x-python",
   "name": "python",
   "nbconvert_exporter": "python",
   "pygments_lexer": "ipython3",
   "version": "3.11.5"
  }
 },
 "nbformat": 4,
 "nbformat_minor": 2
}
