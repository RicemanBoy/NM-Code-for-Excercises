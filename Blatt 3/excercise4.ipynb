{
 "cells": [
  {
   "cell_type": "code",
   "execution_count": 53,
   "metadata": {},
   "outputs": [],
   "source": [
    "import numpy as np\n",
    "\n",
    "import sys\n",
    "sys.path.insert(0,\"C:/Users/Dustin/Desktop/Numerische Methoden/VS Code/NM-Code-for-Excercises\")\n",
    "import shortcuts as s"
   ]
  },
  {
   "cell_type": "code",
   "execution_count": 54,
   "metadata": {},
   "outputs": [
    {
     "name": "stdout",
     "output_type": "stream",
     "text": [
      "10\n"
     ]
    }
   ],
   "source": [
    "a = np.asfarray([1,1,1,1,1,1,1,1,1,1])       #ignorier den ersten Wert\n",
    "b = np.asfarray([2,2,2,2,2,2,2,2,2,2])\n",
    "c = np.asfarray([-1,-1,-1,-1,-1,-1,-1,-1,-1,-1])        #ignorier den letzten Wert\n",
    "\n",
    "vecb = np.array([1,-1,1,-1,1,-1,1,-1,1,-1])\n",
    "\n",
    "\n",
    "N = np.shape(b)[0]\n",
    "\n",
    "print(N)"
   ]
  },
  {
   "cell_type": "code",
   "execution_count": 55,
   "metadata": {},
   "outputs": [
    {
     "name": "stdout",
     "output_type": "stream",
     "text": [
      "[1. 1. 1. 1. 1. 1. 1. 1. 1. 1.]\n",
      "[4.  2.  2.  2.  2.  2.  2.  2.  2.  1.5]\n",
      "[-1. -1. -1. -1. -1. -1. -1. -1. -1. -1.]\n"
     ]
    }
   ],
   "source": [
    "alpha = c[N-1]\n",
    "beta = a[0]\n",
    "gamma = -b[0]\n",
    "\n",
    "##########################################\n",
    "\n",
    "b[0] = b[0] - gamma\n",
    "\n",
    "\n",
    "b[N-1] = b[N-1] - (alpha*beta)/gamma\n",
    "\n",
    "\n",
    "#a[1] = 0\n",
    "#c[N-2] = 0\n",
    "\n",
    "print(a)\n",
    "print(b)\n",
    "print(c)\n",
    "\n",
    "u = np.zeros(N)\n",
    "u[0] = gamma\n",
    "u[N-1] = alpha\n",
    "\n",
    "v = np.zeros(N)\n",
    "v[0] = 1\n",
    "v[N-1] = beta/gamma"
   ]
  },
  {
   "cell_type": "code",
   "execution_count": 56,
   "metadata": {},
   "outputs": [
    {
     "ename": "AttributeError",
     "evalue": "module 'shortcuts' has no attribute 'matrix_dot'",
     "output_type": "error",
     "traceback": [
      "\u001b[1;31m---------------------------------------------------------------------------\u001b[0m",
      "\u001b[1;31mAttributeError\u001b[0m                            Traceback (most recent call last)",
      "\u001b[1;32mc:\\Users\\Dustin\\Desktop\\Numerische Methoden\\VS Code\\NM-Code-for-Excercises\\Blatt 3\\excercise4.ipynb Cell 4\u001b[0m line \u001b[0;36m5\n\u001b[0;32m      <a href='vscode-notebook-cell:/c%3A/Users/Dustin/Desktop/Numerische%20Methoden/VS%20Code/NM-Code-for-Excercises/Blatt%203/excercise4.ipynb#W5sZmlsZQ%3D%3D?line=0'>1</a>\u001b[0m L1,R1,y \u001b[39m=\u001b[39m s\u001b[39m.\u001b[39mtridiag_LU_decomp(a,b,c,vecb)\n\u001b[0;32m      <a href='vscode-notebook-cell:/c%3A/Users/Dustin/Desktop/Numerische%20Methoden/VS%20Code/NM-Code-for-Excercises/Blatt%203/excercise4.ipynb#W5sZmlsZQ%3D%3D?line=2'>3</a>\u001b[0m L2,R2,z \u001b[39m=\u001b[39m s\u001b[39m.\u001b[39mtridiag_LU_decomp(a,b,c,u)\n\u001b[1;32m----> <a href='vscode-notebook-cell:/c%3A/Users/Dustin/Desktop/Numerische%20Methoden/VS%20Code/NM-Code-for-Excercises/Blatt%203/excercise4.ipynb#W5sZmlsZQ%3D%3D?line=4'>5</a>\u001b[0m x \u001b[39m=\u001b[39m y \u001b[39m-\u001b[39m s\u001b[39m.\u001b[39mmatrix_dot(((s\u001b[39m.\u001b[39mmatrix_dot(v,y))\u001b[39m/\u001b[39m(\u001b[39m1\u001b[39m\u001b[39m+\u001b[39m(s\u001b[39m.\u001b[39mmatrix_dot(v,z)))),z)\n\u001b[0;32m      <a href='vscode-notebook-cell:/c%3A/Users/Dustin/Desktop/Numerische%20Methoden/VS%20Code/NM-Code-for-Excercises/Blatt%203/excercise4.ipynb#W5sZmlsZQ%3D%3D?line=6'>7</a>\u001b[0m \u001b[39mprint\u001b[39m(\u001b[39m\"\u001b[39m\u001b[39mSolution: \u001b[39m\u001b[39m\"\u001b[39m, x)\n",
      "\u001b[1;31mAttributeError\u001b[0m: module 'shortcuts' has no attribute 'matrix_dot'"
     ]
    }
   ],
   "source": [
    "L1,R1,y = s.tridiag_LU_decomp(a,b,c,vecb)\n",
    "\n",
    "L2,R2,z = s.tridiag_LU_decomp(a,b,c,u)\n",
    "\n",
    "x = y - s.matrix_dot(((s.matrix_dot(v,y))/(1+(s.matrix_dot(v,z)))),z)\n",
    "\n",
    "print(\"Solution: \", x)"
   ]
  }
 ],
 "metadata": {
  "kernelspec": {
   "display_name": "base",
   "language": "python",
   "name": "python3"
  },
  "language_info": {
   "codemirror_mode": {
    "name": "ipython",
    "version": 3
   },
   "file_extension": ".py",
   "mimetype": "text/x-python",
   "name": "python",
   "nbconvert_exporter": "python",
   "pygments_lexer": "ipython3",
   "version": "3.11.5"
  }
 },
 "nbformat": 4,
 "nbformat_minor": 2
}
