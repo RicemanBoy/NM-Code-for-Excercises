{
 "cells": [
  {
   "cell_type": "code",
   "execution_count": 1,
   "metadata": {},
   "outputs": [],
   "source": [
    "import numpy as np\n",
    "\n",
    "import sys\n",
    "sys.path.insert(0,\"C:/Users/Dustin/Desktop/Numerische Methoden/VS Code/NM-Code-for-Excercises\")\n",
    "import shortcuts as s"
   ]
  },
  {
   "cell_type": "code",
   "execution_count": 2,
   "metadata": {},
   "outputs": [
    {
     "name": "stdout",
     "output_type": "stream",
     "text": [
      "10\n"
     ]
    }
   ],
   "source": [
    "a = np.asfarray([1,1,1,1,1,1,1,1,1,1])       #ignorier den ersten Wert\n",
    "b = np.asfarray([2,2,2,2,2,2,2,2,2,2])\n",
    "c = np.asfarray([-1,-1,-1,-1,-1,-1,-1,-1,-1,-1])        #ignorier den letzten Wert\n",
    "\n",
    "vecb = np.array([0,-1,2,-3,4,-5,6,-7,8,-9])\n",
    "\n",
    "\n",
    "N = np.shape(b)[0]\n",
    "\n",
    "print(N)"
   ]
  },
  {
   "cell_type": "code",
   "execution_count": 3,
   "metadata": {},
   "outputs": [
    {
     "name": "stdout",
     "output_type": "stream",
     "text": [
      "[1. 1. 1. 1. 1. 1. 1. 1. 1. 1.]\n",
      "[4.  2.  2.  2.  2.  2.  2.  2.  2.  1.5]\n",
      "[-1. -1. -1. -1. -1. -1. -1. -1. -1. -1.]\n"
     ]
    }
   ],
   "source": [
    "alpha = c[N-1]\n",
    "beta = a[0]\n",
    "gamma = -b[0]\n",
    "\n",
    "##########################################\n",
    "\n",
    "b[0] = b[0] - gamma\n",
    "\n",
    "\n",
    "b[N-1] = b[N-1] - (alpha*beta)/gamma\n",
    "\n",
    "\n",
    "#a[1] = 0\n",
    "#c[N-2] = 0\n",
    "\n",
    "print(a)\n",
    "print(b)\n",
    "print(c)\n",
    "\n",
    "u = np.zeros(N)\n",
    "u[0] = gamma\n",
    "u[N-1] = alpha\n",
    "\n",
    "v = np.zeros(N)\n",
    "v[0] = 1\n",
    "v[N-1] = beta/gamma"
   ]
  },
  {
   "cell_type": "code",
   "execution_count": 4,
   "metadata": {},
   "outputs": [
    {
     "name": "stdout",
     "output_type": "stream",
     "text": [
      "Solution:  [ 2.         -1.03658537  0.92682927 -1.18292683  1.56097561 -2.06097561\n",
      "  2.43902439 -3.18292683  3.07317073 -5.03658537]\n"
     ]
    }
   ],
   "source": [
    "L1,R1,y = s.tridiag_LU_decomp(a,b,c,vecb)\n",
    "\n",
    "L2,R2,z = s.tridiag_LU_decomp(a,b,c,u)\n",
    "\n",
    "x = y - ((s.matrix_dot(v,y))/(1+(s.matrix_dot(v,z))))*z\n",
    "\n",
    "print(\"Solution: \", x)"
   ]
  }
 ],
 "metadata": {
  "kernelspec": {
   "display_name": "base",
   "language": "python",
   "name": "python3"
  },
  "language_info": {
   "codemirror_mode": {
    "name": "ipython",
    "version": 3
   },
   "file_extension": ".py",
   "mimetype": "text/x-python",
   "name": "python",
   "nbconvert_exporter": "python",
   "pygments_lexer": "ipython3",
   "version": "3.11.2"
  }
 },
 "nbformat": 4,
 "nbformat_minor": 2
}
