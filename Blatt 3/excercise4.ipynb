{
 "cells": [
  {
   "cell_type": "code",
   "execution_count": 98,
   "metadata": {},
   "outputs": [],
   "source": [
    "import numpy as np\n",
    "\n",
    "import sys\n",
    "sys.path.insert(0,\"C:/Users/Dustin/Desktop/Numerische Methoden/VS Code/NM-Code-for-Excercises\")\n",
    "import shortcuts as s"
   ]
  },
  {
   "cell_type": "code",
   "execution_count": 99,
   "metadata": {},
   "outputs": [
    {
     "name": "stdout",
     "output_type": "stream",
     "text": [
      "10\n"
     ]
    }
   ],
   "source": [
    "a = np.asfarray([1,1,1,1,1,1,1,1,1,1])       #ignorier den ersten Wert\n",
    "b = np.asfarray([2,2,2,2,2,2,2,2,2,2])\n",
    "c = np.asfarray([-1,-1,-1,-1,-1,-1,-1,-1,-1,-1])        #ignorier den letzten Wert\n",
    "\n",
    "vecb = np.array([1,-1,1,-1,1,-1,1,-1,1,-1])\n",
    "\n",
    "\n",
    "N = np.shape(b)[0]\n",
    "\n",
    "print(N)"
   ]
  },
  {
   "cell_type": "code",
   "execution_count": 100,
   "metadata": {},
   "outputs": [
    {
     "name": "stdout",
     "output_type": "stream",
     "text": [
      "[1. 1. 1. 1. 1. 1. 1. 1. 1. 1.]\n",
      "[4.  2.  2.  2.  2.  2.  2.  2.  2.  1.5]\n",
      "[-1. -1. -1. -1. -1. -1. -1. -1. -1. -1.]\n"
     ]
    }
   ],
   "source": [
    "alpha = c[N-1]\n",
    "beta = a[0]\n",
    "gamma = -b[0]\n",
    "\n",
    "##########################################\n",
    "\n",
    "b[0] = b[0] - gamma\n",
    "\n",
    "\n",
    "b[N-1] = b[N-1] - (alpha*beta)/gamma\n",
    "\n",
    "\n",
    "#a[1] = 0\n",
    "#c[N-2] = 0\n",
    "\n",
    "print(a)\n",
    "print(b)\n",
    "print(c)\n",
    "\n",
    "u = np.zeros(N)\n",
    "u[0] = gamma\n",
    "u[N-1] = alpha\n",
    "\n",
    "v = np.zeros(N)\n",
    "v[0] = 1\n",
    "v[N-1] = beta/gamma"
   ]
  },
  {
   "cell_type": "code",
   "execution_count": 101,
   "metadata": {},
   "outputs": [
    {
     "data": {
      "text/plain": [
       "(array([[1.        , 0.        , 0.        , 0.        , 0.        ,\n",
       "         0.        , 0.        , 0.        , 0.        , 0.        ],\n",
       "        [0.25      , 1.        , 0.        , 0.        , 0.        ,\n",
       "         0.        , 0.        , 0.        , 0.        , 0.        ],\n",
       "        [0.        , 0.44444444, 1.        , 0.        , 0.        ,\n",
       "         0.        , 0.        , 0.        , 0.        , 0.        ],\n",
       "        [0.        , 0.        , 0.40909091, 1.        , 0.        ,\n",
       "         0.        , 0.        , 0.        , 0.        , 0.        ],\n",
       "        [0.        , 0.        , 0.        , 0.41509434, 1.        ,\n",
       "         0.        , 0.        , 0.        , 0.        , 0.        ],\n",
       "        [0.        , 0.        , 0.        , 0.        , 0.4140625 ,\n",
       "         1.        , 0.        , 0.        , 0.        , 0.        ],\n",
       "        [0.        , 0.        , 0.        , 0.        , 0.        ,\n",
       "         0.41423948, 1.        , 0.        , 0.        , 0.        ],\n",
       "        [0.        , 0.        , 0.        , 0.        , 0.        ,\n",
       "         0.        , 0.41420912, 1.        , 0.        , 0.        ],\n",
       "        [0.        , 0.        , 0.        , 0.        , 0.        ,\n",
       "         0.        , 0.        , 0.41421433, 1.        , 0.        ],\n",
       "        [0.        , 0.        , 0.        , 0.        , 0.        ,\n",
       "         0.        , 0.        , 0.        , 0.41421343, 1.        ]]),\n",
       " array([[ 4.        , -1.        ,  0.        ,  0.        ,  0.        ,\n",
       "          0.        ,  0.        ,  0.        ,  0.        ,  0.        ],\n",
       "        [ 0.        ,  2.25      , -1.        ,  0.        ,  0.        ,\n",
       "          0.        ,  0.        ,  0.        ,  0.        ,  0.        ],\n",
       "        [ 0.        ,  0.        ,  2.44444444, -1.        ,  0.        ,\n",
       "          0.        ,  0.        ,  0.        ,  0.        ,  0.        ],\n",
       "        [ 0.        ,  0.        ,  0.        ,  2.40909091, -1.        ,\n",
       "          0.        ,  0.        ,  0.        ,  0.        ,  0.        ],\n",
       "        [ 0.        ,  0.        ,  0.        ,  0.        ,  2.41509434,\n",
       "         -1.        ,  0.        ,  0.        ,  0.        ,  0.        ],\n",
       "        [ 0.        ,  0.        ,  0.        ,  0.        ,  0.        ,\n",
       "          2.4140625 , -1.        ,  0.        ,  0.        ,  0.        ],\n",
       "        [ 0.        ,  0.        ,  0.        ,  0.        ,  0.        ,\n",
       "          0.        ,  2.41423948, -1.        ,  0.        ,  0.        ],\n",
       "        [ 0.        ,  0.        ,  0.        ,  0.        ,  0.        ,\n",
       "          0.        ,  0.        ,  2.41420912, -1.        ,  0.        ],\n",
       "        [ 0.        ,  0.        ,  0.        ,  0.        ,  0.        ,\n",
       "          0.        ,  0.        ,  0.        ,  2.41421433, -1.        ],\n",
       "        [ 0.        ,  0.        ,  0.        ,  0.        ,  0.        ,\n",
       "          0.        ,  0.        ,  0.        ,  0.        ,  1.91421343]]))"
      ]
     },
     "execution_count": 101,
     "metadata": {},
     "output_type": "execute_result"
    }
   ],
   "source": [
    "s.tridiag_LU_decomp(a,b,c)"
   ]
  },
  {
   "cell_type": "code",
   "execution_count": 102,
   "metadata": {},
   "outputs": [
    {
     "name": "stdout",
     "output_type": "stream",
     "text": [
      "Das ist die Lösung x des LGS mit Tridiagonalen Matrizen:  [ 0.17690355 -0.29238579  0.41522843 -0.46192893  0.49137056 -0.47918782\n",
      "  0.53299492 -0.41319797  0.70659898 -1.13773266]\n"
     ]
    }
   ],
   "source": [
    "x = np.zeros(N)\n",
    "\n",
    "y = np.zeros(N)\n",
    "\n",
    "y[0] = vecb[0]\n",
    "\n",
    "i = 1\n",
    "while i < N:                          #Berechnung von y, FUNKTIONIERT, HABS GECHECKT\n",
    "    j = 0\n",
    "    y[i] = vecb[i]\n",
    "    while j < i:\n",
    "        y[i] -= L[i][j]*y[j]\n",
    "        j += 1\n",
    "    i += 1\n",
    "\n",
    "#y = np.around(y,5)\n",
    "\n",
    "#print(y)\n",
    "\n",
    "x[N-1] = y[N-1]/(R[N-1][N-1])\n",
    "\n",
    "i = N-2                                 #Berechnung von x, FUNKTIONIERT HABS GETESTET\n",
    "while i >= 0:\n",
    "    j = N-1\n",
    "    x[i] = y[i]\n",
    "    while j > i:\n",
    "        x[i] -=  R[i][j]*x[j]\n",
    "        j -= 1\n",
    "    x[i] = x[i]/R[i][i]\n",
    "    i -= 1\n",
    "\n",
    "\n",
    "#x = np.around(x,5)\n",
    "\n",
    "print(\"Das ist die Lösung x des LGS mit Tridiagonalen Matrizen: \", x)"
   ]
  }
 ],
 "metadata": {
  "kernelspec": {
   "display_name": "base",
   "language": "python",
   "name": "python3"
  },
  "language_info": {
   "codemirror_mode": {
    "name": "ipython",
    "version": 3
   },
   "file_extension": ".py",
   "mimetype": "text/x-python",
   "name": "python",
   "nbconvert_exporter": "python",
   "pygments_lexer": "ipython3",
   "version": "3.11.5"
  }
 },
 "nbformat": 4,
 "nbformat_minor": 2
}
