{
 "cells": [
  {
   "cell_type": "code",
   "execution_count": 1,
   "metadata": {},
   "outputs": [],
   "source": [
    "import numpy as np\n",
    "\n",
    "import sys\n",
    "sys.path.insert(0,\"C:/Users/Dustin/Desktop/Numerische Methoden/VS Code/NM-Code-for-Excercises\")\n",
    "import shortcuts as s"
   ]
  },
  {
   "cell_type": "code",
   "execution_count": 2,
   "metadata": {},
   "outputs": [],
   "source": [
    "A = np.asfarray([[4,1,5,3,7,3,5,1],[12,31,1,5,7,2,17,3],[ 1,2,3,4,5,6,7,4],[ 6,3,7,11,10,9,3,7],[ 3,9,8,3,2,1,4,1],[ 4,15,12,3,17,1,1,4],[5,2,12,14,12,12,13,1],[9,9,7,5,3,1,1,2]])\n",
    "\n",
    "b0,b1,b2 = np.asfarray([[1,4,5,8,9,3,1,3],[5,0,1,3,7,0,0,7],[1,0,1,0,1,0,6,5]])\n",
    "\n",
    "# dim = np.shape(A)[0]\n",
    "\n",
    "# L = np.identity(dim)\n",
    "# R = np.zeros((dim,dim))"
   ]
  },
  {
   "cell_type": "code",
   "execution_count": 5,
   "metadata": {},
   "outputs": [
    {
     "name": "stdout",
     "output_type": "stream",
     "text": [
      "x0:  [[-1.94549052 -1.52401527  0.62086079  5.19554277 -0.28613228 -9.00432487\n",
      "   3.05526187  5.35463627]]\n",
      "\n",
      " x1:  [[-0.29196368 -1.77093359  0.85873856  3.43544085 -0.21924593 -7.42608365\n",
      "   2.64910758  3.90620759]]\n",
      "\n",
      " x2:  [[ 1.90819272  1.45249195  0.54621087 -5.07502194 -0.66536623  8.63567736\n",
      "  -2.59414805 -3.86997952]]\n"
     ]
    }
   ],
   "source": [
    "def crout(A):\n",
    "    dim = np.shape(A)[0]\n",
    "    L = np.identity(dim)\n",
    "    R = np.zeros((dim,dim))\n",
    "\n",
    "    i = 0\n",
    "\n",
    "    while i < dim:\n",
    "\n",
    "        j = i\n",
    "        while j < dim:\n",
    "            sum = 0\n",
    "            for k in range(i):\n",
    "                sum += L[i][k]*R[k][j]\n",
    "            R[i][j] = A[i][j] - sum\n",
    "            j += 1\n",
    "\n",
    "        j = i\n",
    "\n",
    "        p = i\n",
    "        while p < dim:\n",
    "            sum = 0\n",
    "            for k in range(j):\n",
    "                sum += L[p][k]*R[k][j]\n",
    "            L[p][j] = (1/R[j][j])*(A[p][j] - sum)\n",
    "            p += 1\n",
    "        i += 1\n",
    "\n",
    "    return L,R\n",
    "\n",
    "\n",
    "def lgs_solver_crout(A,b):\n",
    "    L,R = crout(A)\n",
    "    N = np.shape(L)[0]\n",
    "    y = np.zeros(N)\n",
    "    y[0] = b[0]/L[0][0]\n",
    "    i = 1\n",
    "    while i < N:\n",
    "        sum = 0\n",
    "        for j in range(i):\n",
    "            sum += L[i][j]*y[j]\n",
    "        y[i] = (1/L[i][i])*(b[i]-sum)\n",
    "        i += 1\n",
    "    \n",
    "    x = np.zeros(N)\n",
    "\n",
    "    x[N-1] = (y[N-1]/(R[N-1][N-1]))\n",
    "\n",
    "    i = N - 2\n",
    "\n",
    "    while i >= 0:\n",
    "        sum = 0\n",
    "        j = i + 1\n",
    "        while j < N:\n",
    "            sum += R[i][j]*x[j]\n",
    "            j += 1\n",
    "        x[i] = (1/R[i][i])*(y[i]-sum)\n",
    "        i -= 1\n",
    "    return x\n",
    "\n",
    "\n",
    "L,R = crout(A)\n",
    "\n",
    "#print(np.matrix(L))\n",
    "#print(np.matrix(R))\n",
    "\n",
    "x0 = s.lgs_solver_crout(A,b0)\n",
    "\n",
    "x1 = s.lgs_solver_crout(A,b1)\n",
    "\n",
    "x2 = s.lgs_solver_crout(A,b2)\n",
    "\n",
    "print(\"x0: \", np.matrix(x0))\n",
    "print(\"\\n x1: \", np.matrix(x1))\n",
    "print(\"\\n x2: \", np.matrix(x2))"
   ]
  }
 ],
 "metadata": {
  "kernelspec": {
   "display_name": "base",
   "language": "python",
   "name": "python3"
  },
  "language_info": {
   "codemirror_mode": {
    "name": "ipython",
    "version": 3
   },
   "file_extension": ".py",
   "mimetype": "text/x-python",
   "name": "python",
   "nbconvert_exporter": "python",
   "pygments_lexer": "ipython3",
   "version": "3.11.5"
  }
 },
 "nbformat": 4,
 "nbformat_minor": 2
}
