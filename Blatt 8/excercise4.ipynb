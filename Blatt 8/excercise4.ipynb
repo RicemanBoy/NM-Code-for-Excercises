{
 "cells": [
  {
   "cell_type": "code",
   "execution_count": 73,
   "metadata": {},
   "outputs": [],
   "source": [
    "import numpy as np\n",
    "from numpy.linalg import inv\n",
    "from numpy.linalg import norm\n",
    "import matplotlib.pyplot as plt\n",
    "\n",
    "import sys\n",
    "sys.path.insert(0,\"C:/Users/Dustin/Desktop/Numerische Methoden/VS Code/NM-Code-for-Excercises\")\n",
    "import shortcuts as s"
   ]
  },
  {
   "cell_type": "code",
   "execution_count": 74,
   "metadata": {},
   "outputs": [],
   "source": [
    "A = np.asfarray([[1,-2,2],[-2,0,0],[2,0,2]])\n",
    "\n",
    "x0 = np.asfarray([1,1,1])"
   ]
  },
  {
   "cell_type": "code",
   "execution_count": 78,
   "metadata": {},
   "outputs": [
    {
     "name": "stdout",
     "output_type": "stream",
     "text": [
      "Eigenvector:  [ 0.66666667 -0.33333333  0.66666667]\n",
      "1.0\n",
      "Biggest Eigenvalue:  4.0\n"
     ]
    }
   ],
   "source": [
    "x = np.zeros(len(x0))\n",
    "\n",
    "precision = 1e-10\n",
    "\n",
    "while norm(x-x0) > precision:\n",
    "    x = x0\n",
    "    x0 = s.matrix_dot(A,x0)/norm(s.matrix_dot(A,x0))\n",
    "\n",
    "print(\"Eigenvector: \", x0)\n",
    "\n",
    "print(norm(x0))\n",
    "\n",
    "x0 = s.matrix_dot(A,x0)\n",
    "\n",
    "lambda0 = norm(x0)\n",
    "\n",
    "print(\"Biggest Eigenvalue: \", lambda0)"
   ]
  }
 ],
 "metadata": {
  "kernelspec": {
   "display_name": "Python 3",
   "language": "python",
   "name": "python3"
  },
  "language_info": {
   "codemirror_mode": {
    "name": "ipython",
    "version": 3
   },
   "file_extension": ".py",
   "mimetype": "text/x-python",
   "name": "python",
   "nbconvert_exporter": "python",
   "pygments_lexer": "ipython3",
   "version": "3.12.1"
  }
 },
 "nbformat": 4,
 "nbformat_minor": 2
}
