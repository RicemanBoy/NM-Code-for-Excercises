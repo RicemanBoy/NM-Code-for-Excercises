{
 "cells": [
  {
   "cell_type": "code",
   "execution_count": 264,
   "metadata": {},
   "outputs": [],
   "source": [
    "import numpy as np\n",
    "from numpy.linalg import inv\n",
    "from numpy.linalg import norm\n",
    "import matplotlib.pyplot as plt\n",
    "\n",
    "import sys\n",
    "sys.path.insert(0,\"C:/Users/Dustin/Desktop/Numerische Methoden/VS Code/NM-Code-for-Excercises\")\n",
    "import shortcuts as s"
   ]
  },
  {
   "cell_type": "code",
   "execution_count": 265,
   "metadata": {},
   "outputs": [],
   "source": [
    "A = np.asfarray([[1,-2,2],[-2,0,0],[2,0,2]])\n",
    "\n",
    "x0 = np.asfarray([1,1,1])"
   ]
  },
  {
   "cell_type": "code",
   "execution_count": 266,
   "metadata": {},
   "outputs": [
    {
     "name": "stdout",
     "output_type": "stream",
     "text": [
      "Eigenvector:  [ 0.66666667 -0.33333333  0.66666667]\n",
      "1.0\n",
      "Biggest Eigenvalue:  4.0\n"
     ]
    }
   ],
   "source": [
    "x1 = np.zeros(len(x0))              #first eigenvector\n",
    "\n",
    "x = x0                              #need this as cache to realise termination request\n",
    "\n",
    "precision = 1e-10\n",
    "\n",
    "while norm(x1-x) > precision:\n",
    "    x1 = x\n",
    "    x = s.matrix_dot(A,x)/norm(s.matrix_dot(A,x))\n",
    "\n",
    "x1 = x\n",
    "\n",
    "print(\"Eigenvector: \", x1)\n",
    "\n",
    "print(norm(x1))\n",
    "\n",
    "lambda1 = norm(s.matrix_dot(A,x1))\n",
    "\n",
    "print(\"Biggest Eigenvalue: \", lambda1)\n"
   ]
  },
  {
   "cell_type": "code",
   "execution_count": 267,
   "metadata": {},
   "outputs": [
    {
     "name": "stdout",
     "output_type": "stream",
     "text": [
      "Second Eigenvector:  [ 0.66666667  0.66666667 -0.33333333]\n",
      "Second Biggest Eigenvalue:  -2.0\n"
     ]
    }
   ],
   "source": [
    "x = x0\n",
    "\n",
    "x = x - s.matrix_dot(x,x1)*x1\n",
    "\n",
    "xnewprime = s.matrix_dot(A,x)\n",
    "\n",
    "alpha1 = s.matrix_dot(xnewprime,x1)\n",
    "\n",
    "xnew = (xnewprime - alpha1*x1)/(norm(xnewprime - alpha1*x1))\n",
    "\n",
    "xnewprimeold = np.zeros(len(xnewprime))\n",
    "\n",
    "precision = 1e-10\n",
    "\n",
    "while norm(xnewprime + xnewprimeold) > precision:\n",
    "    #print(x,xnew)\n",
    "    xnewprimeold = xnewprime\n",
    "    x = xnew\n",
    "    xnewprime = s.matrix_dot(A,x)\n",
    "    alpha1 = s.matrix_dot(xnewprime,x1)\n",
    "    #print(xnewprime,xnewprimeold)\n",
    "    xnew = (xnewprime - alpha1*x1)/(norm(xnewprime - alpha1*x1))\n",
    "\n",
    "x2 = xnewprime/norm(xnewprime)\n",
    "\n",
    "print(\"Second Eigenvector: \", x2)\n",
    "\n",
    "#lambda2 = s.matrix_dot(A,x2)[0]/x2[0]\n",
    "\n",
    "lambda2 = -norm(s.matrix_dot(A,x2))\n",
    "\n",
    "print(\"Second Biggest Eigenvalue: \", lambda2)"
   ]
  },
  {
   "cell_type": "markdown",
   "metadata": {},
   "source": [
    "To determine the third eigenvalue, one can use the same method as before, but now we gotta substract the contributions from lambda1 and lambda2!"
   ]
  }
 ],
 "metadata": {
  "kernelspec": {
   "display_name": "Python 3",
   "language": "python",
   "name": "python3"
  },
  "language_info": {
   "codemirror_mode": {
    "name": "ipython",
    "version": 3
   },
   "file_extension": ".py",
   "mimetype": "text/x-python",
   "name": "python",
   "nbconvert_exporter": "python",
   "pygments_lexer": "ipython3",
   "version": "3.11.2"
  }
 },
 "nbformat": 4,
 "nbformat_minor": 2
}
